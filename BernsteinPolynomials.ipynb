{
 "cells": [
  {
   "cell_type": "markdown",
   "source": [
    "# Bernstein Polynomials"
   ],
   "metadata": {}
  },
  {
   "cell_type": "markdown",
   "source": [
    "##### Setup:\n",
    "Before solving any problems, I will write all of my setup code here, for use in the rest of the notebook."
   ],
   "metadata": {}
  },
  {
   "cell_type": "code",
   "execution_count": 26,
   "source": [
    "from matplotlib import pyplot as plt\n",
    "import numpy as np"
   ],
   "outputs": [],
   "metadata": {}
  },
  {
   "cell_type": "markdown",
   "source": [
    "___"
   ],
   "metadata": {}
  },
  {
   "cell_type": "markdown",
   "source": [
    "## Problem 1:\n",
    "Let $V$ be a vector space. Prove that a norm ${\\left\\lVert\\cdot\\right\\rVert}$ on $V$ defines a continuous function ${\\left\\lVert\\cdot\\right\\rVert}: V \\rightarrow [0,\\infty)$"
   ],
   "metadata": {}
  },
  {
   "cell_type": "markdown",
   "source": [
    "##### Solution:\n",
    "By *Lemma 1* on page 19, we have that if ${\\left\\lVert\\cdot\\right\\rVert}$ is a norm on a vector space $V$, then $\\big\\lvert {\\left\\lVert x\\right\\rVert}-{\\left\\lVert y\\right\\rVert}\\big\\rvert\\leq {\\left\\lVert x- y\\right\\rVert}$ implies that a norm is a continuous function from $V$ to $\\mathbb{R}$.\n",
    "\n",
    "This is implied since $\\forall x,y \\in X$ if $x$ is close to $y$ then ${\\left\\lVert x\\right\\rVert}$ and ${\\left\\lVert y\\right\\rVert}$ are also close. Which is precisely the epsilon-delta definition of a continuous function. Therefore, to show continuity all we need to do is prove *Lemma 1*.\n",
    "\n",
    "*Proof*:\n",
    "$${\\left\\lVert x\\right\\rVert} = {\\left\\lVert x+y-y\\right\\rVert}$$\n",
    "Then since ${\\left\\lVert \\cdot\\right\\rVert}$ is a norm on $V$, ${\\left\\lVert\\cdot\\right\\rVert}$ has the triangle inequality property. So we use that to get:\n",
    "$${\\left\\lVert x-y+y\\right\\rVert} \\leq {\\left\\lVert x-y\\right\\rVert}+{\\left\\lVert y\\right\\rVert}$$\n",
    "Which then gives:\n",
    "$${\\left\\lVert x\\right\\rVert}- {\\left\\lVert y\\right\\rVert}\\leq {\\left\\lVert x-y\\right\\rVert}$$\n",
    "Then by reversing the roles of $x$ and $y$, we get:\n",
    "$${\\left\\lVert y\\right\\rVert}- {\\left\\lVert x\\right\\rVert}\\leq {\\left\\lVert x-y\\right\\rVert}$$\n",
    "Now since: \n",
    "$${\\left\\lVert y\\right\\rVert}- {\\left\\lVert x\\right\\rVert} = {\\left\\lVert x\\right\\rVert}- {\\left\\lVert y\\right\\rVert}\\leq {\\left\\lVert x-y\\right\\rVert}$$\n",
    "We finally have:\n",
    "$$\\big\\lvert {\\left\\lVert x\\right\\rVert}-{\\left\\lVert y\\right\\rVert}\\big\\rvert\\leq {\\left\\lVert x- y\\right\\rVert}$$\n",
    "Thus the lemma has been proven to be true, so ${\\left\\lVert\\cdot\\right\\rVert}$ is a continuous function from a vector space $V$ to $\\mathbb{R}$"
   ],
   "metadata": {}
  },
  {
   "cell_type": "markdown",
   "source": [
    "___"
   ],
   "metadata": {}
  },
  {
   "cell_type": "markdown",
   "source": [
    "## Problem 2:\n",
    "Let $V = \\mathbb{R}^{2}$. Sketch the unit ball for the norms ${\\left\\lVert \\cdot\\right\\rVert}_{1}$, ${\\left\\lVert \\cdot\\right\\rVert}_{2}$, ${\\left\\lVert \\cdot\\right\\rVert}_{\\infty}$."
   ],
   "metadata": {}
  },
  {
   "cell_type": "markdown",
   "source": [
    "##### Solution:\n",
    "I will be using matplotlib in order to sketch the unit balls in $\\mathbb{R}^{2}$. I will be supplementing the sketches with a short explanation of the shape. In the next cell I define the code that generates the sketches."
   ],
   "metadata": {}
  },
  {
   "cell_type": "code",
   "execution_count": 113,
   "source": [
    "\"\"\"\n",
    "Written by Eduardo Escoto on 10/11/19\n",
    "Plots the norm function on the unit ball!\n",
    "\"\"\"\n",
    "def plotUnitBall(normFunc, normName):\n",
    "    x = np.linspace(-1, 1, num=1000)\n",
    "    fig, ax = plt.subplots(figsize=(6,6))\n",
    "    ax.plot(x, normFunc(x), color=\"blue\")\n",
    "    ax.plot(x, -normFunc(x), color=\"blue\")\n",
    "    ax.axhline(y=0, color = \"black\", linestyle=\"--\")\n",
    "    ax.axvline(x=0, color = \"black\", linestyle=\"--\")\n",
    "    ax.set_title(\"Unit Ball in {}\".format(normName))\n",
    "    return ax"
   ],
   "outputs": [],
   "metadata": {}
  },
  {
   "cell_type": "markdown",
   "source": [
    "###### Norm ${\\left\\lVert \\cdot\\right\\rVert}_{1}$\n",
    "For ${\\left\\lVert \\cdot\\right\\rVert}_{1} = {\\vert x\\vert} + {\\vert y \\vert}$ for $x,y \\in \\mathbb{R}^{2}$\n",
    "\n",
    "On the interval on $x,y \\in [-1,1]$ we will have a diamond with its vertices on $(\\pm 1,0), (0,\\pm 1)$ and the shape being defined by $\\vert y\\vert = 1-\\vert x\\vert$ on $x \\in [0,1]$."
   ],
   "metadata": {}
  },
  {
   "cell_type": "code",
   "execution_count": 114,
   "source": [
    "norm_1 = lambda x: 1-abs(x)\n",
    "plotUnitBall(norm_1, \"$||\\cdot||_{1}$\");"
   ],
   "outputs": [
    {
     "output_type": "display_data",
     "data": {
      "text/plain": [
       "<Figure size 432x432 with 1 Axes>"
      ],
      "image/png": "[encoded data removed]"
     },
     "metadata": {
      "needs_background": "light"
     }
    }
   ],
   "metadata": {}
  },
  {
   "cell_type": "markdown",
   "source": [
    "###### Norm ${\\left\\lVert \\cdot\\right\\rVert}_{2}$\n",
    "For ${\\left\\lVert \\cdot\\right\\rVert}_{2} = \\sqrt{{\\vert x\\vert}^{2} + {\\vert y \\vert}^{2}}$ for $x,y \\in \\mathbb{R}^{2}$\n",
    "\n",
    "On the interval on $x,y \\in [-1,1]$ we will have a circle with radius 1. This is clear because of the definition of the ${\\left\\lVert \\cdot\\right\\rVert}_{2}$ norm. Where we get the familiar equation of a circle as: \n",
    "$$\\sqrt{x^2 + y^2}= 1 \\implies x^2 + y^2 = 1$$\n",
    "So clearly the unit ball in this norm has to be a circle."
   ],
   "metadata": {}
  },
  {
   "cell_type": "code",
   "execution_count": 115,
   "source": [
    "norm_2 = lambda x: np.sqrt(1-abs(x)**2)\n",
    "plotUnitBall(norm_2, \"$||\\cdot||_{2}$\");"
   ],
   "outputs": [
    {
     "output_type": "display_data",
     "data": {
      "text/plain": [
       "<Figure size 432x432 with 1 Axes>"
      ],
      "image/png": "[encoded data removed]"
     },
     "metadata": {
      "needs_background": "light"
     }
    }
   ],
   "metadata": {}
  },
  {
   "cell_type": "markdown",
   "source": [
    "###### Norm ${\\left\\lVert \\cdot\\right\\rVert}_{\\infty}$\n",
    "For ${\\left\\lVert \\cdot\\right\\rVert}_{\\infty} = \\max{\\left\\{\\vert x\\vert,\\vert y\\vert\\right\\}}$ for $x,y \\in \\mathbb{R}^{2}$\n",
    "\n",
    "On the interval on $x,y \\in [-1,1]$ we will have a square due to the \"conditional\" nature of the maximum. When $\\max{\\left\\{\\vert x\\vert,\\vert y\\vert\\right\\}}=1$ then we have that either $x = 1$ or $y = 1$. Which gives the square shape."
   ],
   "metadata": {}
  },
  {
   "cell_type": "code",
   "execution_count": 116,
   "source": [
    "norm_inf = lambda x: np.where(abs(x) < 1, 1, 0)\n",
    "plotUnitBall(norm_inf, \"$||\\cdot||_{\\infty}$\");"
   ],
   "outputs": [
    {
     "output_type": "display_data",
     "data": {
      "text/plain": [
       "<Figure size 432x432 with 1 Axes>"
      ],
      "image/png": "[encoded data removed]"
     },
     "metadata": {
      "needs_background": "light"
     }
    }
   ],
   "metadata": {}
  },
  {
   "cell_type": "markdown",
   "source": [
    "___"
   ],
   "metadata": {}
  },
  {
   "cell_type": "markdown",
   "source": [
    "## Problem 3:\n",
    "We say that a sequence of functions $\\{f_{n}\\}$ defined on $[a,b]$ converges uniformly to a function $f$ if for each $\\epsilon \\gt 0$, there is an $N$, which depends only on $\\epsilon$ and $[a,b]$ but is independent of $x$, such that\n",
    "$$\\left\\vert f_{n}(x) - f(x)\\right\\vert \\lt \\epsilon \\text{, if } n \\gt N \\text{, for all } x \\in [a,b] \\mathrm{.}$$\n",
    "\n",
    "Define the sequence of numbers $M_{n} = {\\left\\lVert f_{n}-f\\right\\rVert}_{\\infty}$. Prove that $\\left\\{f_{n}\\right\\}$ converges uniformly to $f$ in $[a,b]$ if and only if $M_{n} \\rightarrow 0$ as $n \\rightarrow \\infty$."
   ],
   "metadata": {}
  },
  {
   "cell_type": "markdown",
   "source": [
    "##### Solution:\n",
    "**Firstly I will prove in the \"$\\implies$\" direction.**\n",
    "\n",
    "We want to show that if $\\left\\{f_{n}\\right\\}$ converges uniformly to $f$ in $[a,b]$ then  $M_{n} \\rightarrow 0$ as $n \\rightarrow \\infty$.\n",
    "\n",
    "*Proof*:\n",
    "If $\\left\\{f_{n}\\right\\}$ converges uniformly to $f$ in $[a,b]$ then we have: \n",
    "$$\\left\\vert f_{n}(x) - f(x)\\right\\vert \\lt \\epsilon \\text{, if } n \\gt N \\text{, for all } x \\in [a,b] \\mathrm{.}$$\n",
    "Additionally, by definition of the ${\\lVert\\cdot\\rVert}_{\\infty}$ norm, we have:\n",
    "$${\\lVert f_{n}(x) - f(x) \\rVert}_{\\infty} = \\sup_{x\\in[a,b]}{\\lvert f_{n}(x) - f(x)\\rvert}$$\n",
    "Thus, by definition of the supremum, and the uniform convergence, we have: \n",
    "$${\\lVert f_{n}(x) - f(x) \\rVert}_{\\infty} \\leq \\epsilon \\text{, if } n \\gt N \\text{, for all } x \\in [a,b] \\mathrm{.}$$\n",
    "Now let $M_{n} = {\\left\\lVert f_{n}-f\\right\\rVert}_{\\infty}$, so we now have: \n",
    "$$M_{n} = {\\lVert f_{n}(x) - f(x) \\rVert}_{\\infty} \\leq \\epsilon \\text{, if } n \\gt N \\text{, for all } x \\in [a,b] \\mathrm{.}$$\n",
    "So clearly $M_{n}$ converges to $0$ as $n \\rightarrow \\infty$ by the definition of convergence applied to $M_{n}$. \n",
    "\n",
    "**Next, I will now show the \"$\\impliedby$\" direction.**\n",
    "\n",
    "We want to show that if $M_{n} \\rightarrow 0$ as $n \\rightarrow \\infty$ then $\\left\\{f_{n}\\right\\}$ converges uniformly to $f$ in $[a,b]$.\n",
    "\n",
    "*Proof*:\n",
    "If $M_{n} \\rightarrow 0$ as $n \\rightarrow \\infty$ where $M_{n} = {\\left\\lVert f_{n}-f\\right\\rVert}_{\\infty}$. Then by definition of convergence we have that for any $\\epsilon \\gt 0$ there is an $N$ so that: \n",
    "$$M_{n} = {\\left\\lVert f_{n}-f\\right\\rVert}_{\\infty} \\lt \\epsilon \\text{ for any } n \\gt N$$\n",
    "We then have by definition of the ${\\lVert\\cdot\\rVert}_{\\infty}$ norm that:\n",
    "$$M_{n} = {\\lvert f_{n}(x) - f(x)\\rvert}\\lt \\epsilon \\text{ if } n \\gt N \\text{, for all } x \\in [a,b]$$\n",
    "which is the definition of uniform convergence.\n",
    "\n",
    "Thus since $M_{n}$ converges, then $\\{f_{n}\\}$ converges to $f$.\n",
    "\n",
    "We have now shown both directions to be true. **QED**"
   ],
   "metadata": {}
  },
  {
   "cell_type": "markdown",
   "source": [
    "___"
   ],
   "metadata": {}
  },
  {
   "cell_type": "markdown",
   "source": [
    "## Problem 4:\n",
    "### Part (a)\n",
    "Prove that the sequence of functions given by \n",
    "$$f_{n}(x) = \\left(\\frac{n-1}{n}\\right)x^{2}+\\frac{1}{n}x\\text{, for } 0\\leq x\\leq 1$$\n",
    "converges uniformly to $f(x) = x^{2}$ in $[0,1]$."
   ],
   "metadata": {}
  },
  {
   "cell_type": "markdown",
   "source": [
    "##### Solution:\n",
    "Let $M_{n} = {\\lVert f_{n} - f\\rVert}_{\\infty}$\n",
    "\n",
    "Thus we have $M_{n} = \\sup_{x\\in[0,1]}{\\lvert f_{n}(x) - f(x)\\rvert}$.\n",
    "\n",
    "After plugging in the functions we have:\n",
    "$$M_{n} = \\sup_{x\\in[0,1]}{\\left\\lvert\\left(\\frac{n-1}{n}\\right)x^{2}+\\frac{1}{n}x - x^{2}\\right\\rvert} = \\sup_{x\\in[0,1]}\\left\\lvert \\frac{1}{n}x - \\frac{1}{n}x^{2}\\right\\rvert = \\sup_{x\\in[0,1]}\\left\\lvert \\frac{1}{n}\\left(x -x^{2}\\right)\\right\\rvert$$\n",
    "\n",
    "We observe $M_{n}$ to be a concave function with its maximum function value to lie at $x=\\frac{1}{2}$.\n",
    "\n",
    "Thus by plugging in $x=\\frac{1}{2}$, we have:\n",
    "\n",
    "$M_{n} = \\lvert f_{n}\\left(\\frac{1}{2}\\right) - f\\left(\\frac{1}{2}\\right)\\rvert$. Which after plugging in function values is:\n",
    "$$M_{n} = \\left\\lvert \\frac{1}{n}\\left(\\frac{1}{2}-\\frac{1}{4}\\right)\\right\\rvert = \\frac{1}{4n}$$\n",
    "\n",
    "Finally, we have $\\lim_{n\\rightarrow \\infty}M_{n}=\\lim_{n\\rightarrow \\infty}\\frac{1}{4n} = 0$\n",
    "Thus $M_{n}\\rightarrow 0$ as $n \\rightarrow \\infty$ which we proved in problem 3 implies that $\\{f_{n}(x)\\}$ converges uniformly to $f$."
   ],
   "metadata": {}
  },
  {
   "cell_type": "markdown",
   "source": [
    "## Problem 4:\n",
    "### Part (b)\n",
    "Does the sequence $f_{n}(x) = x^{n}$ defined in $[0,1)$ converge uniformly?"
   ],
   "metadata": {}
  },
  {
   "cell_type": "markdown",
   "source": [
    "##### Solution:\n",
    "To show that this function converges, we again use $M_{n} = \\sup_{x\\in[0,1)}{\\lvert f_{n}(x) - f(x)\\rvert}$ or the $\\rVert\\cdot\\lVert_{\\infty}$ norm.\n",
    "\n",
    "Plugging in the functions gives us:\n",
    "$$M_{n} = \\sup_{x\\in[0,1)}{\\lvert x^{n} - x^{2}\\rvert}$$\n",
    "\n",
    "To find the supremum, we find the $x$ that maximizes $M_{n}$ based on $n$. By taking the derivative and solving for x we have the function to be maximized at $x = \\sqrt[n-2]{\\frac{2}{n}}$ on $[0,1)$.\n",
    "\n",
    "Then plugging in the value for x:\n",
    "\n",
    "$$M_{n} = \\left\\lvert\\left(\\sqrt[n-2]{\\frac{2}{n}}\\right)^{n} - \\left(\\sqrt[n-2]{\\frac{2}{n}}\\right)^{2}\\right\\rvert$$\n",
    "\n",
    "We have that $\\lim_{n\\rightarrow \\infty}M_{n}=1$, so $M_{n}$ does not converge to $0$ as $n \\rightarrow \\infty$, therefore by the contrapositive of the statement we proved in part b, $f_{n}(x) = x^{n}$ does **not** converge uniformly to $f(x)=x^{2}$."
   ],
   "metadata": {}
  },
  {
   "cell_type": "markdown",
   "source": [
    "___"
   ],
   "metadata": {}
  },
  {
   "cell_type": "markdown",
   "source": [
    "## Problem 5\n",
    "Let\n",
    "\n",
    "$$\n",
    "f(x) = \\begin{cases}\n",
    "x & \\text{for } 0 \\lt x\\leq \\frac{1}{2}\\\\\n",
    "1-x & \\text{for } \\frac{1}{2} \\lt x \\leq 1\\\\\n",
    "\\end{cases}\n",
    "$$\n",
    "\n",
    "Write a code to construct the corresponding Bernstein polynomials to estimate the rate of convergence of $B_{n}f$ to $f$."
   ],
   "metadata": {}
  },
  {
   "cell_type": "markdown",
   "source": [
    "##### Solution:\n",
    "Firstly we define the corresponding piecewise function $f$."
   ],
   "metadata": {}
  },
  {
   "cell_type": "code",
   "execution_count": 125,
   "source": [
    "def f(x):\n",
    "    assert 0<= x <=1\n",
    "    return x if x <= 1/2 else 1-x"
   ],
   "outputs": [],
   "metadata": {}
  },
  {
   "cell_type": "markdown",
   "source": [
    "Next the function that calculates the Bernstein Polynomial at value $n$ and $x$, $B_{n}f(x)$."
   ],
   "metadata": {}
  },
  {
   "cell_type": "code",
   "execution_count": 226,
   "source": [
    "def B_n(f,x,n):\n",
    "    from scipy import special as sp\n",
    "    b = lambda k: f(k/n)*sp.comb(n,k)*(x**k)*((1-x)**(n-k))\n",
    "    return np.sum([b(k) for k in range(0,n+1)])"
   ],
   "outputs": [],
   "metadata": {}
  },
  {
   "cell_type": "markdown",
   "source": [
    "Next, we can define a function that tests different values of $n$ for a function value and prints out function values."
   ],
   "metadata": {}
  },
  {
   "cell_type": "code",
   "execution_count": 256,
   "source": [
    "def testBernstein(f,x,n_list):\n",
    "    calcRatio = lambda n1,n2: (\n",
    "        np.abs(x - B_n(f,x,n2))/np.abs(x - B_n(f, x, n1))\n",
    "    )\n",
    "    print(\"Report for x = {}:\".format(x))\n",
    "    for n in n_list:\n",
    "        print(\n",
    "            \"The decrease factor from {} to {} is {}\".\n",
    "            format(n,n*2,calcRatio(n,n*2))\n",
    "        )\n",
    "\n",
    "test_x_vals = np.arange(0.1, 0.9, 0.1)\n",
    "test_n_vals = [2**k for k in range(10)]\n",
    "\n",
    "for x in test_x_vals:\n",
    "    testBernstein(f,x,test_n_vals)"
   ],
   "outputs": [
    {
     "output_type": "stream",
     "name": "stdout",
     "text": [
      "Report for x = 0.1:\n",
      "The decrease factor from 1 to 2 is 0.09999999999999995\n",
      "The decrease factor from 2 to 4 is 0.18999999999999997\n",
      "The decrease factor from 4 to 8 is 0.059973684210519865\n",
      "The decrease factor from 8 to 16 is 0.007026367609116671\n",
      "The decrease factor from 16 to 32 is 0.00011004487929816333\n",
      "The decrease factor from 32 to 64 is 1.8901072730382814e-06\n",
      "The decrease factor from 64 to 128 is 2.1666666666666665\n",
      "The decrease factor from 128 to 256 is 23.46153846153846\n",
      "The decrease factor from 256 to 512 is 0.839344262295082\n",
      "The decrease factor from 512 to 1024 is 4.45703125\n",
      "Report for x = 0.2:\n",
      "The decrease factor from 1 to 2 is 0.1999999999999999\n",
      "The decrease factor from 2 to 4 is 0.3599999999999987\n",
      "The decrease factor from 4 to 8 is 0.2035555555555522\n",
      "The decrease factor from 8 to 16 is 0.07504149463750304\n",
      "The decrease factor from 16 to 32 is 0.011578880387355942\n",
      "The decrease factor from 32 to 64 is 0.00030671448954113536\n",
      "The decrease factor from 64 to 128 is 1.5278154796843179e-06\n",
      "The decrease factor from 128 to 256 is 9.209302325581396\n",
      "The decrease factor from 256 to 512 is 0.20454545454545456\n",
      "The decrease factor from 512 to 1024 is 32.71604938271605\n",
      "Report for x = 0.30000000000000004:\n",
      "The decrease factor from 1 to 2 is 0.30000000000000004\n",
      "The decrease factor from 2 to 4 is 0.5099999999999998\n",
      "The decrease factor from 4 to 8 is 0.3846176470588242\n",
      "The decrease factor from 8 to 16 is 0.24549712541913332\n",
      "The decrease factor from 16 to 32 is 0.11150443887111332\n",
      "The decrease factor from 32 to 64 is 0.025540464665126814\n",
      "The decrease factor from 64 to 128 is 0.0014758364678951847\n",
      "The decrease factor from 128 to 256 is 7.033452305946594e-06\n",
      "The decrease factor from 256 to 512 is 0.15814558058925476\n",
      "The decrease factor from 512 to 1024 is 4.482191780821918\n",
      "Report for x = 0.4:\n",
      "The decrease factor from 1 to 2 is 0.4000000000000001\n",
      "The decrease factor from 2 to 4 is 0.6399999999999998\n",
      "The decrease factor from 4 to 8 is 0.5680000000000003\n",
      "The decrease factor from 8 to 16 is 0.48506320405633724\n",
      "The decrease factor from 16 to 32 is 0.38063649301059344\n",
      "The decrease factor from 32 to 64 is 0.2527639243013509\n",
      "The decrease factor from 64 to 128 is 0.12115130238346636\n",
      "The decrease factor from 128 to 256 is 0.03045777709498442\n",
      "The decrease factor from 256 to 512 is 0.0021043934271865426\n",
      "The decrease factor from 512 to 1024 is 6.83427157171915e-06\n",
      "Report for x = 0.5:\n",
      "The decrease factor from 1 to 2 is 0.5\n",
      "The decrease factor from 2 to 4 is 0.75\n",
      "The decrease factor from 4 to 8 is 0.7291666666666666\n",
      "The decrease factor from 8 to 16 is 0.7181919642857143\n",
      "The decrease factor from 16 to 32 is 0.7126463776701814\n",
      "The decrease factor from 32 to 64 is 0.7098735300801996\n",
      "The decrease factor from 64 to 128 is 0.7084891001932279\n",
      "The decrease factor from 128 to 256 is 0.7077976401338941\n",
      "The decrease factor from 256 to 512 is 0.7074521309410454\n",
      "The decrease factor from 512 to 1024 is 0.7072794355521772\n",
      "Report for x = 0.6:\n",
      "The decrease factor from 1 to 2 is 0.6\n",
      "The decrease factor from 2 to 4 is 0.8399999999999999\n",
      "The decrease factor from 4 to 8 is 0.8537142857142858\n",
      "The decrease factor from 8 to 16 is 0.883986672578313\n",
      "The decrease factor from 16 to 32 is 0.9234311395778323\n",
      "The decrease factor from 32 to 64 is 0.9619223349570422\n",
      "The decrease factor from 64 to 128 is 0.9882320267548002\n",
      "The decrease factor from 128 to 256 is 0.9984084384132411\n",
      "The decrease factor from 256 to 512 is 0.9999500274175523\n",
      "The decrease factor from 512 to 1024 is 0.9999998946117108\n",
      "Report for x = 0.7000000000000001:\n",
      "The decrease factor from 1 to 2 is 0.7000000000000001\n",
      "The decrease factor from 2 to 4 is 0.91\n",
      "The decrease factor from 4 to 8 is 0.9366538461538462\n",
      "The decrease factor from 8 to 16 is 0.9681076737746479\n",
      "The decrease factor from 16 to 32 is 0.9904763525497674\n",
      "The decrease factor from 32 to 64 is 0.9988241283964376\n",
      "The decrease factor from 64 to 128 is 0.9999691898054149\n",
      "The decrease factor from 128 to 256 is 0.9999999544609018\n",
      "The decrease factor from 256 to 512 is 0.9999999999997303\n",
      "The decrease factor from 512 to 1024 is 0.9999999999997222\n",
      "Report for x = 0.8:\n",
      "The decrease factor from 1 to 2 is 0.8000000000000002\n",
      "The decrease factor from 2 to 4 is 0.9599999999999999\n",
      "The decrease factor from 4 to 8 is 0.9813333333333333\n",
      "The decrease factor from 8 to 16 is 0.9955032375652176\n",
      "The decrease factor from 16 to 32 is 0.9996377749265482\n",
      "The decrease factor from 32 to 64 is 0.9999957564709822\n",
      "The decrease factor from 64 to 128 is 0.9999999986980426\n",
      "The decrease factor from 128 to 256 is 1.0000000000000226\n",
      "The decrease factor from 256 to 512 is 0.9999999999999903\n",
      "The decrease factor from 512 to 1024 is 0.9999999999998831\n"
     ]
    }
   ],
   "metadata": {}
  },
  {
   "cell_type": "markdown",
   "source": [
    "As seen above, it seems that the rate of convergence changes on the value of x we choose to focus on in addition to the value of n."
   ],
   "metadata": {}
  },
  {
   "cell_type": "markdown",
   "source": [
    "___"
   ],
   "metadata": {}
  },
  {
   "cell_type": "markdown",
   "source": [
    "## Problem 6\n",
    "Generate your own version of the integral sign\n",
    "$$\\int$$\n",
    "by using a composite, quadratic Bézier curve (using code). Make sure the curve is $C^{1}$"
   ],
   "metadata": {}
  },
  {
   "cell_type": "markdown",
   "source": [
    "##### Solution:\n",
    "Below I write my code to graph the integral sign."
   ],
   "metadata": {}
  },
  {
   "cell_type": "code",
   "execution_count": 366,
   "source": [
    "def Bez(t, points):\n",
    "    from scipy import special as sp\n",
    "    n = len(points)-1\n",
    "    b = lambda k: sp.comb(n,k)*(t**k)*((1-t)**(n-k))\n",
    "    return np.sum([point*b(k) for k, point in enumerate(points)], axis=0)\n",
    "\n",
    "# Unnests arrays of points\n",
    "def listSplit(l):\n",
    "    l_zip = list(map(list, zip(*l)))\n",
    "    return (l_zip[0], l_zip[1])\n",
    "\n",
    "t_points = np.linspace(0,1, 1000)\n",
    "points_1 = [np.array([3,9]), np.array([3,2]), np.array([4,20])]\n",
    "points_2 = [np.array([4,20]), np.array([5,36]), np.array([5,31])]\n",
    "\n",
    "bez_1_x, bez_1_y = listSplit([Bez(t, points_1) for t in t_points])\n",
    "bez_2_x, bez_2_y = listSplit([Bez(t, points_2) for t in t_points])\n",
    "\n",
    "points_1_x, points_1_y = listSplit(points_1)\n",
    "points_2_x, points_2_y = listSplit(points_2)\n",
    "\n",
    "plt.plot(bez_1_x, bez_1_y, color=\"blue\")\n",
    "plt.plot(bez_2_x, bez_2_y, color=\"blue\")\n",
    "plt.scatter(points_1_x, points_1_y, color = \"orange\")\n",
    "plt.plot(points_1_x, points_1_y, color = \"orange\", linestyle=\"--\")\n",
    "plt.scatter(points_2_x, points_2_y, color = \"orange\")\n",
    "plt.plot(points_2_x, points_2_y, color = \"orange\", linestyle=\"--\")\n",
    "\n",
    "plt.title(\"Bezier Curve Integral Shape\");"
   ],
   "outputs": [
    {
     "output_type": "display_data",
     "data": {
      "text/plain": [
       "<Figure size 432x288 with 1 Axes>"
      ],
      "image/png": "[encoded data removed]"
     },
     "metadata": {
      "needs_background": "light"
     }
    }
   ],
   "metadata": {}
  }
 ],
 "metadata": {
  "kernelspec": {
   "display_name": "Python 3",
   "language": "python",
   "name": "python3"
  },
  "language_info": {
   "codemirror_mode": {
    "name": "ipython",
    "version": 3
   },
   "file_extension": ".py",
   "mimetype": "text/x-python",
   "name": "python",
   "nbconvert_exporter": "python",
   "pygments_lexer": "ipython3",
   "version": "3.8.2"
  }
 },
 "nbformat": 4,
 "nbformat_minor": 4
}