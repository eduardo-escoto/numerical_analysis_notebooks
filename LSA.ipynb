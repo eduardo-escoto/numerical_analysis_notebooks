{
 "cells": [
  {
   "cell_type": "markdown",
   "metadata": {},
   "source": [
    "# Math 104B: Homework 1\n",
    "- Name: Eduardo Escoto\n",
    "- Email: e_escoto@ucsb.edu\n",
    "- Perm: 7611817\n",
    "- Instructor: Hector D. Ceniceros\n",
    "- Term: Winter 2020"
   ]
  },
  {
   "cell_type": "code",
   "execution_count": 1,
   "metadata": {},
   "outputs": [],
   "source": [
    "import numpy as np\n",
    "from matplotlib import pyplot as plt\n",
    "from IPython.display import Markdown as md"
   ]
  },
  {
   "cell_type": "markdown",
   "metadata": {},
   "source": [
    "___"
   ]
  },
  {
   "cell_type": "markdown",
   "metadata": {},
   "source": [
    "### Problem 1"
   ]
  },
  {
   "cell_type": "markdown",
   "metadata": {},
   "source": [
    "The concentration of a radioactive material decays according to the law $c(t) = be^{-at}$ where $t$ represents the time in seconds, $a = 0.1 \\textrm{sec}^{-1}$  and $b$ is the initial concentration."
   ]
  },
  {
   "cell_type": "markdown",
   "metadata": {},
   "source": [
    "#### Part a)\n",
    "Using the Least Squares Method, and the data table below, to find b.\n",
    "\n",
    "\n",
    "| $t_i$ (sec) | $C_i$   |\n",
    "|------|------|\n",
    "|   $1$  | $0.91$ |\n",
    "|  $2$  | $0.80$ |\n",
    "|  $3$  | $0.76$ |\n",
    "|  $4$  | $0.65$ |"
   ]
  },
  {
   "cell_type": "markdown",
   "metadata": {},
   "source": [
    "##### Solution\n",
    "\n",
    "As shown in **Example 5.5** in the course notes, to find $b$, we have the following expression:\n",
    "\n",
    "$$b = \\frac{\\displaystyle{\\sum_{j = 1}^{N}}f_{j}e^{ax_{j}}}{\\displaystyle{\\sum_{j = 1}^{N}}e^{2ax_{j}}}$$"
   ]
  },
  {
   "cell_type": "markdown",
   "metadata": {},
   "source": [
    "Here we instantiate the data to use."
   ]
  },
  {
   "cell_type": "code",
   "execution_count": 2,
   "metadata": {},
   "outputs": [],
   "source": [
    "# Instantiating Data and Parameters\n",
    "a = -0.1\n",
    "t = np.arange(1,5) # t_i\n",
    "C = np.array([0.91, 0.80, 0.76, 0.65]) # C_i"
   ]
  },
  {
   "cell_type": "markdown",
   "metadata": {},
   "source": [
    "And here we implement the expression to create the function with the parameters"
   ]
  },
  {
   "cell_type": "code",
   "execution_count": 3,
   "metadata": {},
   "outputs": [],
   "source": [
    "# Calculates b and returns the least squares function and the function parameters\n",
    "def getExponentialLS(X, F, a):\n",
    "    b = np.sum(F*(np.e**(a*X)))/np.sum(np.e**(2*a*X))    \n",
    "    exp_func = lambda t: b*(np.e**(a*t))\n",
    "    return (exp_func, [a,b])"
   ]
  },
  {
   "cell_type": "markdown",
   "metadata": {},
   "source": [
    "And now we use our function to get the Least Squares Approximation."
   ]
  },
  {
   "cell_type": "code",
   "execution_count": 4,
   "metadata": {},
   "outputs": [],
   "source": [
    "c, (a, b) = getExponentialLS(t, C, a) # Using our function"
   ]
  },
  {
   "cell_type": "markdown",
   "metadata": {},
   "source": [
    "And we find a value for b and the function"
   ]
  },
  {
   "cell_type": "code",
   "execution_count": 5,
   "metadata": {},
   "outputs": [
    {
     "name": "stdout",
     "output_type": "stream",
     "text": [
      "b = 0.9959492989517316\n"
     ]
    }
   ],
   "source": [
    "print(\"b = \" + str(b))"
   ]
  },
  {
   "cell_type": "markdown",
   "metadata": {},
   "source": [
    "Thus we have $b=0.9959492989517316$, with the formula being  $c(t)=0.99595⋅exp(−0.1t)$"
   ]
  },
  {
   "cell_type": "markdown",
   "metadata": {},
   "source": [
    "Graphing the function against the tested values:"
   ]
  },
  {
   "cell_type": "code",
   "execution_count": 6,
   "metadata": {},
   "outputs": [
    {
     "data": {
      "image/png": "[encoded data removed]",
      "text/plain": [
       "<Figure size 648x432 with 1 Axes>"
      ]
     },
     "metadata": {
      "needs_background": "light"
     },
     "output_type": "display_data"
    }
   ],
   "source": [
    "# Testing\n",
    "x = np.linspace(0,7,100)\n",
    "\n",
    "plt.figure(figsize=(9,6))\n",
    "plt.title(\"Problem 1: Fit and Given Data\")\n",
    "plt.plot(x, c(x), label = \"LS Fit\", color = \"orange\")\n",
    "plt.scatter(t, C, label = \"Given Data\")\n",
    "plt.xlabel(\"$t$ (seconds)\")\n",
    "plt.ylabel(\"Concentration\")\n",
    "plt.legend();"
   ]
  },
  {
   "cell_type": "markdown",
   "metadata": {},
   "source": [
    "#### Part b) Find the error in the least squares approximation.\n",
    "\n",
    "The error for the least squares approximation of the decay function, $J$, in the least squares approximation can be expressed as the sum of the squared differences in the 2-norm as:\n",
    "\n",
    "$$J(a,b) = \\sum_{j = 1}^{N}\\left[f_j - be^{at_{j}}\\right]^{2}$$"
   ]
  },
  {
   "cell_type": "markdown",
   "metadata": {},
   "source": [
    "##### Solution\n",
    "Thus we have the following error:\n",
    "\n",
    "$$J(a,b) = \\sum_{j = 1}^{N}\\left[f_j - 0.99595\\exp({-0.1t_{j}})\\right]^{2}$$"
   ]
  },
  {
   "cell_type": "markdown",
   "metadata": {},
   "source": [
    "Which we now calculate below:"
   ]
  },
  {
   "cell_type": "code",
   "execution_count": 7,
   "metadata": {},
   "outputs": [
    {
     "name": "stdout",
     "output_type": "stream",
     "text": [
      "J = 0.0011175280104658244\n"
     ]
    }
   ],
   "source": [
    "J = np.sum((C - c(t))**2)\n",
    "print(\"J = \" + str(J))"
   ]
  },
  {
   "cell_type": "markdown",
   "metadata": {},
   "source": [
    "The error in our Least Squares Approximation is: $J(−0.1,0.99595)=0.001118$"
   ]
  },
  {
   "cell_type": "markdown",
   "metadata": {},
   "source": [
    "___"
   ]
  },
  {
   "cell_type": "markdown",
   "metadata": {},
   "source": [
    "### Problem 2\n",
    "Given a collection of data points $\\left\\{(x_i,y_i)\\right\\}^{m}_{i=1}$ find the best least squares approximation of the form $y=ax^{2}+bx^{3}$"
   ]
  },
  {
   "cell_type": "markdown",
   "metadata": {},
   "source": [
    "##### Solution\n",
    "In order to find the best Least Squares approximation of the form $y = ax^2 + bx^3$, we begin with its error function\n",
    "\n",
    "$$J(a,b) = \\sum^{N}_{j=1}\\left[y_j - a{x_j}^{2} - b{x_j}^{3}\\right]^{2}$$\n",
    "\n",
    "We then next take the partial derivatives in respect to $a$ and $b$ and set to the LS Conditions such that we can solve for the normal equations.\n",
    "\n",
    "We do this as:\n",
    "\n",
    "$$\\frac{\\partial J}{\\partial a} = -2 \\sum^{N}_{j=1}\\left[y_j - a{x_j}^{2} - b{x_j}^{3}\\right] {x_j}^{2}$$\n",
    "$$\\frac{\\partial J}{\\partial b} = -2 \\sum^{N}_{j=1}\\left[y_j - a{x_j}^{2} - b{x_j}^{3}\\right] {x_j}^{3}$$\n",
    "\n",
    "Which then have the conditions:\n",
    "$$\\frac{\\partial J}{\\partial a} = -2 \\sum^{N}_{j=1}\\left[y_j - a{x_j}^{2} - b{x_j}^{3}\\right] {x_j}^{2} = 0$$\n",
    "$$\\frac{\\partial J}{\\partial b} = -2 \\sum^{N}_{j=1}\\left[y_j - a{x_j}^{2} - b{x_j}^{3}\\right] {x_j}^{3} = 0$$\n",
    "\n",
    "Which gives the normal equations:\n",
    "\\begin{equation}\n",
    "a\\sum^{N}_{j=1}{x_j}^{4} + b\\sum^{N}_{j=1}{x_j}^{5} = \\sum^{N}_{j=1}y_{j}{x_{j}}^{2}\n",
    "\\end{equation}\n",
    "\\begin{equation}\n",
    "a\\sum^{N}_{j=1}{x_j}^{5} + b\\sum^{N}_{j=1}{x_j}^{6} = \\sum^{N}_{j=1}y_{j}{x_{j}}^{3}\n",
    "\\end{equation}\n",
    "\n",
    "Thus the Best Least Squares approximation of the form $y = ax^2 + bx^3$ is the solution of the $2x2$ linear system of the two normal equations above."
   ]
  },
  {
   "cell_type": "markdown",
   "metadata": {},
   "source": [
    "___"
   ]
  },
  {
   "cell_type": "markdown",
   "metadata": {},
   "source": [
    "### Problem 3"
   ]
  },
  {
   "cell_type": "markdown",
   "metadata": {},
   "source": [
    "#### Part a)\n",
    "Given a collection of data points $\\left\\{(x_i,y_i)\\right\\}^{m}_{i=1}$ find the best least squares approximation of the form $y=ax+bx^{2}$"
   ]
  },
  {
   "cell_type": "markdown",
   "metadata": {},
   "source": [
    "##### Solution\n",
    "We follow steps similarly as above:\n",
    "\n",
    "\n",
    "In order to find the best Least Squares approximation of the form $y = ax + bx^2$, we begin with its error function\n",
    "\n",
    "$$J(a,b) = \\sum^{N}_{j=1}\\left[y_j - a{x_j} - b{x_j}^{2}\\right]^{2}$$\n",
    "\n",
    "We then next take the partial derivatives in respect to $a$ and $b$ and set to the LS Conditions such that we can solve for the normal equations.\n",
    "\n",
    "We do this as:\n",
    "\n",
    "$$\\frac{\\partial J}{\\partial a} = -2 \\sum^{N}_{j=1}\\left[y_j - a{x_j} - b{x_j}^{2}\\right] {x_j}$$\n",
    "$$\\frac{\\partial J}{\\partial b} = -2 \\sum^{N}_{j=1}\\left[y_j - a{x_j} - b{x_j}^{2}\\right] {x_j}^{2}$$\n",
    "\n",
    "Which then have the conditions:\n",
    "$$\\frac{\\partial J}{\\partial a} = -2 \\sum^{N}_{j=1}\\left[y_j - a{x_j} - b{x_j}^{2}\\right] {x_j} = 0$$\n",
    "$$\\frac{\\partial J}{\\partial b} = -2 \\sum^{N}_{j=1}\\left[y_j - a{x_j} - b{x_j}^{2}\\right] {x_j}^{2} = 0$$\n",
    "\n",
    "Which gives the normal equations:\n",
    "\\begin{equation}\n",
    "a\\sum^{N}_{j=1}{x_j}^{2} + b\\sum^{N}_{j=1}{x_j}^{3} = \\sum^{N}_{j=1}y_{j}{x_{j}}\n",
    "\\end{equation}\n",
    "\\begin{equation}\n",
    "a\\sum^{N}_{j=1}{x_j}^{3} + b\\sum^{N}_{j=1}{x_j}^{4} = \\sum^{N}_{j=1}y_{j}{x_{j}}^{2}\n",
    "\\end{equation}\n",
    "\n",
    "Thus the Best Least Squares approximation of the form $y = ax + bx^2$ is the solution of the $2x2$ linear system of the two normal equations above.\n"
   ]
  },
  {
   "cell_type": "markdown",
   "metadata": {},
   "source": [
    "#### Part b)\n",
    "Use this approximation to fit the data in Table 2.\n",
    "\n",
    "\n",
    "| $x_i$ | $y_i$   |\n",
    "|------|------|\n",
    "|   $1$  | $3.1$ |\n",
    "|  $2$  | $9.8$ |\n",
    "|  $3$  | $21.2$ |\n",
    "|  $4$  | $36.1$ |"
   ]
  },
  {
   "cell_type": "markdown",
   "metadata": {},
   "source": [
    "##### Solution\n",
    "We begin by creating the data:"
   ]
  },
  {
   "cell_type": "code",
   "execution_count": 8,
   "metadata": {},
   "outputs": [],
   "source": [
    "X = np.arange(1,5)\n",
    "Y = np.array([3.1, 9.8, 21.2, 36.1])"
   ]
  },
  {
   "cell_type": "markdown",
   "metadata": {},
   "source": [
    "Then we write a function that solves the $2x2$ normal equations and returns a function and the parameter values."
   ]
  },
  {
   "cell_type": "code",
   "execution_count": 9,
   "metadata": {},
   "outputs": [],
   "source": [
    "def Problem3LSA(X, Y):\n",
    "    coeffs = np.array([[np.sum(X**2),np.sum(X**3)],[np.sum(X**3), np.sum(X**4)]])\n",
    "    vals = np.array([np.sum(Y*X), np.sum(Y*(X**2))])\n",
    "    \n",
    "    sols = np.linalg.solve(coeffs, vals)\n",
    "    ls_func = lambda x: sols[0]*(x) + sols[1]*(x**2)\n",
    "    \n",
    "    return (ls_func, sols)"
   ]
  },
  {
   "cell_type": "markdown",
   "metadata": {},
   "source": [
    "Below we use this function:"
   ]
  },
  {
   "cell_type": "code",
   "execution_count": 10,
   "metadata": {},
   "outputs": [],
   "source": [
    "y, (a,b) = Problem3LSA(X,Y)"
   ]
  },
  {
   "cell_type": "markdown",
   "metadata": {},
   "source": [
    "And we get the following values for the parameters and the Least Squares Approximation:"
   ]
  },
  {
   "cell_type": "code",
   "execution_count": 11,
   "metadata": {},
   "outputs": [
    {
     "name": "stdout",
     "output_type": "stream",
     "text": [
      "a = 0.9641935483870836\n",
      "b = 2.017741935483875\n"
     ]
    }
   ],
   "source": [
    "print(\"a = \" + str(a))\n",
    "print(\"b = \" + str(b))"
   ]
  },
  {
   "cell_type": "markdown",
   "metadata": {},
   "source": [
    "Thus we have $a=0.9641935483870836$, $b =2.017741935483875$, with the formula being $y=0.96419x+2.01774x^{2}$"
   ]
  },
  {
   "cell_type": "markdown",
   "metadata": {},
   "source": [
    "Now we visualize the function and the given data:"
   ]
  },
  {
   "cell_type": "code",
   "execution_count": 12,
   "metadata": {},
   "outputs": [
    {
     "data": {
      "image/png": "[encoded data removed]",
      "text/plain": [
       "<Figure size 648x432 with 1 Axes>"
      ]
     },
     "metadata": {
      "needs_background": "light"
     },
     "output_type": "display_data"
    }
   ],
   "source": [
    "x = np.linspace(0, 5, 100)\n",
    "\n",
    "plt.figure(figsize=(9,6))\n",
    "plt.title(\"Problem 3: Fit and Given Data\")\n",
    "plt.plot(x, y(x), label = \"LS Fit\", color = \"orange\")\n",
    "plt.scatter(X, Y, label = \"Given Data\")\n",
    "plt.xlabel(\"$x$\")\n",
    "plt.ylabel(\"$y$\")\n",
    "plt.legend();"
   ]
  },
  {
   "cell_type": "markdown",
   "metadata": {},
   "source": [
    "#### Part c)\n",
    "Find the error in the least squares approximation."
   ]
  },
  {
   "cell_type": "markdown",
   "metadata": {},
   "source": [
    "##### Solution \n",
    "The error is of the form \n",
    "$$J(a,b) = \\sum^{N}_{j=1}\\left[y_j - a{x_j} - b{x_j}^{2}\\right]^{2}$$\n",
    "\n",
    "Thus we just compute the sum in order to find the error."
   ]
  },
  {
   "cell_type": "code",
   "execution_count": 13,
   "metadata": {},
   "outputs": [
    {
     "name": "stdout",
     "output_type": "stream",
     "text": [
      "J = 0.07716129032258028\n"
     ]
    }
   ],
   "source": [
    "J = np.sum((Y - y(X))**2)\n",
    "print(\"J = \" + str(J))"
   ]
  },
  {
   "cell_type": "markdown",
   "metadata": {},
   "source": [
    "The error in our Least Squares Approximation is:  $J(0.96419,2.01774)=0.077161$"
   ]
  },
  {
   "cell_type": "markdown",
   "metadata": {},
   "source": [
    "___"
   ]
  },
  {
   "cell_type": "markdown",
   "metadata": {},
   "source": [
    "### Problem 4\n",
    "Consider the dataset $(x_1, f_1),\\dots,(x_{N}, f_{N})$. For a given set of functions $\\left\\{\\phi_{0},\\phi_{1},\\dots,\\phi_{n}\\right\\}$ (with $n \\lt \\lt N$) let \n",
    "$$p(x) = a_{0}^{*}\\phi_{0}(x) + a_{1}^{*}\\phi_{1}(x) + \\dots + a_{n}^{*}\\phi_{n}(x)$$\n",
    "be a least squares approximation of this data. Define\n",
    "\n",
    "$$X = \\begin{bmatrix}\n",
    " \\phi_{0}(x_{1}) & \\phi_{1}(x_{1})  & \\phi_{2}(x_{1}) &\\dots &\\phi_{n}(x_{1})\\\\\n",
    " \\phi_{0}(x_{2}) & \\phi_{1}(x_{2})  & \\phi_{2}(x_{2}) & \\dots &\\phi_{n}(x_{2})\\\\\n",
    " \\vdots & \\vdots & \\vdots & \\dots & \\vdots\\\\\n",
    "  \\phi_{0}(x_{N}) & \\phi_{1}(x_{N})  & \\phi_{2}(x_{N}) &\\dots &\\phi_{n}(x_{N})\\\\\n",
    "\\end{bmatrix}, \\mathbf{a}^{*} = \\begin{bmatrix}\n",
    "a_{0}^{*}\\\\\n",
    "a_{1}^{*}\\\\\n",
    "\\vdots\\\\\n",
    "a_{n}^{*}\n",
    "\\end{bmatrix}, \\mathbf{f}^{*} = \\begin{bmatrix}\n",
    "f_{1}^{*}\\\\\n",
    "f_{2}^{*}\\\\\n",
    "\\vdots\\\\\n",
    "f_{N}^{*}\n",
    "\\end{bmatrix}\n",
    "$$\n",
    "and $W$ the space of linear combinations of the columns of $X$."
   ]
  },
  {
   "cell_type": "markdown",
   "metadata": {},
   "source": [
    "#### Part a)\n",
    "Prove that: $X^{T}X\\mathbf{a}^{*} = X^{T}\\mathbf{f}$"
   ]
  },
  {
   "cell_type": "markdown",
   "metadata": {},
   "source": [
    "##### Solution\n",
    "\n",
    "Notice that we can write the Least Squares Approximation of the data as $p(\\mathbf{x}) = \\mathbf{a^{*}}^{T}\\mathbf{x}$\n",
    "\n",
    "So that we can then say that $\\mathbf{a^{*}}$ is the vector that minimizes:\n",
    "\n",
    "$$J(\\mathbf{a^{*}})=\\sum_{j = 1}^{N}\\left[f_{j} - \\mathbf{a^{*}}^{T}\\mathbf{x}_{j}\\right]^{2}$$\n",
    "\n",
    "Which we can then write in matrix notation as:\n",
    "$$J(\\mathbf{a^{*}}) = (\\mathbf{f}-X\\mathbf{a^{*}})^{T}(\\mathbf{f}-X\\mathbf{a^{*}}) = \\lVert\\mathbf{f}-X\\mathbf{a^{*}}\\rVert^{2}$$\n",
    "\n",
    "And we can find the normal equations by solving $\\nabla_{a^{*}}J(\\mathbf{a^*}) = 0$\n",
    "\n",
    "Notice that each $\\phi_{i}(x)$ is linear in $\\mathbf{a^{*}}$ since for each $k \\in 1,\\dots, n$: \n",
    "\n",
    "$$\\frac{\\partial J(\\mathbf{a})}{\\partial a_{k} }= -2 \\sum_{j = 1}^{N}\\left[f_{j} - a_{0}^{*}\\phi_{0}(x_{j}) - \\dots - a_{n}^{*}\\phi_{n}(x_{j})\\right]\\phi_{k}(x_{j})$$\n",
    "\n",
    "Which then becomes:\n",
    "$$\\frac{\\partial J(\\mathbf{a})}{\\partial a_{k} }= -2 \\sum_{j = 1}^{N}\\phi_{k}(x_{j})f_{j}+2a_{0}^{*}\\sum_{j = 1}^{N}\\phi_{k}(x_j)\\phi_{0}(x_{j}) + \\dots + 2a_{n}^{*}\\sum_{j = 1}^{N}\\phi_{k}(x_j)\\phi_{n}(x_{j})$$\n",
    "\n",
    "Thus doing this for each $a_{k}$ we can write $\\nabla_{a^{*}}J(\\mathbf{a^*}) = 0$ as:\n",
    "\n",
    "$$-2X^{T}\\mathbf{f} + 2X^{T}X\\mathbf{a^{*}} = 0$$\n",
    "\n",
    "Which then gives the usual normal equation:\n",
    "$$X^{T}X\\mathbf{a^{*}} = X^{T}\\mathbf{f}$$\n",
    "\n",
    "And finally gives us the expression:\n",
    "$$\\mathbf{a^{*}} = \\left(X^{T}X\\right)^{-1}X^{T}\\mathbf{f}$$\n",
    "\n",
    "Which is the desired result."
   ]
  },
  {
   "cell_type": "markdown",
   "metadata": {},
   "source": [
    "#### Part b)\n",
    "Prove that: $\\mathbf{f} - X\\mathbf{a}^{*}$ is orthogonal to $\\mathbf{w}$ for all $\\mathbf{w}\\in W$"
   ]
  },
  {
   "cell_type": "markdown",
   "metadata": {},
   "source": [
    "##### Solution\n",
    "Since $W$ is the column space of $X$, notice that $X^{T}(\\mathbf{f} - X\\mathbf{a^{*}})$ is performing the inner product of each column vector in the the column space with vector $\\mathbf{f} - X\\mathbf{a^{*}}$ i.e. it is performing the inner product of the each $w\\in W$ with the residual, and if two vectors are orthogonal, then their inner product must be zero.\n",
    "\n",
    "Thus we have:\n",
    "$$X^{T}(\\mathbf{f} - X\\mathbf{a^{*}}) = X^{T}\\mathbf{f} - X^{T}X\\mathbf{a^{*}}$$\n",
    "\n",
    "And as shown in problem 4.a above, we have: $X^{T}X\\mathbf{a^{*}} = X^{T}\\mathbf{f}$, therefore:\n",
    "\n",
    "$$X^{T}(\\mathbf{f} - X\\mathbf{a^{*}}) = X^{T}\\mathbf{f} - X^{T}X\\mathbf{a^{*}} = \\mathbf{0}$$\n",
    "\n",
    "We get the $0$ vector, thus each inner product is 0, and therefor each column vector in the column space, $w \\in W$, is orthogonal to $\\mathbf{f} - X\\mathbf{a}^{*}$"
   ]
  },
  {
   "cell_type": "markdown",
   "metadata": {},
   "source": [
    "#### Part c)\n",
    "Prove that: ${\\lVert\\mathbf{f} - X\\mathbf{a}^{*}\\rVert}_{2} \\leq {\\lVert \\mathbf{f} - \\mathbf{w}\\rVert}_{2}$ for all $\\mathbf{w}\\in W$."
   ]
  },
  {
   "cell_type": "markdown",
   "metadata": {},
   "source": [
    "##### Solution\n",
    "Let $\\mathbf{a} \\in \\mathbb{R}^{N}$ be arbitrary and $\\mathbf{a^{*}}$ be a solution to the normal equations.\n",
    "\n",
    "We then have the following:\n",
    "$$\\lVert \\mathbf{f} - X\\mathbf{a}\\rVert_{2} = \\left[\\sum_{j = 1}^{N}(f_{j} - \\mathbf{a}^{T}\\mathbf{x}_{j})^{2}\\right]^{\\frac{1}{2}}$$\n",
    "\n",
    "So if we square both sides we have:\n",
    "$$\\lVert \\mathbf{f} - X\\mathbf{a}\\rVert^{2} = \\sum_{j = 1}^{N}(f_{j} - \\mathbf{a}^{T}\\mathbf{x}_{j})^{2}$$\n",
    "\n",
    "Thus we can continue by adding $\\mathbf{0} = X\\mathbf{a^{*}} - X\\mathbf{a^{*}}$\n",
    "\n",
    "$$\\lVert \\mathbf{f} - X\\mathbf{a}\\rVert^{2}= \\lVert \\mathbf{f} - X\\mathbf{a^{*}} + X\\mathbf{a^{*}} - X\\mathbf{a}\\rVert^{2} = \\lVert (\\mathbf{f} - X\\mathbf{a^{*}}) - (X\\mathbf{a} - X\\mathbf{a^{*}})\\rVert^{2}$$\n",
    "\n",
    "Now let $\\mathbf{s} = X\\mathbf{a} - X\\mathbf{a^{*}}$ and $\\mathbf{r} = \\mathbf{f} - X\\mathbf{a^{*}}$.\n",
    "\n",
    "This gives:\n",
    "$$\\lVert \\mathbf{f} - X\\mathbf{a}\\rVert^{2} = \\lVert (\\mathbf{f} - X\\mathbf{a^{*}}) - (X\\mathbf{a} - X\\mathbf{a^{*}})\\rVert^{2} =\\lVert \\mathbf{r} - \\mathbf{s}\\rVert^{2}$$\n",
    "\n",
    "Notice that $\\mathbf{r} = \\mathbf{f} - X\\mathbf{a^{*}}$ is orthogonal to all $w \\in W$.\n",
    "\n",
    "Furthermore, notice that $X\\mathbf{a}\\in W$ so $X\\mathbf{a}-X\\mathbf{a^{*}} \\in W$. \n",
    "\n",
    "Thus, $r$ and $s$ are orthogonal.\n",
    "\n",
    "Thus following from the orthogonality of $\\mathbf{r}$ and $\\mathbf{s}$ and the Cauchy-Schwarz inequality it can be shown that:\n",
    "$$\\lVert \\mathbf{r} - \\mathbf{s}\\rVert^{2} = \\lVert \\mathbf{r}\\rVert^{2} + \\lVert \\mathbf{s}\\rVert^{2}$$\n",
    "\n",
    "And clearly $\\lVert \\mathbf{r}\\rVert^{2} \\leq \\lVert \\mathbf{r}\\rVert^{2} + \\lVert \\mathbf{s}\\rVert^{2}$, so:\n",
    "\n",
    "$$\\lVert \\mathbf{r} - \\mathbf{s}\\rVert^{2} = \\lVert \\mathbf{r}\\rVert^{2} + \\lVert \\mathbf{s}\\rVert^{2} \\geq \\lVert \\mathbf{r}\\rVert^{2} $$\n",
    "\n",
    "Which leads to:\n",
    "\n",
    "$$\\lVert \\mathbf{r}\\rVert^{2}\\leq \\lVert \\mathbf{r} - \\mathbf{s}\\rVert^{2}$$\n",
    "\n",
    "And by substitution we have:\n",
    "\n",
    "$$\\lVert\\mathbf{f} - X\\mathbf{a^{*}}\\rVert^{2} \\leq \\lVert \\mathbf{f} - X\\mathbf{a}\\rVert^{2}$$\n",
    "\n",
    "And by taking the square root of both sides we have:\n",
    "\n",
    "$$\\lVert\\mathbf{f} - X\\mathbf{a^{*}}\\rVert_{2} \\leq \\lVert \\mathbf{f} - X\\mathbf{a}\\rVert_{2}$$\n",
    "\n",
    "Finally, since $\\mathbf{a}$ is arbitrary in $\\mathbf{R}^{N}$, then $Xa \\in W$ and is arbitrary. \n",
    "\n",
    "\n",
    "So we get the result: $\\lVert\\mathbf{f} - X\\mathbf{a^{*}}\\rVert_{2} \\leq \\lVert \\mathbf{f} - w\\rVert_{2}$ for all $w \\in W$."
   ]
  },
  {
   "cell_type": "markdown",
   "metadata": {},
   "source": [
    "___"
   ]
  }
 ],
 "metadata": {
  "kernelspec": {
   "display_name": "Python 3",
   "language": "python",
   "name": "python3"
  },
  "language_info": {
   "codemirror_mode": {
    "name": "ipython",
    "version": 3
   },
   "file_extension": ".py",
   "mimetype": "text/x-python",
   "name": "python",
   "nbconvert_exporter": "python",
   "pygments_lexer": "ipython3",
   "version": "3.8.2"
  }
 },
 "nbformat": 4,
 "nbformat_minor": 4
}
