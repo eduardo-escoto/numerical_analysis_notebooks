{
 "cells": [
  {
   "cell_type": "markdown",
   "metadata": {},
   "source": [
    "# Math 104B: Homework 5\n",
    "- Name: Eduardo Escoto\n",
    "- Perm: 7611817\n",
    "- Email: e_escoto@ucsb.edu\n",
    "- Instructor: Professor Hector D. Ceniceros\n",
    "- Term: Winter 2020"
   ]
  },
  {
   "cell_type": "code",
   "execution_count": 12,
   "metadata": {},
   "outputs": [],
   "source": [
    "from scipy import linalg\n",
    "import numpy as np"
   ]
  },
  {
   "cell_type": "markdown",
   "metadata": {},
   "source": [
    "___"
   ]
  },
  {
   "cell_type": "markdown",
   "metadata": {},
   "source": [
    "### Problem 1\n",
    "\n",
    "#### Part a)\n",
    "Implement Gaussian Elimination with partial pivoting to solve a linear system $Ax= b$, given as output the coefficients of a nonsingular, $n\\times n$ matrix $A$ and an $n$-vector $b$. Your code should produce the solution $x$ or an error message (if A is non-singular) and the information needed for the $LU$ factorization."
   ]
  },
  {
   "cell_type": "code",
   "execution_count": 13,
   "metadata": {},
   "outputs": [],
   "source": [
    "def LU(A, b = None):\n",
    "    \"\"\"\n",
    "    Important: Matrices must be floats, \n",
    "    they get casted to integers if not, for some reason?\n",
    "    \"\"\"\n",
    "    n = A.shape[0]\n",
    "    if b is not None:\n",
    "        b = b.astype(float)\n",
    "    U = np.copy(A).astype(float)\n",
    "    L = np.zeros(A.shape);np.fill_diagonal(L,1)\n",
    "    P = np.zeros(A.shape);np.fill_diagonal(P,1)\n",
    "    \n",
    "    for k in range(n):\n",
    "        m = np.argmax(abs(U[k:,k])) + k\n",
    "        \n",
    "        # Error Checkings\n",
    "        if np.isclose(U[m, k], 0):\n",
    "            raise ValueError(\"Matrix is singular.\")\n",
    "\n",
    "        # Pivoting everything if necessary\n",
    "        if m != k:\n",
    "            U[[k,m]] = U[[m, k]]\n",
    "            P[[k,m]] = P[[m, k]]\n",
    "            if b is not None:\n",
    "                b[[k,m]] = b[[m, k]]\n",
    "        \n",
    "        # Elimination\n",
    "        m = np.zeros(n)\n",
    "        for j in range(k+1, n):\n",
    "            m[j] = U[j,k]/U[k,k]\n",
    "            U[j, k:] = U[j, k:] - m[j]*U[k, k:]\n",
    "            if b is not None:\n",
    "                b[j] = b[j] - m[j]*b[k]   \n",
    "        \n",
    "        # L matrix multiplier placement\n",
    "        for i in range(n):\n",
    "            if i > k:\n",
    "                L[i,k] = m[i]\n",
    "        \n",
    "    return (U, L, P, b)\n",
    "\n",
    "def backSub(A, b):\n",
    "    n = A.shape[0]\n",
    "    x = np.zeros(n, dtype=float)\n",
    "    for k in range(n-1, -1, -1):\n",
    "        x[k] = (b[k] - np.dot(A[k,k+1:],x[k+1:]))/A[k,k]\n",
    "    return x"
   ]
  },
  {
   "cell_type": "markdown",
   "metadata": {},
   "source": [
    "#### Part b)\n",
    "Let \n",
    "\n",
    "\n",
    "\\begin{equation}\n",
    "A = \\begin{bmatrix}\n",
    "5&1&0&2&1 \\\\\n",
    "0&4&0&1&2 \\\\\n",
    "1&1&4&1&1 \\\\\n",
    "0&1&2&6&0 \\\\\n",
    "0&0&1&2&4\n",
    "\\end{bmatrix} \\quad b = \\begin{bmatrix}1\\\\2\\\\3\\\\4\\\\5\\end{bmatrix}\n",
    "\\end{equation}\n",
    "\n",
    "\n",
    "Use your Gaussian Elimination code to solve $Ax = b$."
   ]
  },
  {
   "cell_type": "markdown",
   "metadata": {},
   "source": [
    "##### Solution \n",
    "We use our code below!"
   ]
  },
  {
   "cell_type": "code",
   "execution_count": 14,
   "metadata": {},
   "outputs": [
    {
     "name": "stdout",
     "output_type": "stream",
     "text": [
      "L=\n",
      " [[1.         0.         0.         0.         0.        ]\n",
      " [0.         1.         0.         0.         0.        ]\n",
      " [0.2        0.2        1.         0.         0.        ]\n",
      " [0.         0.25       0.5        1.         0.        ]\n",
      " [0.         0.         0.25       0.34234234 1.        ]]\n",
      "U=\n",
      " [[ 5.          1.          0.          2.          1.        ]\n",
      " [ 0.          4.          0.          1.          2.        ]\n",
      " [ 0.          0.          4.          0.4         0.4       ]\n",
      " [ 0.          0.          0.          5.55       -0.7       ]\n",
      " [ 0.          0.          0.          0.          4.13963964]]\n",
      "x = \n",
      " [-0.17083787 -0.06746464  0.46028292  0.52448313  0.8726877 ]\n"
     ]
    }
   ],
   "source": [
    "A = np.array([\n",
    "    5,1,0,2,1,\n",
    "    0,4,0,1,2,\n",
    "    1,1,4,1,1,\n",
    "    0,1,2,6,0,\n",
    "    0,0,1,2,4\n",
    "],dtype = float).reshape(5,5)\n",
    "\n",
    "b = np.array([1,2,3,4,5], dtype=float).reshape(5,1)\n",
    "\n",
    "U, L, P, b_piv = LU(A,b)\n",
    "x = backSub(U,b_piv)\n",
    "\n",
    "print(\"L=\\r\\n\", L)\n",
    "print(\"U=\\r\\n\", U)\n",
    "print(\"x = \\r\\n\", x)"
   ]
  },
  {
   "cell_type": "code",
   "execution_count": 15,
   "metadata": {},
   "outputs": [
    {
     "name": "stdout",
     "output_type": "stream",
     "text": [
      "L = \n",
      " [[1.         0.         0.         0.         0.        ]\n",
      " [0.         1.         0.         0.         0.        ]\n",
      " [0.2        0.2        1.         0.         0.        ]\n",
      " [0.         0.25       0.5        1.         0.        ]\n",
      " [0.         0.         0.25       0.34234234 1.        ]]\n",
      "U = \n",
      " [[ 5.          1.          0.          2.          1.        ]\n",
      " [ 0.          4.          0.          1.          2.        ]\n",
      " [ 0.          0.          4.          0.4         0.4       ]\n",
      " [ 0.          0.          0.          5.55       -0.7       ]\n",
      " [ 0.          0.          0.          0.          4.13963964]]\n",
      "x = \n",
      " [[-0.17083787]\n",
      " [-0.06746464]\n",
      " [ 0.46028292]\n",
      " [ 0.52448313]\n",
      " [ 0.8726877 ]]\n"
     ]
    }
   ],
   "source": [
    "P, L, U = scipy.linalg.lu(A)\n",
    "x = np.linalg.solve(A, b)\n",
    "print(\"L = \\r\\n\", L)\n",
    "print(\"U = \\r\\n\", U)\n",
    "print(\"x = \\r\\n\", x)"
   ]
  },
  {
   "cell_type": "markdown",
   "metadata": {},
   "source": [
    "#### Part c)\n",
    "Test your Gaussian Elimination code for\n",
    "\n",
    "\n",
    "\\begin{equation}\n",
    "A = \\begin{bmatrix}\n",
    "5 & 1 & 0 & 2\\\\\n",
    "0 & 4 & 0 & 8\\\\\n",
    "1 & 1 & 4 & 2 \\\\\n",
    "0 & 1 & 2 & 2\n",
    "\\end{bmatrix}, \\quad b = \\begin{bmatrix}1\\\\2\\\\3\\\\4\\end{bmatrix}\n",
    "\\end{equation}"
   ]
  },
  {
   "cell_type": "markdown",
   "metadata": {},
   "source": [
    "This Matrix is singular, thus we **SHOULD** get an error."
   ]
  },
  {
   "cell_type": "code",
   "execution_count": 16,
   "metadata": {},
   "outputs": [
    {
     "ename": "ValueError",
     "evalue": "Matrix is singular.",
     "output_type": "error",
     "traceback": [
      "\u001b[0;31m---------------------------------------------------------------------------\u001b[0m",
      "\u001b[0;31mValueError\u001b[0m                                Traceback (most recent call last)",
      "\u001b[0;32m<ipython-input-16-5ec932c41008>\u001b[0m in \u001b[0;36m<module>\u001b[0;34m\u001b[0m\n\u001b[1;32m      7\u001b[0m \u001b[0mb\u001b[0m \u001b[0;34m=\u001b[0m \u001b[0mnp\u001b[0m\u001b[0;34m.\u001b[0m\u001b[0marray\u001b[0m\u001b[0;34m(\u001b[0m\u001b[0;34m[\u001b[0m\u001b[0;36m1\u001b[0m\u001b[0;34m,\u001b[0m\u001b[0;36m2\u001b[0m\u001b[0;34m,\u001b[0m\u001b[0;36m3\u001b[0m\u001b[0;34m,\u001b[0m\u001b[0;36m4\u001b[0m\u001b[0;34m]\u001b[0m\u001b[0;34m,\u001b[0m \u001b[0mdtype\u001b[0m\u001b[0;34m=\u001b[0m\u001b[0mfloat\u001b[0m\u001b[0;34m)\u001b[0m\u001b[0;34m.\u001b[0m\u001b[0mreshape\u001b[0m\u001b[0;34m(\u001b[0m\u001b[0;36m4\u001b[0m\u001b[0;34m,\u001b[0m\u001b[0;36m1\u001b[0m\u001b[0;34m)\u001b[0m\u001b[0;34m\u001b[0m\u001b[0;34m\u001b[0m\u001b[0m\n\u001b[1;32m      8\u001b[0m \u001b[0;34m\u001b[0m\u001b[0m\n\u001b[0;32m----> 9\u001b[0;31m \u001b[0mU\u001b[0m\u001b[0;34m,\u001b[0m \u001b[0mL\u001b[0m \u001b[0;34m,\u001b[0m \u001b[0mP\u001b[0m\u001b[0;34m,\u001b[0m \u001b[0mb_piv\u001b[0m \u001b[0;34m=\u001b[0m \u001b[0mLU\u001b[0m\u001b[0;34m(\u001b[0m\u001b[0mA\u001b[0m\u001b[0;34m,\u001b[0m\u001b[0mb\u001b[0m\u001b[0;34m)\u001b[0m\u001b[0;34m\u001b[0m\u001b[0;34m\u001b[0m\u001b[0m\n\u001b[0m\u001b[1;32m     10\u001b[0m \u001b[0mx\u001b[0m \u001b[0;34m=\u001b[0m \u001b[0mbackSub\u001b[0m\u001b[0;34m(\u001b[0m\u001b[0mU\u001b[0m\u001b[0;34m,\u001b[0m\u001b[0mb_piv\u001b[0m\u001b[0;34m)\u001b[0m\u001b[0;34m\u001b[0m\u001b[0;34m\u001b[0m\u001b[0m\n",
      "\u001b[0;32m<ipython-input-13-c24af903f41f>\u001b[0m in \u001b[0;36mLU\u001b[0;34m(A, b)\u001b[0m\n\u001b[1;32m     16\u001b[0m         \u001b[0;31m# Error Checkings\u001b[0m\u001b[0;34m\u001b[0m\u001b[0;34m\u001b[0m\u001b[0;34m\u001b[0m\u001b[0m\n\u001b[1;32m     17\u001b[0m         \u001b[0;32mif\u001b[0m \u001b[0mnp\u001b[0m\u001b[0;34m.\u001b[0m\u001b[0misclose\u001b[0m\u001b[0;34m(\u001b[0m\u001b[0mU\u001b[0m\u001b[0;34m[\u001b[0m\u001b[0mm\u001b[0m\u001b[0;34m,\u001b[0m \u001b[0mk\u001b[0m\u001b[0;34m]\u001b[0m\u001b[0;34m,\u001b[0m \u001b[0;36m0\u001b[0m\u001b[0;34m)\u001b[0m\u001b[0;34m:\u001b[0m\u001b[0;34m\u001b[0m\u001b[0;34m\u001b[0m\u001b[0m\n\u001b[0;32m---> 18\u001b[0;31m             \u001b[0;32mraise\u001b[0m \u001b[0mValueError\u001b[0m\u001b[0;34m(\u001b[0m\u001b[0;34m\"Matrix is singular.\"\u001b[0m\u001b[0;34m)\u001b[0m\u001b[0;34m\u001b[0m\u001b[0;34m\u001b[0m\u001b[0m\n\u001b[0m\u001b[1;32m     19\u001b[0m \u001b[0;34m\u001b[0m\u001b[0m\n\u001b[1;32m     20\u001b[0m         \u001b[0;31m# Pivoting everything if necessary\u001b[0m\u001b[0;34m\u001b[0m\u001b[0;34m\u001b[0m\u001b[0;34m\u001b[0m\u001b[0m\n",
      "\u001b[0;31mValueError\u001b[0m: Matrix is singular."
     ]
    }
   ],
   "source": [
    "A = np.array([\n",
    "    5,1,0,2,\n",
    "    0,4,0,8,\n",
    "    1,1,4,2,\n",
    "    0,1,2,2\n",
    "],dtype = float).reshape(4,4)\n",
    "b = np.array([1,2,3,4], dtype=float).reshape(4,1)\n",
    "\n",
    "U, L , P, b_piv = LU(A,b)\n",
    "x = backSub(U,b_piv)"
   ]
  },
  {
   "cell_type": "markdown",
   "metadata": {},
   "source": [
    "Checking our solution with `scipy`'s we also get an error."
   ]
  },
  {
   "cell_type": "code",
   "execution_count": 17,
   "metadata": {},
   "outputs": [
    {
     "ename": "LinAlgError",
     "evalue": "Singular matrix",
     "output_type": "error",
     "traceback": [
      "\u001b[0;31m---------------------------------------------------------------------------\u001b[0m",
      "\u001b[0;31mLinAlgError\u001b[0m                               Traceback (most recent call last)",
      "\u001b[0;32m<ipython-input-17-8a7fbd6e3fc0>\u001b[0m in \u001b[0;36m<module>\u001b[0;34m\u001b[0m\n\u001b[1;32m      1\u001b[0m \u001b[0mP\u001b[0m\u001b[0;34m,\u001b[0m \u001b[0mL\u001b[0m\u001b[0;34m,\u001b[0m \u001b[0mU\u001b[0m \u001b[0;34m=\u001b[0m \u001b[0mscipy\u001b[0m\u001b[0;34m.\u001b[0m\u001b[0mlinalg\u001b[0m\u001b[0;34m.\u001b[0m\u001b[0mlu\u001b[0m\u001b[0;34m(\u001b[0m\u001b[0mA\u001b[0m\u001b[0;34m)\u001b[0m\u001b[0;34m\u001b[0m\u001b[0;34m\u001b[0m\u001b[0m\n\u001b[0;32m----> 2\u001b[0;31m \u001b[0mx\u001b[0m \u001b[0;34m=\u001b[0m \u001b[0mnp\u001b[0m\u001b[0;34m.\u001b[0m\u001b[0mlinalg\u001b[0m\u001b[0;34m.\u001b[0m\u001b[0msolve\u001b[0m\u001b[0;34m(\u001b[0m\u001b[0mA\u001b[0m\u001b[0;34m,\u001b[0m \u001b[0mb\u001b[0m\u001b[0;34m)\u001b[0m\u001b[0;34m\u001b[0m\u001b[0;34m\u001b[0m\u001b[0m\n\u001b[0m\u001b[1;32m      3\u001b[0m \u001b[0mprint\u001b[0m\u001b[0;34m(\u001b[0m\u001b[0;34m\"L = \\r\\n\"\u001b[0m\u001b[0;34m,\u001b[0m \u001b[0mL\u001b[0m\u001b[0;34m)\u001b[0m\u001b[0;34m\u001b[0m\u001b[0;34m\u001b[0m\u001b[0m\n\u001b[1;32m      4\u001b[0m \u001b[0mprint\u001b[0m\u001b[0;34m(\u001b[0m\u001b[0;34m\"U = \\r\\n\"\u001b[0m\u001b[0;34m,\u001b[0m \u001b[0mU\u001b[0m\u001b[0;34m)\u001b[0m\u001b[0;34m\u001b[0m\u001b[0;34m\u001b[0m\u001b[0m\n\u001b[1;32m      5\u001b[0m \u001b[0mprint\u001b[0m\u001b[0;34m(\u001b[0m\u001b[0;34m\"x = \\r\\n\"\u001b[0m\u001b[0;34m,\u001b[0m \u001b[0mx\u001b[0m\u001b[0;34m)\u001b[0m\u001b[0;34m\u001b[0m\u001b[0;34m\u001b[0m\u001b[0m\n",
      "\u001b[0;32m~/anaconda3/envs/py37/lib/python3.7/site-packages/numpy/linalg/linalg.py\u001b[0m in \u001b[0;36msolve\u001b[0;34m(a, b)\u001b[0m\n\u001b[1;32m    401\u001b[0m     \u001b[0msignature\u001b[0m \u001b[0;34m=\u001b[0m \u001b[0;34m'DD->D'\u001b[0m \u001b[0;32mif\u001b[0m \u001b[0misComplexType\u001b[0m\u001b[0;34m(\u001b[0m\u001b[0mt\u001b[0m\u001b[0;34m)\u001b[0m \u001b[0;32melse\u001b[0m \u001b[0;34m'dd->d'\u001b[0m\u001b[0;34m\u001b[0m\u001b[0;34m\u001b[0m\u001b[0m\n\u001b[1;32m    402\u001b[0m     \u001b[0mextobj\u001b[0m \u001b[0;34m=\u001b[0m \u001b[0mget_linalg_error_extobj\u001b[0m\u001b[0;34m(\u001b[0m\u001b[0m_raise_linalgerror_singular\u001b[0m\u001b[0;34m)\u001b[0m\u001b[0;34m\u001b[0m\u001b[0;34m\u001b[0m\u001b[0m\n\u001b[0;32m--> 403\u001b[0;31m     \u001b[0mr\u001b[0m \u001b[0;34m=\u001b[0m \u001b[0mgufunc\u001b[0m\u001b[0;34m(\u001b[0m\u001b[0ma\u001b[0m\u001b[0;34m,\u001b[0m \u001b[0mb\u001b[0m\u001b[0;34m,\u001b[0m \u001b[0msignature\u001b[0m\u001b[0;34m=\u001b[0m\u001b[0msignature\u001b[0m\u001b[0;34m,\u001b[0m \u001b[0mextobj\u001b[0m\u001b[0;34m=\u001b[0m\u001b[0mextobj\u001b[0m\u001b[0;34m)\u001b[0m\u001b[0;34m\u001b[0m\u001b[0;34m\u001b[0m\u001b[0m\n\u001b[0m\u001b[1;32m    404\u001b[0m \u001b[0;34m\u001b[0m\u001b[0m\n\u001b[1;32m    405\u001b[0m     \u001b[0;32mreturn\u001b[0m \u001b[0mwrap\u001b[0m\u001b[0;34m(\u001b[0m\u001b[0mr\u001b[0m\u001b[0;34m.\u001b[0m\u001b[0mastype\u001b[0m\u001b[0;34m(\u001b[0m\u001b[0mresult_t\u001b[0m\u001b[0;34m,\u001b[0m \u001b[0mcopy\u001b[0m\u001b[0;34m=\u001b[0m\u001b[0;32mFalse\u001b[0m\u001b[0;34m)\u001b[0m\u001b[0;34m)\u001b[0m\u001b[0;34m\u001b[0m\u001b[0;34m\u001b[0m\u001b[0m\n",
      "\u001b[0;32m~/anaconda3/envs/py37/lib/python3.7/site-packages/numpy/linalg/linalg.py\u001b[0m in \u001b[0;36m_raise_linalgerror_singular\u001b[0;34m(err, flag)\u001b[0m\n\u001b[1;32m     95\u001b[0m \u001b[0;34m\u001b[0m\u001b[0m\n\u001b[1;32m     96\u001b[0m \u001b[0;32mdef\u001b[0m \u001b[0m_raise_linalgerror_singular\u001b[0m\u001b[0;34m(\u001b[0m\u001b[0merr\u001b[0m\u001b[0;34m,\u001b[0m \u001b[0mflag\u001b[0m\u001b[0;34m)\u001b[0m\u001b[0;34m:\u001b[0m\u001b[0;34m\u001b[0m\u001b[0;34m\u001b[0m\u001b[0m\n\u001b[0;32m---> 97\u001b[0;31m     \u001b[0;32mraise\u001b[0m \u001b[0mLinAlgError\u001b[0m\u001b[0;34m(\u001b[0m\u001b[0;34m\"Singular matrix\"\u001b[0m\u001b[0;34m)\u001b[0m\u001b[0;34m\u001b[0m\u001b[0;34m\u001b[0m\u001b[0m\n\u001b[0m\u001b[1;32m     98\u001b[0m \u001b[0;34m\u001b[0m\u001b[0m\n\u001b[1;32m     99\u001b[0m \u001b[0;32mdef\u001b[0m \u001b[0m_raise_linalgerror_nonposdef\u001b[0m\u001b[0;34m(\u001b[0m\u001b[0merr\u001b[0m\u001b[0;34m,\u001b[0m \u001b[0mflag\u001b[0m\u001b[0;34m)\u001b[0m\u001b[0;34m:\u001b[0m\u001b[0;34m\u001b[0m\u001b[0;34m\u001b[0m\u001b[0m\n",
      "\u001b[0;31mLinAlgError\u001b[0m: Singular matrix"
     ]
    }
   ],
   "source": [
    "P, L, U = scipy.linalg.lu(A)\n",
    "x = np.linalg.solve(A, b)\n",
    "print(\"L = \\r\\n\", L)\n",
    "print(\"U = \\r\\n\", U)\n",
    "print(\"x = \\r\\n\", x)"
   ]
  },
  {
   "cell_type": "markdown",
   "metadata": {},
   "source": [
    "___"
   ]
  },
  {
   "cell_type": "markdown",
   "metadata": {},
   "source": [
    "### Problem 2"
   ]
  },
  {
   "cell_type": "markdown",
   "metadata": {},
   "source": [
    "#### Part a)\n",
    "Let $A$ be an $n \\times n$ upper or lower triangular matrix. Prove that the determinant of $A$ is equal to the product of its diagonal entries, i.e. $\\det(A) = a_{11}a_{22}\\dots a_{nn}$."
   ]
  },
  {
   "cell_type": "markdown",
   "metadata": {},
   "source": [
    "###### Solution\n",
    "\n",
    "To prove this, we will use induction.<br>\n",
    "**Base Case:** $n = 2$<br>\n",
    "Let $A$ be a $2\\times 2$ upper diagonal matrix.\n",
    "In this case we have:\n",
    "$$\n",
    "A = \\begin{bmatrix}\n",
    "a_{11} & a_{12}\\\\\n",
    "0 & a_{22}\n",
    "\\end{bmatrix}\n",
    "$$\n",
    "\n",
    "Which then yields the following determinant:\n",
    "$$\\det(A) = (a_{11}a_{22}) - (0 \\times a_{12}) = a_{11}a_{22}$$\n",
    "\n",
    "Notice that the lower, or upper diagonal condition the final answer of $\\det(A)$ is the same for both. In the case for lower we have:\n",
    "$$\\det(A) = (a_{11}a_{22}) - (a_{21} \\times 0) = a_{11}a_{22}$$\n",
    "\n",
    "Take the case $n = 3$. \n",
    "We have:\n",
    "$$\n",
    "A = \\begin{bmatrix}\n",
    "a_{1,1} & a_{1,2} &a_{1, 3}\\\\\n",
    "0 & a_{2,2} & a_{2,3}\\\\\n",
    "0 & 0& a_{3,3}\\\\\n",
    "\\end{bmatrix}\n",
    "$$\n",
    "\n",
    "Which then yields the following determinant:\n",
    "\\begin{align*}\n",
    "&\\det(A) = a_{1,1}\\det\\left(\\begin{bmatrix}\n",
    "a_{2,2} &a_{2, 3}\\\\\n",
    "0 & a_{3,3}\\\\\n",
    "\\end{bmatrix}\\right) - a_{1,2}\\det\\left(\\begin{bmatrix}\n",
    "0 & a_{2,3}\\\\\n",
    "0 & a_{3,3}\n",
    "\\end{bmatrix}\\right) + a_{1,3}\\det\\left(\\begin{bmatrix}\n",
    "0 & a_{2,2}\\\\\n",
    "0 & 0\n",
    "\\end{bmatrix}\\right)\n",
    "\\end{align*}\n",
    "\n",
    "Solving, we have:\n",
    "$$\n",
    "\\det(A) = a_{1,1}a_{2,2}a_{3,3}\n",
    "$$\n",
    "Which are all of the diagonal elements. Notice that eventually, the determinants vanish at the $2\\times 2$ level because of the zeros in the first column.\n",
    "\n",
    "Now asssume that the hypothesis is true for $n = k$<br>\n",
    "Now take the **Induction Case:** $n = k+1$:<br>\n",
    "We have now have the matrix $A$ is a $k+1 \\times k + 1$ upper triangular matrix.\n",
    "Thus we have:\n",
    "\\begin{align*}\n",
    "& \\det(A) = a_{11}\\det\\left(\\begin{bmatrix}\n",
    "a_{2,2} &\\dots & \\dots &a_{2, k+1}\\\\\n",
    "0 & a_{3,3}& \\dots& \\vdots\\\\\n",
    "0 & 0 & \\ddots & \\vdots \\\\\n",
    "0&0&\\dots&a_{k+1,k+1}\n",
    "\\end{bmatrix}\\right) - a_{12}\\det\\left(\\begin{bmatrix}\n",
    "0 & a_{2,2}& \\dots &a_{2, k+1}\\\\\n",
    "0 & 0& \\dots& \\vdots\\\\\n",
    "0 & 0 & \\ddots & \\vdots \\\\\n",
    "0&0&\\dots&a_{k+1,k+1}\n",
    "\\end{bmatrix}\\right) + \\dots \\\\ & + (-1)^{k+1}a_{k+1,k+1}\\left(\\begin{bmatrix}\n",
    "0 & a_{2,2} & \\dots &a_{2, k} \\\\\n",
    "0 & 0 & \\dots & \\vdots \\\\\n",
    "0 & 0 & \\ddots & \\vdots \\\\\n",
    "0&0&\\dots&a_{k,k+1}\n",
    "\\end{bmatrix}\\right)\n",
    "\\end{align*}\n",
    "\n",
    "From the induction hypothesis, we have that the first term is the product of the diagonal, and for the rest of the terms, the first columns are all zeroes. Any matrix with a column of zeroes has a determinant of 0. This is because if a whole column is zeros, then there is a free variable in the system, implying that the matrix is not one-to-one. For a matrix to be invertible, i.e. non-singular, or its determinant not being zero, it must be one-to-one and onto. <br>\n",
    "\n",
    "Thus we have:\n",
    "\n",
    "$$\\det(A) = a_{1,1}a_{2,2}\\dots a_{k+1,k+1} - a_{1,2}\\cdot0 + a_{1,3}\\cdot0 + \\dots + (-1)^{k+1}a_{1,k+1}\\cdot0$$\n",
    "so\n",
    "$$\\det(A) = a_{1,1}a_{2,2}\\dots a_{k+1,k+1}$$\n",
    "\n",
    "Thus, by induction, any lower, or upper diagonal matrixs has a determinant which is the product of its diagonal."
   ]
  },
  {
   "cell_type": "markdown",
   "metadata": {},
   "source": [
    "#### Part b) \n",
    "Prove that the product of the pivots in the Gaussian Elimination for $Ax = b$ is equal to the determinant of $A$ up to a sign."
   ]
  },
  {
   "cell_type": "markdown",
   "metadata": {},
   "source": [
    "###### Solution\n",
    "Let $P$ be the permutation matrix such that $PA = LU$, and $L,U$ be the lower and upper triangular matrices of the $LU$ decomposition. Additionally, we have that $A$ is a non-singular $n\\times n$ matrix.\n",
    "Now we have:\n",
    "$$\\det(PA) = \\det(LU)$$\n",
    "Which then gives\n",
    "$$\\det(P)\\det(A) = \\det(L)\\det(U)$$\n",
    "\n",
    "The permutation matrix $P$, is a rearrangement of the rows of the Identity matrix. When switching the rows of any matrix, the determinant only changes in its sign. \n",
    "\n",
    "Thus we have:\n",
    "$$\\pm \\det(A) = \\det(L)\\det(U)$$\n",
    "\n",
    "Now, from part a), we proved that the determinant of any lower, or upper triangular matrix is just the product of its diagonal. By definition, $L$ has a diagonal of only ones, and is lower triangular. Thus, $$\\det(L) = 1$$\n",
    "\n",
    "So now, \n",
    "$$\\pm \\det(A) = \\det(U)$$\n",
    "\n",
    "However, similarly to the determinant of $L$, $U$ is an upper triangular matrix with the pivot points on its diagonal, thus $$\\det(U) = a_{1,1}^{(1)}a_{2,2}^{(2)}\\dots a_{n,n}^{(n)}$$\n",
    "which are pivot points. i.e. the $k$-th element on diagonal after the $k$-th pivot.\n",
    "\n",
    "Thus, \n",
    "$$\\pm \\det(A) = a_{1,1}^{(1)}a_{2,2}^{(2)}\\dots a_{n,n}^{(n)}$$\n",
    "\n",
    "So the product of the pivots is the determinant of $A$ up to a sign."
   ]
  },
  {
   "cell_type": "markdown",
   "metadata": {},
   "source": [
    "#### Part c)\n",
    "Prove that the product of two $n\\times n$ lower (upper) triangular matrices is a lower (upper) triangular matrix."
   ]
  },
  {
   "cell_type": "markdown",
   "metadata": {},
   "source": [
    "###### Solution \n",
    "Let $A$ and $B$ be two $n\\times n$ upper triangular matrices. \n",
    "\n",
    "We have the $i,j$-th element of $AB$ to be:\n",
    "\n",
    "$$AB_{ij} = \\sum_{k=1}^{n} a_{ik}b_{kj}$$\n",
    "\n",
    "\n",
    "Notice that since $A$ and $B$ are both upper triangular of the same dimension, we are necessarily below the diagonal when $i > j$, thus whenever we are below the diagonal the value is 0. <br>\n",
    "\n",
    "Now, let the indices $i,j$ be below the diagonal. This means $i > j$ and the following expression for the sum:\n",
    "\n",
    "$$AB_{ij} = \\sum_{k=1}^{n}a_{ik}b_{kj} + \\sum_{k\\geq i}a_{ik}b_{kj} = \\sum_{k<i}0b_{kj} + \\sum_{k \\geq i}a_{ik}0 = 0$$\n",
    "\n",
    "this is because we have $a_{ik} = 0$ when $k < i$. But now, when $k > j$, we have that $b_{kj} = 0$. Now, since in this case we have the condition $i > j$ then we have an overlapping interval such that every value is zero. In other words, there is no range where $i\\leq k \\leq j$.\n",
    "\n",
    "Now, let the indices $i,j$ be on, or above the diagonal, i.e., $i \\leq j$. We now have:\n",
    "\n",
    "$$AB_{ij} = \\sum_{k= 1}^{n}a_{ik}b_{kj} = \\sum_{k< i}0b_{kj} + \\sum_{i \\leq k \\leq j}a_{ik}b_{kj} +\\sum_{k \\geq j}a_{ik}0 = \\sum_{i \\leq k \\leq j}a_{ik}b_{kj}$$\n",
    "\n",
    "In this case, since $i \\leq j$ there is a range where $i\\leq k \\leq j$ we have some places that are both being multipled above or on the diagonal, jielding a value.\n",
    "\n",
    "Thus, we have shown both possible cases. When we are Now, below the diagonal $i > j$, we get $0$, and when we are on or above, $i \\leq j$, we yield $\\sum_{i \\leq k \\leq j}a_{ik}b_{kj}$. Thus it is proven.\n",
    "\n",
    "This can be shown for lower diagonal matrices using the same arguement, but just switching the cases, i.e. we are above the diagonal when $j > i$ and on or below when $i \\geq j$"
   ]
  },
  {
   "cell_type": "markdown",
   "metadata": {},
   "source": [
    "#### Part d)\n",
    "Let $L_{i}$ be the unit upper triangular matrix that produces the $i$-th elimination step in the Gaussian Elimination algorithm, i.e.\n",
    "\n",
    "\\begin{equation}\n",
    "L_{i} = \\begin{bmatrix}\n",
    "1 & & & &\\\\\n",
    "& \\ddots &\\cdots &\\cdots &&\\\\\n",
    "& & 1 & & & \\\\\n",
    "& & -m_{i+1,i} & &\\\\\n",
    "& & -m_{i+2,i} & \\ddots& &\\\\\n",
    "& & \\vdots & & \\ddots&\\\\\n",
    "& & -m_{n,i} & & &1\\\\\n",
    "\\end{bmatrix}\n",
    "\\end{equation}\n",
    "\n",
    "Prove that\n",
    "\\begin{equation}\n",
    "L_{i}^{-1} = \\begin{bmatrix}\n",
    "1 & & & &\\\\\n",
    "& \\ddots &\\cdots &\\cdots &&\\\\\n",
    "& & 1 & & & \\\\\n",
    "& & m_{i+1,i} & &\\\\\n",
    "& & m_{i+2,i} & \\ddots& &\\\\\n",
    "& & \\vdots & & \\ddots&\\\\\n",
    "& & m_{m,i} & & &1\\\\\n",
    "\\end{bmatrix}\n",
    "\\end{equation}"
   ]
  },
  {
   "cell_type": "markdown",
   "metadata": {},
   "source": [
    "##### Solution\n",
    "Before we begin, notice that from the values above we can construct the $L$ matrix from the $LU$ decomposition as:\n",
    "\n",
    "$$L = L^{-1}_{1}L^{-1}_{2}\\dots L^{-1}_{n}$$\n",
    "\n",
    "Thus, for the $i$-th elimination step in the gaussian Elimation algorithm, we have:\n",
    "\n",
    "$$L_{i}L_{i-1}\\dots L_{1}PA = L^{-1}_{i+1}\\dots L^{-1}_{n}U$$\n",
    "\n",
    "At the $i$-th elimation step, each of the values below the diagonal are just subtracting each $m_{i,j}$. Thus to undo, i.e., invert the operation we merely just add the $m_{i,j}$ back.\n",
    "\n",
    "Additionally, we can prove that $L^{-1}_{i}$ is indeed the inverse of $L_{i}$ if $L^{-1}_{i}L_{i} = I$. Matrix inverses are unique, so if this is indeed the case, then $L^{-1}_{i}$ is the unique inverse.\n",
    "\n",
    "We have: \n",
    "\n",
    "\\begin{align*} &\n",
    "L^{-1}_{i}L_{i} =\\begin{bmatrix}\n",
    "1 & & & &\\\\\n",
    "& \\ddots &\\cdots &\\cdots &&\\\\\n",
    "& & 1 & & & \\\\\n",
    "& & m_{i+1,i} & &\\\\\n",
    "& & m_{i+2,i} & \\ddots& &\\\\\n",
    "& & \\vdots & & \\ddots&\\\\\n",
    "& & m_{m,i} & & &1\\\\\n",
    "\\end{bmatrix}\\cdot\\begin{bmatrix}\n",
    "1 & & & &\\\\\n",
    "& \\ddots &\\cdots &\\cdots &&\\\\\n",
    "& & 1 & & & \\\\\n",
    "& & -m_{i+1,i} & &\\\\\n",
    "& & -m_{i+2,i} & \\ddots& &\\\\\n",
    "& & \\vdots & & \\ddots&\\\\\n",
    "& & -m_{n,i} & & &1\\\\\n",
    "\\end{bmatrix} = \\\\\n",
    "&L^{-1}_{i}L_{i} = \\begin{bmatrix}\n",
    "1 & & & &\\\\\n",
    "& \\ddots &\\cdots &\\cdots &&\\\\\n",
    "& & 1 & & & \\\\\n",
    "& & m_{i+1,i}-m_{i+1,i} & &\\\\\n",
    "& & m_{i+2,i}-m_{i+2,i} & \\ddots& &\\\\\n",
    "& & \\vdots & & \\ddots&\\\\\n",
    "& & m_{i+2,i}-m_{n,i} & & &1\\\\\n",
    "\\end{bmatrix} = \\begin{bmatrix}\n",
    "1 & & & &\\\\\n",
    "& \\ddots &\\cdots &\\cdots &&\\\\\n",
    "& & 1 & & & \\\\\n",
    "& & 0 & &\\\\\n",
    "& & 0 & \\ddots& &\\\\\n",
    "& & \\vdots & & \\ddots&\\\\\n",
    "& & 0 & & &1\\\\\n",
    "\\end{bmatrix} = I\n",
    "\\end{align*}\n",
    "\n",
    "Thus, $L_{i}^{-1}$ is indeed the inverse map of $L_{i}$."
   ]
  },
  {
   "cell_type": "markdown",
   "metadata": {},
   "source": [
    "___"
   ]
  },
  {
   "cell_type": "markdown",
   "metadata": {},
   "source": [
    "### Problem 3\n",
    "Find an $LU$ factorization of the matrix\n",
    "\n",
    "$$\n",
    "A = \\begin{bmatrix}\n",
    "5 & 1 & 0\\\\\n",
    "0 & 4 & 0\\\\\n",
    "1 & 1 & 4\n",
    "\\end{bmatrix}\n",
    "$$"
   ]
  },
  {
   "cell_type": "markdown",
   "metadata": {},
   "source": [
    "##### Solution\n",
    "To find the $LU$ Factorization, we can step through the Gaussian Elimination with pivoting, manually.\n",
    "\n",
    "$$\n",
    "A = A^{(0)} = \\begin{bmatrix}\n",
    "5 & 1 & 0\\\\\n",
    "0 & 4 & 0\\\\\n",
    "1 & 1 & 4\n",
    "\\end{bmatrix} \\implies L_{1} = \\begin{bmatrix}\n",
    "1 & 0 & 0\\\\\n",
    "0 & 1 & 0\\\\\n",
    "\\frac{1}{5} & 0 & 1\n",
    "\\end{bmatrix}$$\n",
    "\n",
    "Then, \n",
    "$$\n",
    "L_{1}^{-1}A = A^{(1)} = \\begin{bmatrix}\n",
    "5 & 1 & 0\\\\\n",
    "0 & 4 & 0\\\\\n",
    "0 & \\frac{4}{5} & 4\n",
    "\\end{bmatrix} \\implies L_{2} = \\begin{bmatrix}\n",
    "1 & 0 & 0\\\\\n",
    "0 & 1 & 0\\\\\n",
    "0 & \\frac{1}{5} & 1\n",
    "\\end{bmatrix}\n",
    "$$\n",
    "Finally,\n",
    "\n",
    "$$\n",
    "L_{2}^{-1}L_{1}^{-1}A = A^{(2)} =\\begin{bmatrix}\n",
    "5 & 1 & 0\\\\\n",
    "0 & 4 & 0\\\\\n",
    "0 & 0 & 4\n",
    "\\end{bmatrix} \\implies L_{3} = \\begin{bmatrix}\n",
    "1 & 0 & 0\\\\\n",
    "0 & 1 & 0\\\\\n",
    "0 & 0 & 1\n",
    "\\end{bmatrix}\n",
    "$$\n",
    "\n",
    "So finally, \n",
    "\n",
    "$$\n",
    "L_{3}^{-1}L_{2}^{-1}L_{1}^{-1}A = A^{(3)} = U = \\begin{bmatrix}\n",
    "5 & 1 & 0\\\\\n",
    "0 & 4 & 0\\\\\n",
    "0 & 0 & 4\n",
    "\\end{bmatrix}\n",
    "$$\n",
    "And gives \n",
    "$$\n",
    "L = L_{1}L_{2}L_{3} = \\begin{bmatrix}\n",
    "1 & 0 & 0\\\\\n",
    "0 & 1 & 0\\\\\n",
    "\\frac{1}{5} & \\frac{1}{5} & 1\n",
    "\\end{bmatrix}\n",
    "$$\n",
    "\n",
    "Notice that we made no pivots, thus we have $A = LU$, i.e. $P = I$.\n",
    "\n",
    "Checking our solution:\n",
    "$$\n",
    "LU = \\begin{bmatrix}\n",
    "1 & 0 & 0\\\\\n",
    "0 & 1 & 0\\\\\n",
    "\\frac{1}{5} & \\frac{1}{5} & 1\n",
    "\\end{bmatrix}\\begin{bmatrix}\n",
    "5 & 1 & 0\\\\\n",
    "0 & 4 & 0\\\\\n",
    "0 & 0 & 4\n",
    "\\end{bmatrix} = \\begin{bmatrix}\n",
    "5 & 1 & 0\\\\\n",
    "0 & 4 & 0\\\\\n",
    "5\\times\\frac{1}{5} & \\frac{1}{5} + 4\\times\\frac{1}{5} & 4\n",
    "\\end{bmatrix} = \\begin{bmatrix}\n",
    "5 & 1 & 0\\\\\n",
    "0 & 4 & 0\\\\\n",
    "1 & 1 & 4\n",
    "\\end{bmatrix} = A\n",
    "$$\n",
    "\n",
    "Thus, we arrived at the correct $LU$ factorization."
   ]
  },
  {
   "cell_type": "markdown",
   "metadata": {},
   "source": [
    "Additionally, we use our code to check our solution!"
   ]
  },
  {
   "cell_type": "code",
   "execution_count": 18,
   "metadata": {},
   "outputs": [
    {
     "name": "stdout",
     "output_type": "stream",
     "text": [
      "L=\n",
      " [[1.  0.  0. ]\n",
      " [0.  1.  0. ]\n",
      " [0.2 0.2 1. ]]\n",
      "U=\n",
      " [[5. 1. 0.]\n",
      " [0. 4. 0.]\n",
      " [0. 0. 4.]]\n"
     ]
    }
   ],
   "source": [
    "A = np.array([\n",
    "    5,1,0,\n",
    "    0,4,0,\n",
    "    1,1,4\n",
    "], dtype = float).reshape((3,3))\n",
    "U, L, P, b = LU(A)\n",
    "\n",
    "print(\"L=\\r\\n\", L)\n",
    "print(\"U=\\r\\n\", U)"
   ]
  },
  {
   "cell_type": "markdown",
   "metadata": {},
   "source": [
    "We can also further check with `scipy`'s solution:"
   ]
  },
  {
   "cell_type": "code",
   "execution_count": 19,
   "metadata": {},
   "outputs": [
    {
     "name": "stdout",
     "output_type": "stream",
     "text": [
      "L=\n",
      " [[1.  0.  0. ]\n",
      " [0.  1.  0. ]\n",
      " [0.2 0.2 1. ]]\n",
      "U=\n",
      " [[5. 1. 0.]\n",
      " [0. 4. 0.]\n",
      " [0. 0. 4.]]\n"
     ]
    }
   ],
   "source": [
    "P, L, U = scipy.linalg.lu(A)\n",
    "print(\"L=\\r\\n\", L)\n",
    "print(\"U=\\r\\n\", U)"
   ]
  },
  {
   "cell_type": "markdown",
   "metadata": {},
   "source": [
    "___"
   ]
  },
  {
   "cell_type": "markdown",
   "metadata": {},
   "source": [
    "### Problem 4\n",
    "Find the Choleski factorization $A = LL^{T}$\n",
    "\n",
    "$$\n",
    "A = \\begin{bmatrix}\n",
    "3 & -1 & 0\\\\\n",
    "-1 & 3 & -1\\\\\n",
    "0 & -1 & 3\n",
    "\\end{bmatrix}\n",
    "$$"
   ]
  },
  {
   "cell_type": "markdown",
   "metadata": {},
   "source": [
    "##### Solution\n",
    "In order to compute the Choleski Factorization, we can step through the algorithm manually.\n",
    "\n",
    "**i = 1**:<br>\n",
    "$l_{11} = \\sqrt{a_{11}} = \\sqrt{3}$\n",
    "\n",
    "**i = 1, j = 2**:<br>\n",
    "$l_{21} = \\frac{a_{12}}{l_{11}} = \\frac{-1}{\\sqrt{3}}$\n",
    "\n",
    "**i = 1, j = 2**:<br>\n",
    "$l_{31} = \\frac{a_{13}}{l_{11}} = 0$\n",
    "\n",
    "Thus, so far we have:\n",
    "\n",
    "$$\n",
    "L = \\begin{bmatrix}\n",
    "\\sqrt{3} & 0 & 0\\\\\n",
    "\\frac{-1}{\\sqrt{3}} & 0 & 0\\\\\n",
    "0 & 0 & 0\n",
    "\\end{bmatrix}\n",
    "$$\n",
    "\n",
    "Next iteration:\n",
    "**i = 2**:<br>\n",
    "$l_{22} = \\sqrt{a_{11}-l_{21}^{2}} = \\sqrt{3-\\left(\\frac{-1}{\\sqrt{3}}\\right)^{2}} = \\sqrt{\\frac{8}{3}}$\n",
    "\n",
    "**i = 2, j = 3**:<br>\n",
    "$l_{32} = \\frac{a_{12}-l_{21}l_{31}}{l_{22}} = \\frac{-1}{\\sqrt{\\frac{8}{3}}} = -\\sqrt{\\frac{3}{8}}$\n",
    "\n",
    "Then so far we have:\n",
    "\n",
    "$$\n",
    "L = \\begin{bmatrix}\n",
    "\\sqrt{3} & 0 & 0\\\\\n",
    "\\frac{-1}{\\sqrt{3}} & \\sqrt{\\frac{8}{3}} & 0\\\\\n",
    "0 & -\\sqrt{\\frac{3}{8}} & 0\n",
    "\\end{bmatrix}\n",
    "$$\n",
    "\n",
    "Finally, we have the last iteration:\n",
    "**i = 3**:<br>\n",
    "$l_{33} = \\sqrt{a_{33}-l_{31}^{2}-l_{32}^{2}} = \\sqrt{3- 0 -\\left(\\sqrt{\\frac{3}{8}}\\right)^{2}} = \\sqrt{\\frac{21}{3}}$\n",
    "\n",
    "Which gives our solution of:\n",
    "\n",
    "$$\n",
    "L = \\begin{bmatrix}\n",
    "\\sqrt{3} & 0 & 0\\\\\n",
    "\\frac{-1}{\\sqrt{3}} & \\sqrt{\\frac{8}{3}} & 0\\\\\n",
    "0 & -\\sqrt{\\frac{3}{8}} & \\sqrt{\\frac{21}{3}}\n",
    "\\end{bmatrix}\n",
    "$$\n",
    "\n",
    "Below, we check our solution:"
   ]
  },
  {
   "cell_type": "code",
   "execution_count": 20,
   "metadata": {},
   "outputs": [
    {
     "name": "stdout",
     "output_type": "stream",
     "text": [
      "L = \n",
      " [[ 1.73205081  0.          0.        ]\n",
      " [-0.57735027  1.63299316  0.        ]\n",
      " [ 0.         -0.61237244  1.62018517]]\n",
      "L^T =  \n",
      " [[ 1.73205081 -0.57735027  0.        ]\n",
      " [ 0.          1.63299316 -0.61237244]\n",
      " [ 0.          0.          1.62018517]]\n",
      "LL^T =  \n",
      " [[ 3. -1.  0.]\n",
      " [-1.  3. -1.]\n",
      " [ 0. -1.  3.]]\n"
     ]
    }
   ],
   "source": [
    "L = np.array([\n",
    "    np.sqrt(3), 0, 0,\n",
    "    -1/np.sqrt(3), np.sqrt(8/3),0,\n",
    "    0, -np.sqrt(3/8), np.sqrt(21/8)\n",
    "]).reshape((3,3))\n",
    "\n",
    "print(\"L = \\r\\n\", L)\n",
    "print(\"L^T =  \\r\\n\",L.T)\n",
    "print(\"LL^T =  \\r\\n\", np.matmul(L,L.T))"
   ]
  },
  {
   "cell_type": "markdown",
   "metadata": {},
   "source": [
    "Now checking our solution with `scipy`'s Choleski factorization function:"
   ]
  },
  {
   "cell_type": "code",
   "execution_count": 21,
   "metadata": {},
   "outputs": [
    {
     "name": "stdout",
     "output_type": "stream",
     "text": [
      "L = \n",
      " [[ 1.73205081  0.          0.        ]\n",
      " [-0.57735027  1.63299316  0.        ]\n",
      " [ 0.         -0.61237244  1.62018517]]\n",
      "L^T = \n",
      " [[ 1.73205081 -0.57735027  0.        ]\n",
      " [ 0.          1.63299316 -0.61237244]\n",
      " [ 0.          0.          1.62018517]]\n",
      "LL^T = \n",
      " [[ 3. -1.  0.]\n",
      " [-1.  3. -1.]\n",
      " [ 0. -1.  3.]]\n"
     ]
    }
   ],
   "source": [
    "A = np.array([\n",
    "    3,-1,0,\n",
    "    -1,3,-1,\n",
    "    0,-1,3\n",
    "], dtype=float).reshape((3,3))\n",
    "\n",
    "print(\"L = \\r\\n\", scipy.linalg.cholesky(A).T)\n",
    "print(\"L^T = \\r\\n\", scipy.linalg.cholesky(A))\n",
    "print(\"LL^T = \\r\\n\", np.matmul(scipy.linalg.cholesky(A).T, scipy.linalg.cholesky(A)))"
   ]
  }
 ],
 "metadata": {
  "kernelspec": {
   "display_name": "Python 3",
   "language": "python",
   "name": "python3"
  },
  "language_info": {
   "codemirror_mode": {
    "name": "ipython",
    "version": 3
   },
   "file_extension": ".py",
   "mimetype": "text/x-python",
   "name": "python",
   "nbconvert_exporter": "python",
   "pygments_lexer": "ipython3",
   "version": "3.8.2"
  }
 },
 "nbformat": 4,
 "nbformat_minor": 4
}
