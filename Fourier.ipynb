{
 "cells": [
  {
   "cell_type": "markdown",
   "source": [
    "# Fourier Transforms"
   ],
   "metadata": {}
  },
  {
   "cell_type": "markdown",
   "source": [
    "___"
   ],
   "metadata": {}
  },
  {
   "cell_type": "code",
   "execution_count": 2,
   "source": [
    "import numpy as np\n",
    "import pandas as pd\n",
    "from matplotlib import pyplot as plt"
   ],
   "outputs": [],
   "metadata": {}
  },
  {
   "cell_type": "markdown",
   "source": [
    "### Problem 1\n",
    "___"
   ],
   "metadata": {}
  },
  {
   "cell_type": "markdown",
   "source": [
    "The Fourier coefficients that the `numpy.fft` package returns for $k = 0,\\dots,N-1$ are \n",
    "$$C_{k} = \\sum_{j = 0}^{N-1} f_{j}e^{-i2\\pi kj/N}$$"
   ],
   "metadata": {}
  },
  {
   "cell_type": "markdown",
   "source": [
    "___"
   ],
   "metadata": {}
  },
  {
   "cell_type": "markdown",
   "source": [
    "### Problem 2\n",
    "___"
   ],
   "metadata": {}
  },
  {
   "cell_type": "markdown",
   "source": [
    "The expression that the inverse DFT that is computed by the `numpy.fft` package is:\n",
    "$$f_{i} = \\frac{1}{N}\\sum^{N-1}_{k = 0} c_{k}e^{i2\\pi kj/N}$$"
   ],
   "metadata": {}
  },
  {
   "cell_type": "markdown",
   "source": [
    "___"
   ],
   "metadata": {}
  },
  {
   "cell_type": "markdown",
   "source": [
    "### Problem 3"
   ],
   "metadata": {}
  },
  {
   "cell_type": "markdown",
   "source": [
    "If the $f_i$ for $j = 0,1,\\dots,N-1$ are real numbers we have for $c_{0}$:\n",
    "$$c_{0} =\\sum^{N-1}_{k = 0} c_{k}e^{i2\\pi (0)j/N}  = \\sum_{j = 0}^{N-1}f_{j}$$\n",
    "Since it is given that $f_i$ is real on  $j = 0,1,\\dots,N-1$, then $c_0$ is real by above.\n",
    "\n",
    "Now for $c_{N-k}$ we have:\n",
    "$$c_{N-k} = \\sum_{j = 0}^{N-1} f_{j}e^{-i2\\pi (N-k)j/N} = \\sum_{j = 0}^{N-1} f_{j}e^{-i2\\pi (N)j/N}e^{-i2\\pi (-k)j/N} = \n",
    "\\sum_{j = 0}^{N-1}f_{j}e^{-i2\\pi j}e^{i2\\pi (k)j/N} = \\sum_{j = 0}^{N-1}f_{j}e^{i2\\pi kj/N} = \\bar{c}_{k}$$\n",
    "This is from the fact that $e^{-i2\\pi j} = 1$ for all $j \\in \\mathbb{Z}$.\n",
    "Thus the desired statement has been proven."
   ],
   "metadata": {}
  },
  {
   "cell_type": "markdown",
   "source": [
    "___"
   ],
   "metadata": {}
  },
  {
   "cell_type": "markdown",
   "source": [
    "### Problem 4\n",
    "Note that for $c_k$ we have the formula:\n",
    "$$c_k = \\sum^{N-1}_{j=0}f_{j}e^{-i2\\pi kj/N}$$\n",
    "Thus we can expand this with euler's formula as:\n",
    "$$c_k =  \\sum^{N-1}_{j=0} \\frac{2}{N}f_j \\left[\\cos(kx_j)-i\\sin(kx_j)\\right]$$\n",
    "Now if we split it up as:\n",
    "$$c_k =  \\sum^{N-1}_{j=0} \\frac{2}{N}f_j\\cos(kx_j)-\\sum^{N-1}_{j=0} \\frac{2}{N}if_j\\cos(kx_j)\\sin(kx_j)$$\n",
    "We have:\n",
    "$$c_k = \\frac{N}{2}(a_k - ib_k)$$\n",
    "Thus from $c_k$ we have $a_k$ is the real part of $c_k$ and then $b_k$ is the complex part on $k=1,\\dots, \\frac{N}{2} -1$\n",
    "\n",
    "The caveat here however is that there are the special cases for $c_k$ where $k = 0$, and $k = \\frac{N}{2}$, thus we need to find the relation for those values of K.\n",
    "\n",
    "For $k = 0$ we have $c_k = \\sum_{j=0}^{N-1}f_j$, thus there is only a real part. So similarly as above we calculate that $a_0 = \\frac{2}{N}c_0$.\n",
    "\n",
    "Finally, for $k = \\frac{N}{2}$ we plug in that value for $k$ into $c_k$ and similarly as above simplify to find that $c_{\\frac{N}{2}} = \\frac{N}{2}a_{k}$\n",
    "\n",
    "Thus we have the final relation as\n",
    "\n",
    "$c_k = \\frac{N}{2}a_{k}$ for $k = 0, \\frac{N}{2}$\n",
    "$c_k = \\frac{N}{2}(a_k - ib_k)$ for $k = 1, \\dots, \\frac{N}{2}-1$"
   ],
   "metadata": {}
  },
  {
   "cell_type": "markdown",
   "source": [
    "____"
   ],
   "metadata": {}
  },
  {
   "cell_type": "markdown",
   "source": [
    "### Problem 5"
   ],
   "metadata": {}
  },
  {
   "cell_type": "markdown",
   "source": [
    "The code below gets the polynomial coefficients based on the $c_k$ and $N$. "
   ],
   "metadata": {}
  },
  {
   "cell_type": "code",
   "execution_count": 3,
   "source": [
    "# Gets all of the polynomial coefficients\n",
    "def get_a_k(c_k, N):\n",
    "    return np.array([(2/N)*np.real(c_k[i]) for i in range(int(N/2) + 1)])\n",
    "\n",
    "#define bk as a function that takes the imaginary part of ck\n",
    "def get_b_k(c_k, N):\n",
    "    return np.array([-(2/N)*np.imag(c_k[i]) for i in range(1, int(N/2))])"
   ],
   "outputs": [],
   "metadata": {}
  },
  {
   "cell_type": "markdown",
   "source": [
    "Here we test it out and get our coefficients for the polynomial."
   ],
   "metadata": {}
  },
  {
   "cell_type": "code",
   "execution_count": 4,
   "source": [
    "f_j = np.array(\n",
    "    [6.000000000000000,\n",
    "     10.242640687119284, \n",
    "     2.000000000000000,\n",
    "     -2.585786437626905, \n",
    "     2.000000000000000, \n",
    "     1.757359312880716, \n",
    "     -6.000000000000000, \n",
    "     -5.414213562373098]\n",
    ")\n",
    "\n",
    "# Constants\n",
    "c_k = np.fft.fft(f_j)\n",
    "\n",
    "# Getting Polynomial coeffs\n",
    "A_k = get_a_k(c_k, 8)\n",
    "B_k = get_b_k(c_k, 8)\n",
    "\n",
    "print(A_k)\n",
    "print(B_k)"
   ],
   "outputs": [
    {
     "output_type": "stream",
     "name": "stdout",
     "text": [
      "[2.00000000e+00 2.00000000e+00 3.00000000e+00 7.77156117e-16\n",
      " 8.88178420e-16]\n",
      "[ 4.  5. -0.]\n"
     ]
    }
   ],
   "metadata": {}
  },
  {
   "cell_type": "markdown",
   "source": [
    "The next code below defines the polynomial in code and returns either the value at $x$ or a function which evaluates any x value for that polynomial."
   ],
   "metadata": {}
  },
  {
   "cell_type": "code",
   "execution_count": 5,
   "source": [
    "def P_n(f_j, N, x = None, vec = False):\n",
    "    c = np.fft.fft(f_j)\n",
    "    a = get_a_k(c, N)\n",
    "    b = get_b_k(c, N)\n",
    "    \n",
    "    def Poly_N(x): \n",
    "        val = (1/2)*(a[0] + a[int(N/2)]*np.cos((N/2)*x)) + \\\n",
    "                np.sum([a[k]*np.cos(k*x) + b[k-1]*np.sin(k*x) for k in range(1, int(N/2))])\n",
    "        return val\n",
    "    \n",
    "    if vec and x is None:\n",
    "        return Poly_N\n",
    "    elif not vec and x is not None:\n",
    "        return Poly_N(x)"
   ],
   "outputs": [],
   "metadata": {}
  },
  {
   "cell_type": "markdown",
   "source": [
    "Now we test out our code and we should get the same values the we got in the problem data thanks to the interpolation property."
   ],
   "metadata": {}
  },
  {
   "cell_type": "code",
   "execution_count": 6,
   "source": [
    "N = 8\n",
    "x_j = np.array([(i*2*np.pi)/N for i in range(N)])\n",
    "P_8 = P_n(f_j, N, vec = True)    \n",
    "np.vectorize(P_8)(x_j)"
   ],
   "outputs": [
    {
     "output_type": "execute_result",
     "data": {
      "text/plain": [
       "array([ 6.        , 10.24264069,  2.        , -2.58578644,  2.        ,\n",
       "        1.75735931, -6.        , -5.41421356])"
      ]
     },
     "metadata": {},
     "execution_count": 6
    }
   ],
   "metadata": {
    "scrolled": true
   }
  },
  {
   "cell_type": "markdown",
   "source": [
    "___"
   ],
   "metadata": {}
  },
  {
   "cell_type": "markdown",
   "source": [
    "### Problem 6"
   ],
   "metadata": {}
  },
  {
   "cell_type": "markdown",
   "source": [
    "Below we use the polynomial creation function to find the polynomial approximation of degree 8. "
   ],
   "metadata": {}
  },
  {
   "cell_type": "code",
   "execution_count": 7,
   "source": [
    "#  The functions for this problem\n",
    "f = lambda x: np.exp(np.sin(x))\n",
    "df = lambda x: np.cos(x)*np.exp(np.sin(x))\n",
    "\n",
    "# The data \n",
    "N = 8\n",
    "x_j = np.array([(i*2*np.pi)/N for i in range(N)])\n",
    "f_j = np.vectorize(f)(x_j)\n",
    "\n",
    "# The polynomial\n",
    "P_8 = P_n(f_j, N, vec = True)\n",
    "\n",
    "test_pt = np.pi/2\n",
    "print(P_8(test_pt))\n",
    "print(f(test_pt))"
   ],
   "outputs": [
    {
     "output_type": "stream",
     "name": "stdout",
     "text": [
      "2.718281828459045\n",
      "2.718281828459045\n"
     ]
    }
   ],
   "metadata": {}
  },
  {
   "cell_type": "markdown",
   "source": [
    "Now we define the derivative of the polynomial by taking the analytic solution and creating a function much like the one before:"
   ],
   "metadata": {}
  },
  {
   "cell_type": "code",
   "execution_count": 8,
   "source": [
    "def D_P_n(f_j, N, x = None, vec = False):\n",
    "    c = np.fft.fft(f_j)\n",
    "    a = get_a_k(c, N)\n",
    "    b = get_b_k(c, N)\n",
    "    \n",
    "    def D_Poly_N(x): \n",
    "        val = -(N/4)*a[int(N/2)]*np.sin((N/2)*x) + \\\n",
    "                np.sum([k*b[k-1]*np.cos(k*x) -k*a[k]*np.sin(k*x) for k in range(1, int(N/2))])\n",
    "        return val\n",
    "    \n",
    "    if vec and x is None:\n",
    "        return D_Poly_N\n",
    "    elif not vec and x is not None:\n",
    "        return D_Poly_N(x)\n",
    "\n",
    "# The data \n",
    "N = 8\n",
    "x_j = np.array([(i*2*np.pi)/N for i in range(N)])\n",
    "f_j = np.vectorize(f)(x_j)\n",
    "\n",
    "# The polynomial\n",
    "D_P_8 = D_P_n(f_j, N, vec = True)\n",
    "\n",
    "# Testing\n",
    "test_pt = np.pi/4\n",
    "print(D_P_8(test_pt))\n",
    "print(df(test_pt))\n",
    "print(x_j)"
   ],
   "outputs": [
    {
     "output_type": "stream",
     "name": "stdout",
     "text": [
      "1.4375429562572413\n",
      "1.434093856548958\n",
      "[0.         0.78539816 1.57079633 2.35619449 3.14159265 3.92699082\n",
      " 4.71238898 5.49778714]\n"
     ]
    }
   ],
   "metadata": {}
  },
  {
   "cell_type": "markdown",
   "source": [
    "Here we plot the two functions against eachother:"
   ],
   "metadata": {}
  },
  {
   "cell_type": "code",
   "execution_count": 9,
   "source": [
    "X = np.linspace(0,2*np.pi,1000)\n",
    "\n",
    "plt.figure(figsize=(9,6))\n",
    "plt.plot(X, np.vectorize(D_P_8)(X), linewidth = 3,label = \"$P_{8}(x)$\")\n",
    "plt.plot(X, np.vectorize(df)(X),linewidth = 3, linestyle = \"--\",alpha = .8, label = \"df(x)\")\n",
    "plt.title(\"$P_8(x)$ vs $f'(x)$\")\n",
    "plt.legend();"
   ],
   "outputs": [
    {
     "output_type": "display_data",
     "data": {
      "text/plain": [
       "<Figure size 648x432 with 1 Axes>"
      ],
      "image/png": "[encoded data removed]"
     },
     "metadata": {
      "needs_background": "light"
     }
    }
   ],
   "metadata": {}
  },
  {
   "cell_type": "markdown",
   "source": [
    "Now we plot the error function:"
   ],
   "metadata": {}
  },
  {
   "cell_type": "code",
   "execution_count": 10,
   "source": [
    "X = np.linspace(0,2*np.pi,1000)\n",
    "e = lambda x: df(x)-D_P_8(x)\n",
    "plt.figure(figsize=(9,6))\n",
    "plt.plot(X, np.vectorize(e)(X), linewidth = 3)\n",
    "plt.title(\"Error $P_8(x)$ vs $f'(x)$\");"
   ],
   "outputs": [
    {
     "output_type": "display_data",
     "data": {
      "text/plain": [
       "<Figure size 648x432 with 1 Axes>"
      ],
      "image/png": "[encoded data removed]"
     },
     "metadata": {
      "needs_background": "light"
     }
    }
   ],
   "metadata": {}
  },
  {
   "cell_type": "markdown",
   "source": [
    "And the error at the calculated data points:"
   ],
   "metadata": {}
  },
  {
   "cell_type": "code",
   "execution_count": 12,
   "source": [
    "for i, val in enumerate(f_j):\n",
    "    print(\"Error for x_{} = {}:({} - {})= {}\\r\\n\".format(i, x_j[i], val, D_P_8(x_j[i]), e(x_j[i])))"
   ],
   "outputs": [
    {
     "output_type": "stream",
     "name": "stdout",
     "text": [
      "Error for x_0 = 0.0:(1.0 - 0.9956820889014127)= 0.004317911098587257\n",
      "\n",
      "Error for x_1 = 0.7853981633974483:(2.028114981647472 - 1.4375429562572413)= -0.003449099708283221\n",
      "\n",
      "Error for x_2 = 1.5707963267948966:(2.718281828459045 - 5.908572678473254e-16)= -4.2441051082718617e-16\n",
      "\n",
      "Error for x_3 = 2.356194490192345:(2.0281149816474726 - -1.437542956257241)= 0.003449099708282999\n",
      "\n",
      "Error for x_4 = 3.141592653589793:(1.0000000000000002 - -0.9956820889014134)= -0.004317911098586813\n",
      "\n",
      "Error for x_5 = 3.9269908169872414:(0.49306869139523984 - -0.3513816866267539)= 0.0027294713504026347\n",
      "\n",
      "Error for x_6 = 4.71238898038469:(0.36787944117144233 - -4.717257565519195e-17)= -2.040578136021663e-17\n",
      "\n",
      "Error for x_7 = 5.497787143782138:(0.49306869139523973 - 0.3513816866267537)= -0.002729471350402579\n",
      "\n"
     ]
    }
   ],
   "metadata": {}
  },
  {
   "cell_type": "markdown",
   "source": [
    "As we can see, the error is very small for each point!"
   ],
   "metadata": {}
  },
  {
   "cell_type": "markdown",
   "source": [
    "___"
   ],
   "metadata": {}
  },
  {
   "cell_type": "markdown",
   "source": [
    "### Problem 7\n",
    "I ran out of time :-( <br>\n",
    "I have failed you."
   ],
   "metadata": {}
  }
 ],
 "metadata": {
  "kernelspec": {
   "display_name": "Python 3",
   "language": "python",
   "name": "python3"
  },
  "language_info": {
   "codemirror_mode": {
    "name": "ipython",
    "version": 3
   },
   "file_extension": ".py",
   "mimetype": "text/x-python",
   "name": "python",
   "nbconvert_exporter": "python",
   "pygments_lexer": "ipython3",
   "version": "3.8.2"
  }
 },
 "nbformat": 4,
 "nbformat_minor": 4
}