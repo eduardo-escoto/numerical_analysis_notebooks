{
 "cells": [
  {
   "cell_type": "markdown",
   "source": [
    "# Boundary Value Problems"
   ],
   "metadata": {}
  },
  {
   "cell_type": "markdown",
   "source": [
    "___"
   ],
   "metadata": {}
  },
  {
   "cell_type": "markdown",
   "source": [
    "Firstly, I load necessary libraries"
   ],
   "metadata": {}
  },
  {
   "cell_type": "code",
   "execution_count": 1,
   "source": [
    "import numpy as np\n",
    "from matplotlib import pyplot as plt"
   ],
   "outputs": [],
   "metadata": {}
  },
  {
   "cell_type": "markdown",
   "source": [
    "___"
   ],
   "metadata": {}
  },
  {
   "cell_type": "markdown",
   "source": [
    "### Problem 1"
   ],
   "metadata": {}
  },
  {
   "cell_type": "markdown",
   "source": [
    "#### Part a)\n",
    "Implement the tridiagonal solver seen in class."
   ],
   "metadata": {}
  },
  {
   "cell_type": "markdown",
   "source": [
    "##### Solution"
   ],
   "metadata": {}
  },
  {
   "cell_type": "code",
   "execution_count": 2,
   "source": [
    "def TriDiagSolver(M, D):\n",
    "    \"\"\"\n",
    "    M: The input tridiagonal matrix\n",
    "    D: The equation solutions\n",
    "    returns a vector of solutions to the equation Mx = D\n",
    "    \"\"\"\n",
    "    b = np.diag(M, k = 1)\n",
    "    a = np.diag(M, k = 0)\n",
    "    c = np.diag(M, k = -1)\n",
    "    \n",
    "    N = len(a)\n",
    "    m = np.zeros(N)\n",
    "    l = np.zeros(N)\n",
    "    y = np.zeros(N)\n",
    "    x = np.zeros(N)\n",
    "    \n",
    "    m[0] = a[0]\n",
    "    for j in range(N-1):\n",
    "        l[j] = c[j]/m[j]\n",
    "        m[j+1] = a[j+1]-(l[j]*b[j])\n",
    "    \n",
    "    y[0] = D[0]\n",
    "    for i in range(1, N):\n",
    "        y[i] = D[i]-(l[i-1]*y[i-1])\n",
    "    \n",
    "    x[-1] = y[-1]/m[-1]\n",
    "    for k in reversed(range(N-1)):\n",
    "        x[k] = (y[k]-(b[k]*x[k+1]))/m[k]\n",
    "    return x"
   ],
   "outputs": [],
   "metadata": {}
  },
  {
   "cell_type": "markdown",
   "source": [
    "#### Part b)\n",
    "Test your implementation."
   ],
   "metadata": {}
  },
  {
   "cell_type": "markdown",
   "source": [
    "##### Solution\n",
    "I create an arbitrary tridiagonal matrix with random numbers on the diagonals and compare it to numpy's solver."
   ],
   "metadata": {}
  },
  {
   "cell_type": "code",
   "execution_count": 3,
   "source": [
    "def createRandomTriDiagMatrix(N):\n",
    "    A = np.zeros((N,N))\n",
    "    np.fill_diagonal(A, np.random.normal(20, 100, N))\n",
    "    np.fill_diagonal(A[1:], np.random.normal(20, 100, N-1))\n",
    "    np.fill_diagonal(A[:,1:], np.random.normal(20, 100, N-1))\n",
    "    return A\n",
    "\n",
    "def testIsClose(A,b):\n",
    "    my_sol = TriDiagSolver(A,b)\n",
    "    np_sol = np.linalg.solve(A,b)\n",
    "    return np.all(np.isclose(my_sol, np_sol))"
   ],
   "outputs": [],
   "metadata": {}
  },
  {
   "cell_type": "markdown",
   "source": [
    "Using the functions above, we now check to see if our random matrices are all solved correctly according to numpy's solution."
   ],
   "metadata": {}
  },
  {
   "cell_type": "code",
   "execution_count": 4,
   "source": [
    "n_tests = 1000\n",
    "tests = [testIsClose(createRandomTriDiagMatrix(10), np.random.normal(10, 5, 10)) for i in range(n_tests)]\n",
    "print(\"Number of tests ran: {} Number of correct solutions: {}\".format(n_tests, np.sum(tests)))"
   ],
   "outputs": [
    {
     "output_type": "stream",
     "name": "stdout",
     "text": [
      "Number of tests ran: 1000 Number of correct solutions: 1000\n"
     ]
    }
   ],
   "metadata": {}
  },
  {
   "cell_type": "markdown",
   "source": [
    "As seen above, even with 1000 tests of random matrices, all of them are correctly solved."
   ],
   "metadata": {}
  },
  {
   "cell_type": "markdown",
   "source": [
    "____"
   ],
   "metadata": {}
  },
  {
   "cell_type": "markdown",
   "source": [
    "### Problem 2\n",
    "Consider the boundary value problem:\n",
    "\n",
    "\\begin{equation}\n",
    "-u'' + \\pi^{2}u = 2\\pi^{2}\\sin(\\pi x) \\quad 0 < x < 1\\\\\n",
    "u(0) = u(1) = 0\n",
    "\\end{equation}\n",
    "\n",
    "We can find a numerical approximation to the solution of this problem by employing the finite difference method. Use a uniform grid with $N-1$ interior nodes to obtain, by replacing the second derivative with a second order finite difference and neglecting the (truncation) error, the linear system\n",
    "\n",
    "\\begin{equation}\n",
    "\\frac{-v_{j-1}+2v_{j} - v_{j+1}}{h^{2}} + \\pi^{2}v_{j} = 2\\pi^{2}\\sin(\\pi x_{j}) \\quad \\textrm{ for } j = 1, 2, \\dots, N-1\n",
    "\\end{equation}\n",
    "where $h = \\frac{1}{N}, v_{j}$ is the approximation in $u(x_{j})$ for $j = 1,2,\\dots , N-1$, and $v_{0} = v_{n} = 0$. "
   ],
   "metadata": {}
  },
  {
   "cell_type": "markdown",
   "source": [
    "##### Part a)\n",
    "Use your tridiagonal solver to solve $(2)$ for $N=50$ and plot your corresponding solution."
   ],
   "metadata": {}
  },
  {
   "cell_type": "markdown",
   "source": [
    "Firstly I define some helper functions to carry out the questions in this problem."
   ],
   "metadata": {}
  },
  {
   "cell_type": "code",
   "execution_count": 5,
   "source": [
    "def L_p_Norm(X, Y, p):\n",
    "    return np.sum(np.abs(X.flatten() - Y.flatten())**p)**(1/p)\n",
    "    \n",
    "def getNodes(N, start = 0):\n",
    "    return [start + i/N for i in range(1,N)]\n",
    "\n",
    "def createBDYTriDiagMatrix(N, diag_fill):\n",
    "    A = np.zeros((N,N))\n",
    "    np.fill_diagonal(A, diag_fill)\n",
    "    np.fill_diagonal(A[1:], -1)\n",
    "    np.fill_diagonal(A[:,1:], -1)\n",
    "    return A\n",
    "\n",
    "def boundaryProblem(N, f, c):\n",
    "    h = 1/N\n",
    "    X = getNodes(N)\n",
    "    F = np.vectorize(f)(X).reshape((N-1,1))\n",
    "    A = (1/(h**2))*createBDYTriDiagMatrix(N-1, 2 + c*(h**2))\n",
    "    V = TriDiagSolver(A,F).reshape((N-1,1))\n",
    "    return F,A,V,X"
   ],
   "outputs": [],
   "metadata": {}
  },
  {
   "cell_type": "markdown",
   "source": [
    "Using my functions we can get the solution:"
   ],
   "metadata": {}
  },
  {
   "cell_type": "code",
   "execution_count": 6,
   "source": [
    "c = np.pi**2\n",
    "N = 50\n",
    "f = lambda x: 2*(np.pi**2)*np.sin(np.pi*x)\n",
    "F, A, V, X = boundaryProblem(N, f, c)"
   ],
   "outputs": [],
   "metadata": {}
  },
  {
   "cell_type": "markdown",
   "source": [
    "Plotting our solution:"
   ],
   "metadata": {}
  },
  {
   "cell_type": "code",
   "execution_count": 7,
   "source": [
    "plt.title(\"Tridiagonal Solution for u\")\n",
    "plt.plot(X, V);"
   ],
   "outputs": [
    {
     "output_type": "display_data",
     "data": {
      "text/plain": [
       "<Figure size 432x288 with 1 Axes>"
      ],
      "image/png": "[encoded data removed]"
     },
     "metadata": {
      "needs_background": "light"
     }
    }
   ],
   "metadata": {}
  },
  {
   "cell_type": "markdown",
   "source": [
    "##### Part b)\n",
    "The exact solution to the boundary value problem $(1)$ is $u(x) = \\sin(\\pi x)$. Check this."
   ],
   "metadata": {}
  },
  {
   "cell_type": "markdown",
   "source": [
    "If this is the exact solution, then \n",
    "$$Au = F$$\n",
    "And furthermore,\n",
    "$$v = u$$\n",
    "\n",
    "Since we are using an approximation to the solution, the precision is based on the amount of nodes we use, so we instead check to see if each is close. Since the error is $O(h^{2})$ with $50$ nodes we should get an accuracy of about $O(10^{-3})$ so we check to see if the errors are within this range. This is done below:"
   ],
   "metadata": {}
  },
  {
   "cell_type": "code",
   "execution_count": 9,
   "source": [
    "closeness = 1e-3\n",
    "u = lambda x: np.sin(np.pi * x)\n",
    "U = np.vectorize(u)(X).reshape((N-1,1))\n",
    "\n",
    "print(\"Error range = \", closeness)\n",
    "print(\"Au = F\", np.all(np.isclose(np.matmul(A, U), F, rtol=closeness)))\n",
    "print(\"u = v\", np.all(np.isclose(U, V, rtol=closeness)))"
   ],
   "outputs": [
    {
     "output_type": "stream",
     "name": "stdout",
     "text": [
      "Error range =  0.001\n",
      "Au = F True\n",
      "u = v True\n"
     ]
    }
   ],
   "metadata": {}
  },
  {
   "cell_type": "markdown",
   "source": [
    "Now we plot the two solutions on the same plane to see how to compare:"
   ],
   "metadata": {}
  },
  {
   "cell_type": "code",
   "execution_count": 10,
   "source": [
    "plt.title(\"Approximated and Exact solution of u\")\n",
    "plt.plot(X, V, label = \"Approximate\");\n",
    "plt.plot(X, U, label = \"Exact\", linestyle=\"--\")\n",
    "plt.legend();"
   ],
   "outputs": [
    {
     "output_type": "display_data",
     "data": {
      "text/plain": [
       "<Figure size 432x288 with 1 Axes>"
      ],
      "image/png": "[encoded data removed]"
     },
     "metadata": {
      "needs_background": "light"
     }
    }
   ],
   "metadata": {}
  },
  {
   "cell_type": "markdown",
   "source": [
    "So they are very close!"
   ],
   "metadata": {}
  },
  {
   "cell_type": "markdown",
   "source": [
    "Now a graph of the error:"
   ],
   "metadata": {}
  },
  {
   "cell_type": "code",
   "execution_count": 11,
   "source": [
    "plt.title(\"Error between Approximated solution and Exact\")\n",
    "plt.plot(X, V-U);"
   ],
   "outputs": [
    {
     "output_type": "display_data",
     "data": {
      "text/plain": [
       "<Figure size 432x288 with 1 Axes>"
      ],
      "image/png": "[encoded data removed]"
     },
     "metadata": {
      "needs_background": "light"
     }
    }
   ],
   "metadata": {}
  },
  {
   "cell_type": "markdown",
   "source": [
    "##### Part c)\n",
    "Compute the error of your approximation in the $2$-norm for $N =50$. Solve again $(2)$ for $N=100$, by how much would you expect the error to decrease? Verify your answer by comparing the error $N=50$ and $N=100$."
   ],
   "metadata": {}
  },
  {
   "cell_type": "markdown",
   "source": [
    "Calculating error in the $2$-norm for $N = 50$"
   ],
   "metadata": {}
  },
  {
   "cell_type": "code",
   "execution_count": 12,
   "source": [
    "err_50 = L_p_Norm(V,U, p = 2)\n",
    "print(\"Error at N=50: \", err_50)"
   ],
   "outputs": [
    {
     "output_type": "stream",
     "name": "stdout",
     "text": [
      "Error at N=50:  0.000822494085769116\n"
     ]
    }
   ],
   "metadata": {}
  },
  {
   "cell_type": "markdown",
   "source": [
    "Solving again for $N = 100$"
   ],
   "metadata": {}
  },
  {
   "cell_type": "code",
   "execution_count": 13,
   "source": [
    "N = 100\n",
    "F_100, A_100, V_100, X_100 = boundaryProblem(N, f, c)\n",
    "U_100 = np.vectorize(u)(X_100).reshape((N-1,1))"
   ],
   "outputs": [],
   "metadata": {}
  },
  {
   "cell_type": "markdown",
   "source": [
    "We would expect the error to decrease by a factor of $h^{2} \\times \\left(\\frac{2}{h}\\right)^2 = 4$. We now test it below:"
   ],
   "metadata": {}
  },
  {
   "cell_type": "code",
   "execution_count": 14,
   "source": [
    "err_100 = L_p_Norm(V_100,U_100, p = 2)\n",
    "print(\"Error at N=100: \", err_100)"
   ],
   "outputs": [
    {
     "output_type": "stream",
     "name": "stdout",
     "text": [
      "Error at N=100:  0.000290788399515632\n"
     ]
    }
   ],
   "metadata": {}
  },
  {
   "cell_type": "code",
   "execution_count": 15,
   "source": [
    "err_ratio = err_50/err_100\n",
    "print(\"The error ratio is: \", err_ratio)"
   ],
   "outputs": [
    {
     "output_type": "stream",
     "name": "stdout",
     "text": [
      "The error ratio is:  2.828496897191048\n"
     ]
    }
   ],
   "metadata": {}
  },
  {
   "cell_type": "markdown",
   "source": [
    "Which is pretty close to the estimated decrease in the error."
   ],
   "metadata": {}
  },
  {
   "cell_type": "markdown",
   "source": [
    "##### Part d)\n",
    "In real applications we do not know the exact solution. Describe a process to check the convergence and rate of convergence of your approximation if you don't know the exact solution."
   ],
   "metadata": {}
  },
  {
   "cell_type": "markdown",
   "source": [
    "##### Solution\n",
    "A process to check would be to increase $h$ and check the ratio of the errors, as done above. An easy way is to halve $h$  and that gives a predictable error. Hence, after computing v for $h$, $h/2$ and $h/4$ we can evaluate the ratios and get an estimate for the rate of convergence. If it matches the theoretical rate of convergence, then we will be getting close to the actual value."
   ],
   "metadata": {}
  },
  {
   "cell_type": "markdown",
   "source": [
    "___"
   ],
   "metadata": {}
  },
  {
   "cell_type": "markdown",
   "source": [
    "### Problem 3\n",
    "Consider the linear system:\n",
    "\n",
    "\\begin{align*}\n",
    " x_{1} - 2x_{2} + x_{3} = -1\\\\\n",
    " 2x_{1} + x_{2} - 3x_{3} = 3\\\\\n",
    "x_{1} - x_{2} + x_{3} = 0\n",
    "\\end{align*}"
   ],
   "metadata": {}
  },
  {
   "cell_type": "markdown",
   "source": [
    "###### Part a)\n",
    "Do the first two iterations of Jacobi."
   ],
   "metadata": {}
  },
  {
   "cell_type": "markdown",
   "source": [
    "###### Solution\n",
    "Rewriting the diagonal in their iterative solution form, we have:\n",
    "\n",
    "\\begin{align*}\n",
    "& x_{1}^{(k+1)} = 2x_{2}^{(k)} -x_{3}^{(k)} - 1\\\\\n",
    "& x_{2}^{(k+1)} = -2x_{1}^{(k)} + 3x_{3}^{(k)} + 3\\\\\n",
    "& x_{3}^{(k+1)} = -x_{1}^{(k)} + x_{2}^{(k)}\n",
    "\\end{align*}\n",
    "\n",
    "Now iterating and starting with \n",
    "$$\n",
    "x^{(0)} = \\begin{bmatrix}\n",
    "0 \\\\ 0\\\\ 0\n",
    "\\end{bmatrix}\n",
    "$$\n",
    "\n",
    "First iteration,\n",
    "\\begin{align*}\n",
    "& x_{1}^{(0+1)} = 2(0) -(0) - 1 = -1\\\\\n",
    "& x_{2}^{(0+1)} = -2(0) + 3(0) + 3 = 3\\\\\n",
    "& x_{3}^{(0+1)} = 0 + 0 = 0\n",
    "\\end{align*}\n",
    "So then  \n",
    "$$\n",
    "x^{(1)} = \\begin{bmatrix}\n",
    "-1\\\\ 3\\\\ 0\n",
    "\\end{bmatrix}\n",
    "$$\n",
    "\n",
    "And the second iteration:\n",
    "\\begin{align*}\n",
    "& x_{1}^{(1+1)} = 2(3) -(0) - 1 = 5\\\\\n",
    "& x_{2}^{(1+1)} = -2(-1) + 3(0) + 3 = 5\\\\\n",
    "& x_{3}^{(1+1)} = -(-1) + 3 = 0 = 4\n",
    "\\end{align*}\n",
    "So then  \n",
    "$$\n",
    "x^{(2)} = \\begin{bmatrix}\n",
    "5\\\\ 5\\\\ 4\n",
    "\\end{bmatrix}\n",
    "$$"
   ],
   "metadata": {}
  },
  {
   "cell_type": "markdown",
   "source": [
    "##### Part b) \n",
    "Do the first two iterations of Gauss-Seidel."
   ],
   "metadata": {}
  },
  {
   "cell_type": "markdown",
   "source": [
    "###### Solution\n",
    "To do Gauss-Seidel, we merely update the Jacobi iteration with the already computed components of $x^{(k+1)}$\n",
    "\n",
    "\\begin{align*}\n",
    "& x_{1}^{(k+1)} = 2x_{2}^{(k)} -x_{3}^{(k)} - 1\\\\\n",
    "& x_{2}^{(k+1)} = -2x_{1}^{(k+1)} + 3x_{3}^{(k)} + 3\\\\\n",
    "& x_{3}^{(k+1)} = -x_{1}^{(k+1)} + x_{2}^{(k+1)}\n",
    "\\end{align*}\n",
    "\n",
    "Now iterating and starting with \n",
    "$$\n",
    "x^{(0)} = \\begin{bmatrix}\n",
    "0 \\\\ 0\\\\ 0\n",
    "\\end{bmatrix}\n",
    "$$\n",
    "\n",
    "First iteration,\n",
    "\\begin{align*}\n",
    "& x_{1}^{(0+1)} = 2(0) -(0) - 1 = -1\\\\\n",
    "& x_{2}^{(0+1)} = -2(-1) + 3(0) + 3 = 5\\\\\n",
    "& x_{3}^{(0+1)} = -(-1) + (5) = 6\n",
    "\\end{align*}\n",
    "So then  \n",
    "$$\n",
    "x^{(1)} = \\begin{bmatrix}\n",
    "-1\\\\ 5\\\\ 6\n",
    "\\end{bmatrix}\n",
    "$$\n",
    "\n",
    "And the second iteration:\n",
    "\\begin{align*}\n",
    "& x_{1}^{(1+1)} = 2(5) -(6) - 1 = 3\\\\\n",
    "& x_{2}^{(1+1)} = -2(3) + 3(6) + 3 = 15\\\\\n",
    "& x_{3}^{(1+1)} = -(3) + (15) = 0 = 12\n",
    "\\end{align*}\n",
    "So then  \n",
    "$$\n",
    "x^{(2)} = \\begin{bmatrix}\n",
    "3\\\\ 15\\\\ 12\n",
    "\\end{bmatrix}\n",
    "$$\n",
    "\n"
   ],
   "metadata": {}
  },
  {
   "cell_type": "markdown",
   "source": [
    "##### Part c)\n",
    "Which of the two approximations is closer to the exact solution $(1,1,0)$?"
   ],
   "metadata": {}
  },
  {
   "cell_type": "markdown",
   "source": [
    "##### Solution"
   ],
   "metadata": {}
  },
  {
   "cell_type": "markdown",
   "source": [
    "Using the $\\ell_{2}$ norm we check the error of both of the second iterations to see which is closer."
   ],
   "metadata": {}
  },
  {
   "cell_type": "code",
   "execution_count": 30,
   "source": [
    "jacobi_2 = np.array([5,5,4])\n",
    "gs_2 = np.array([3,15,12])\n",
    "exact_sol = np.array([1,1,0])\n",
    "\n",
    "jacobi_err = L_p_Norm(jacobi_2, exact_sol, 2)\n",
    "gs_err = L_p_Norm(gs_2, exact_sol, 2)\n",
    "\n",
    "print(\"Jacobian Iteration Error: {}\".format(jacobi_err))\n",
    "print(\"Gauss-Seidel Iteration Error: {}\".format(gs_err))"
   ],
   "outputs": [
    {
     "output_type": "stream",
     "name": "stdout",
     "text": [
      "Jacobian Iteration Error: 6.928203230275509\n",
      "Gauss-Seidel Iteration Error: 18.547236990991408\n"
     ]
    }
   ],
   "metadata": {}
  },
  {
   "cell_type": "markdown",
   "source": [
    "The Jacobian Iteration is actually has closer than the Gauss-Seidel Method on two iterations. In fact, both methods diverge in this case, and when they both diverge, Gauss-Seidel always diverges faster than Jacobi iteration. So it makes sense that the Jacobi Iteration is closer."
   ],
   "metadata": {}
  },
  {
   "cell_type": "markdown",
   "source": [
    "____"
   ],
   "metadata": {}
  },
  {
   "cell_type": "markdown",
   "source": [
    "### Problem 4\n",
    "Consider the system\n",
    "\n",
    "\\begin{align*}\n",
    " 2x_{1}-x_{2}+x_{3} = -1\\\\\n",
    " 2x_{1}+2x_{2} + 2x_{3} = 4\\\\\n",
    " -x_{1}-x_{2} + 2x_{3} = -5\n",
    "\\end{align*}\n",
    "\n",
    "By finding the spectral radius of the Jacobi and Gauss-Seidel iteration matrices prove that the Jacobi method diverges while Gauss-Seidel's method converges for this system."
   ],
   "metadata": {}
  },
  {
   "cell_type": "markdown",
   "source": [
    "##### Solution\n",
    "For this system of equations, we have:\n",
    "\n",
    "$$\n",
    "A = \\begin{bmatrix}\n",
    "2 & -1 & 1\\\\\n",
    "2 & 2 & 2\\\\\n",
    "-1 & -1 & 2\n",
    "\\end{bmatrix}\n",
    "$$\n",
    "\n",
    "So then we must find the iteration matrix, $T$ of both the Jacobi and Gauss-Seidel Iteration.\n",
    "We have that:\n",
    "$$T = M^{-1}N = I - M^{-1}A$$\n",
    "\n",
    "So for Jacobi iteration we have the following for $M$:\n",
    "\n",
    "$$\n",
    "M = \\text{diag}(A) =  \\begin{bmatrix}\n",
    "2 & 0 & 0\\\\\n",
    "0 & 2 & 0\\\\\n",
    "0 & 0 & 2\n",
    "\\end{bmatrix} \\implies\n",
    "M^{-1} =  \\begin{bmatrix}\n",
    "\\frac{1}{2} & 0 & 0\\\\\n",
    "0 & \\frac{1}{2} & 0\\\\\n",
    "0 & 0 & \\frac{1}{2}\n",
    "\\end{bmatrix}\n",
    "$$\n",
    "\n",
    "Then for T:\n",
    "$$\n",
    "T = I - M^{-1}A = \\begin{bmatrix}\n",
    "1 & 0 & 0\\\\\n",
    "0 & 1 & 0\\\\\n",
    "0 & 0 & 1\n",
    "\\end{bmatrix} -\\begin{bmatrix}\n",
    "\\frac{1}{2} & 0 & 0\\\\\n",
    "0 & \\frac{1}{2} & 0\\\\\n",
    "0 & 0 & \\frac{1}{2}\n",
    "\\end{bmatrix} \\begin{bmatrix}\n",
    "2 & -1 & 1\\\\\n",
    "2 & 2 & 2\\\\\n",
    "-1 & -1 & 2\n",
    "\\end{bmatrix} = \\begin{bmatrix}0&\\frac{1}{2}&-\\frac{1}{2}\\\\ -1&0&-1\\\\ \\frac{1}{2}&\\frac{1}{2}&0\\end{bmatrix}\n",
    "$$\n",
    "\n",
    "So then we have $\\rho(T) = \\max_{1\\leq i \\leq 3} \\lvert{\\lambda_{i}}\\rvert$ for $\\lambda_{i}$ being the i-th eigenvalue of $T$.\n",
    "\n",
    "$$\\rho(T) = \\left\\lvert i\\frac{\\sqrt{5}}{2}\\right\\rvert = \\frac{\\sqrt{5}}{2}$$\n",
    "Which gives $\\rho(T) = \\frac{\\sqrt{5}}{2} > 1$, so the Jacobi Iteration Method Diverges. \n",
    "\n",
    "\n",
    "\n",
    "Now repeating the process for the Gauss-Seidel Iteration:\n",
    "This time, we have $M$ being the lower triangular section of $A$:\n",
    "\n",
    "$$\n",
    "M =\\begin{bmatrix}\n",
    "2 & 0 & 0\\\\\n",
    "2 & 2 & 0\\\\\n",
    "-1 & -1 & 2\n",
    "\\end{bmatrix} \\implies M^{-1} = \\begin{bmatrix}\\frac{1}{2}&0&0\\\\ -\\frac{1}{2}&\\frac{1}{2}&0\\\\ 0&\\frac{1}{4}&\\frac{1}{2}\\end{bmatrix}\n",
    "$$ \n",
    "\n",
    "Then solving for $T$:\n",
    "$$\n",
    "T = I - M^{-1}A = \\begin{bmatrix}\n",
    "1 & 0 & 0\\\\\n",
    "0 & 1 & 0\\\\\n",
    "0 & 0 & 1\n",
    "\\end{bmatrix} - \\begin{bmatrix}\\frac{1}{2}&0&0\\\\ -\\frac{1}{2}&\\frac{1}{2}&0\\\\ 0&\\frac{1}{4}&\\frac{1}{2}\\end{bmatrix}\\begin{bmatrix}\n",
    "2 & -1 & 1\\\\\n",
    "2 & 2 & 2\\\\\n",
    "-1 & -1 & 2\n",
    "\\end{bmatrix} = \\begin{bmatrix}0&\\frac{1}{2}&-\\frac{1}{2}\\\\ 0&-\\frac{1}{2}&-\\frac{1}{2}\\\\ 0&0&-\\frac{1}{2}\\end{bmatrix}\n",
    "$$\n",
    "\n",
    "Then for $\\rho(T)$:\n",
    "$$\\rho(T) = \\left\\lvert-\\frac{1}{2}\\right\\rvert \\frac{1}{2}$$\n",
    "\n",
    "And clearly we have:\n",
    "$$\\rho(T) = \\left\\lvert-\\frac{1}{2}\\right\\rvert \\frac{1}{2} < 1$$\n",
    "\n",
    "So the Gauss-Seidel Iteration method converges."
   ],
   "metadata": {}
  }
 ],
 "metadata": {
  "kernelspec": {
   "display_name": "Python 3",
   "language": "python",
   "name": "python3"
  },
  "language_info": {
   "codemirror_mode": {
    "name": "ipython",
    "version": 3
   },
   "file_extension": ".py",
   "mimetype": "text/x-python",
   "name": "python",
   "nbconvert_exporter": "python",
   "pygments_lexer": "ipython3",
   "version": "3.8.2"
  }
 },
 "nbformat": 4,
 "nbformat_minor": 4
}