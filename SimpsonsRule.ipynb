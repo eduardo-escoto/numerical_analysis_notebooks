{
 "cells": [
  {
   "cell_type": "markdown",
   "source": [
    "# Simpson's Rule"
   ],
   "metadata": {}
  },
  {
   "cell_type": "markdown",
   "source": [
    "I begin this assignment by loading necessary packages:"
   ],
   "metadata": {}
  },
  {
   "cell_type": "code",
   "execution_count": 3,
   "source": [
    "import numpy as np\n",
    "from matplotlib import pyplot as plt"
   ],
   "outputs": [],
   "metadata": {}
  },
  {
   "cell_type": "markdown",
   "source": [
    "___"
   ],
   "metadata": {}
  },
  {
   "cell_type": "markdown",
   "source": [
    "## Problem 1"
   ],
   "metadata": {}
  },
  {
   "cell_type": "markdown",
   "source": [
    "Derive directly the simple Simpson rule on $[−1, 1]$ by approximating the integrand f with the Hermite-interpolation polynomial, which interpolates $f(−1)$, $f(0)$, $f'(0)$, and $f(1)$."
   ],
   "metadata": {}
  },
  {
   "cell_type": "markdown",
   "source": [
    "##### Solution\n",
    "In order to derive the simple Simpson Rule, we want to use $3$ evenly spaced nodes on $[-1,1]$, ie nodes at $-1, 0, 1$.\n",
    "\n",
    "We also have the interpolating data at $f(−1)$, $f(0)$, $f'(0)$, and $f(1)$. \n",
    "\n",
    "Thus, we can use the divided differences to give us an interpolating polynomial that can be integrated in order to get the simple Simpson's Rule on [-1,1]:\n",
    "\n",
    "\\begin{align*}\n",
    "& Q_{2}[f] =\\int_{-1}^{1}f(x)\\textrm{d}x = \\frac{(b-a)}{6}\\left[f(-1) + 4f\\left(\\frac{b-a}{2}\\right) + f(1)\\right] \\\\\n",
    "& Q_{2}[f] = \\frac{1}{3}\\left[f(-1) + 4f(0) + f(1)\\right] \\textrm{ for } [a,b] = [-1,1]\n",
    "\\end{align*}\n",
    "\n",
    "Therefore we begin with the divided differences table:\n",
    "\n",
    "$$\n",
    "\\begin{array}{cccccc}\n",
    "-1 & f(-1) \\\\\n",
    "    &     & f[-1,0] \\\\\n",
    "0 & f(0) &             & f[-1,0,0]\\\\\n",
    "    &     & f[0,0]  &              & f[-1,0,0,1]\\\\\n",
    "0 & f(0) &             & f[0,0,1] &        \\\\     \n",
    "    &     & f[0,1] &              \\\\\n",
    "1 & f(1) &             \n",
    "\\end{array}\n",
    "$$\n",
    "\n",
    "Which fills in as:\n",
    "\n",
    "$$\n",
    "\\begin{array}{cccccc}\n",
    "-1 & f(-1) \\\\\n",
    "    &     & f(0)-f(-1) \\\\\n",
    "0 & f(0) &             & f'(0)+f(-1)-f(0)\\\\\n",
    "    &     & f'(0)  &              & f'(0) + \\frac{f(1)-f(-1)}{2}\\\\\n",
    "0 & f(0) &             & f(1)-f(0)-f'(0) &        \\\\     \n",
    "    &     & f(1)-f(0)  &              \\\\\n",
    "1 & f(1) &             \n",
    "\\end{array}\n",
    "$$\n",
    "\n",
    "We then use these to get the following interpolating polynomial:\n",
    "\n",
    "\\begin{align*}\n",
    "& p_{3}(x) = f(-1) + \\left[f(0)-f(-1)\\right](x+1) + \\\\\n",
    "& \\left[f'(0)+f(-1)-f(0)\\right]x(x+1) +  \\left[f'(0) + \\frac{f(1)-f(-1)}{2}\\right]x^2(x+1)\n",
    "\\end{align*}\n",
    "\n",
    "Then by simplifying we have:\n",
    "\n",
    "$$p_{3}(x) = f(-1)\\left[\\frac{x^2 - x^3}{2}\\right] + f(0)\\left[1-x^2\\right] + f(1)\\left[\\frac{x^2 + x^3}{2}\\right]$$\n",
    "\n",
    "Now, since $p_{3}(x)$ is an interpolating polynomial for $f(x)$, we have:\n",
    "\n",
    "$$\\int_{-1}^{1}f(x)\\textrm{d}x = \\int_{-1}^{1}p_{3}(x)\\textrm{d}x = \\int_{-1}^{1}f(-1)\\left[\\frac{x^2 - x^3}{2}\\right] + f(0)\\left[1-x^2\\right] + f(1)\\left[\\frac{x^2 + x^3}{2}\\right]\\textrm{d}x $$\n",
    "\n",
    "Then integrating $p_{3}(x)$ gives:\n",
    "\n",
    "$$\\int_{-1}^{1}f(x)\\textrm{d}x = \\int_{-1}^{1}p_{3}(x)\\textrm{d}x = \\frac{1}{3}\\left[f(-1) + 4f(0) + f(1)\\right]$$\n",
    "\n",
    "Which is exactly the simple Simpson's rule on the interval $[-1,1]$!"
   ],
   "metadata": {}
  },
  {
   "cell_type": "markdown",
   "source": [
    "____"
   ],
   "metadata": {}
  },
  {
   "cell_type": "markdown",
   "source": [
    "## Problem 2"
   ],
   "metadata": {}
  },
  {
   "cell_type": "markdown",
   "source": [
    "Let \n",
    "\\begin{equation*}\n",
    "f(x) = \\begin{cases}\n",
    "1 + x, & -1 \\leq x \\leq 0 \\\\\n",
    "1 - x ,& 0 \\leq x \\leq 1\n",
    "\\end{cases}\n",
    "\\end{equation*}\n",
    "\n",
    "Find an approximation of the integral $f$ over $\\left[-1,1\\right]$ by using the methods below:\n",
    "\n",
    "Compute the error in each case and explain the differences in the accuracy of the results."
   ],
   "metadata": {}
  },
  {
   "cell_type": "markdown",
   "source": [
    "##### Solution \n",
    "\n",
    "Firstly we compute the true value of $\\displaystyle{\\int_{-1}^{1}f(x)dx}$ through piecewise analytic integration to get:\n",
    "\n",
    "\\begin{align*}\n",
    "& \\int_{-1}^{1}f(x)dx = \\int_{-1}^{0}f(x)dx + \\int_{0}^{1}f(x)dx\\\\\n",
    "& \\int_{-1}^{1}f(x)dx = \\left[x + \\frac{x^2}{2}\\right]^{0}_{-1} + \\left[x - \\frac{x^2}{2}\\right]^{1}_{0}\\\\\n",
    "& \\int_{-1}^{1}f(x)dx = 1 - \\frac{1}{2} + 1 - \\frac{1}{2} = 1\n",
    "\\end{align*}\n",
    "\n",
    "So we get:\n",
    "$$\\int_{-1}^{1}f(x)dx = 1$$\n",
    "\n",
    "This will allow us to compute the error for each of our simple quadratures."
   ],
   "metadata": {}
  },
  {
   "cell_type": "code",
   "execution_count": 4,
   "source": [
    "true_value = 1"
   ],
   "outputs": [],
   "metadata": {}
  },
  {
   "cell_type": "markdown",
   "source": [
    "And now we define our function in code:"
   ],
   "metadata": {}
  },
  {
   "cell_type": "code",
   "execution_count": 5,
   "source": [
    "f = lambda x: 1 + x if x <= 0 else 1-x"
   ],
   "outputs": [],
   "metadata": {}
  },
  {
   "cell_type": "markdown",
   "source": [
    "#### Part A) \n",
    "The simple Trapezoidal Rule over $\\left[-1,1\\right]$"
   ],
   "metadata": {}
  },
  {
   "cell_type": "markdown",
   "source": [
    "##### Solution\n",
    "Firstly we compute the integral using the simple Trapezoidal Quadrature on the whole interval:"
   ],
   "metadata": {}
  },
  {
   "cell_type": "code",
   "execution_count": 22,
   "source": [
    "def Simple_Trapezoidal_Quad(I, f):\n",
    "    a,b = I\n",
    "    return ((b-a)/2)*(f(a)+f(b))"
   ],
   "outputs": [],
   "metadata": {}
  },
  {
   "cell_type": "code",
   "execution_count": 23,
   "source": [
    "I = (-1,1)\n",
    "simple_trap_value = Simple_Trapezoidal_Quad(I, f)\n",
    "simple_trap_value"
   ],
   "outputs": [
    {
     "output_type": "execute_result",
     "data": {
      "text/plain": [
       "0.0"
      ]
     },
     "metadata": {},
     "execution_count": 23
    }
   ],
   "metadata": {}
  },
  {
   "cell_type": "markdown",
   "source": [
    "In this case we get a value of $0$ using the quadrature, providing us with the following error:"
   ],
   "metadata": {}
  },
  {
   "cell_type": "code",
   "execution_count": 8,
   "source": [
    "np.abs(simple_trap_value - true_value)"
   ],
   "outputs": [
    {
     "output_type": "execute_result",
     "data": {
      "text/plain": [
       "-1.0"
      ]
     },
     "metadata": {},
     "execution_count": 8
    }
   ],
   "metadata": {}
  },
  {
   "cell_type": "markdown",
   "source": [
    "We get a completely incorrect value due to the interval being the whole interval. We essentially approximate $f$ with a straight line which integrates to area 0. This can be seen in the plot below:"
   ],
   "metadata": {}
  },
  {
   "cell_type": "code",
   "execution_count": 9,
   "source": [
    "points = np.linspace(-1,1,500)\n",
    "\n",
    "plt.plot(points, np.vectorize(f)(points), label = \"f\")\n",
    "plt.plot([-1,1],[0,0], label = \"simple trap\", linestyle=\"--\")\n",
    "plt.title(\"Original function vs Simple Trapezoidal Quadrature\")\n",
    "plt.legend();"
   ],
   "outputs": [
    {
     "output_type": "display_data",
     "data": {
      "text/plain": [
       "<Figure size 432x288 with 1 Axes>"
      ],
      "image/png": "[encoded data removed]"
     },
     "metadata": {
      "needs_background": "light"
     }
    }
   ],
   "metadata": {}
  },
  {
   "cell_type": "markdown",
   "source": [
    "#### Part B)\n",
    "The simple Simpsons rule over $[-1,1]$"
   ],
   "metadata": {}
  },
  {
   "cell_type": "markdown",
   "source": [
    "##### Solution\n",
    "Here we define code which approximates the result using the simple Simpson's rule on $[-1,1]$ which we proved in problem 1."
   ],
   "metadata": {}
  },
  {
   "cell_type": "code",
   "execution_count": 10,
   "source": [
    "def Simple_Simpson_Quad(I, f):\n",
    "    a, b = I\n",
    "    return (1/6)*(b-a)*(f(a) + 4*f((b+a)/2) + f(b))"
   ],
   "outputs": [],
   "metadata": {}
  },
  {
   "cell_type": "code",
   "execution_count": 11,
   "source": [
    "I = (-1,1)\n",
    "simple_simpsons_value = Simple_Simpson_Quad(I, f)\n",
    "simple_simpsons_value"
   ],
   "outputs": [
    {
     "output_type": "execute_result",
     "data": {
      "text/plain": [
       "1.3333333333333333"
      ]
     },
     "metadata": {},
     "execution_count": 11
    }
   ],
   "metadata": {}
  },
  {
   "cell_type": "markdown",
   "source": [
    "In this case we get a value of $1.33333$ using the quadrature, providing us with the following error:"
   ],
   "metadata": {}
  },
  {
   "cell_type": "code",
   "execution_count": 12,
   "source": [
    "np.abs(simple_simpsons_value - true_value)"
   ],
   "outputs": [
    {
     "output_type": "execute_result",
     "data": {
      "text/plain": [
       "0.33333333333333326"
      ]
     },
     "metadata": {},
     "execution_count": 12
    }
   ],
   "metadata": {}
  },
  {
   "cell_type": "markdown",
   "source": [
    "In this case, we get a value that over-estimates that of the true value due to the intermediate term which gives a high value at $0$, this can be seen below."
   ],
   "metadata": {}
  },
  {
   "cell_type": "code",
   "execution_count": 13,
   "source": [
    "points = np.linspace(-1,1,500)\n",
    "\n",
    "plt.plot(points, np.vectorize(f)(points), label = \"f\")\n",
    "plt.plot([-1,0,1],[f(-1)/3, 4*f(0)/3, f(1)/3], label = \"simple trap\", linestyle=\"--\")\n",
    "plt.title(\"Original function vs Simpson's Quadrature\")\n",
    "plt.legend();"
   ],
   "outputs": [
    {
     "output_type": "display_data",
     "data": {
      "text/plain": [
       "<Figure size 432x288 with 1 Axes>"
      ],
      "image/png": "[encoded data removed]"
     },
     "metadata": {
      "needs_background": "light"
     }
    }
   ],
   "metadata": {}
  },
  {
   "cell_type": "markdown",
   "source": [
    "#### Part C) \n",
    "The simple Trapezoidal Rule over $[-1,0]$, and then over $[0,1]$"
   ],
   "metadata": {}
  },
  {
   "cell_type": "markdown",
   "source": [
    "##### Solution\n",
    "Here, we just use the previous code for our simple trapezoidal rule on the two intervals."
   ],
   "metadata": {}
  },
  {
   "cell_type": "code",
   "execution_count": 104,
   "source": [
    "I_1 = (-1,0)\n",
    "I_2 = (0,1)\n",
    "composite_trap_value = \\\n",
    "    Simple_Trapezoidal_Quad(I_1,f) + \\\n",
    "    Simple_Trapezoidal_Quad(I_2, f)\n",
    "composite_trap_value"
   ],
   "outputs": [
    {
     "output_type": "execute_result",
     "data": {
      "text/plain": [
       "2.5430806348152437"
      ]
     },
     "metadata": {},
     "execution_count": 104
    }
   ],
   "metadata": {}
  },
  {
   "cell_type": "markdown",
   "source": [
    "In this case we get a value of $1$ using the quadrature, providing us with the following error:"
   ],
   "metadata": {}
  },
  {
   "cell_type": "code",
   "execution_count": 105,
   "source": [
    "np.abs(composite_trap_value - true_value)"
   ],
   "outputs": [
    {
     "output_type": "execute_result",
     "data": {
      "text/plain": [
       "0.19267824752764096"
      ]
     },
     "metadata": {},
     "execution_count": 105
    }
   ],
   "metadata": {}
  },
  {
   "cell_type": "markdown",
   "source": [
    "In this case, we get the exact value because we are able to estimate the path correctly with 2 trapezoids. This can be seen below."
   ],
   "metadata": {}
  },
  {
   "cell_type": "code",
   "execution_count": 16,
   "source": [
    "points = np.linspace(-1,1,500)\n",
    "\n",
    "plt.plot(points, np.vectorize(f)(points), label = \"f\")\n",
    "plt.plot(np.append(I_1, I_2),np.vectorize(f)(np.append(I_1, I_2)), \n",
    "         label = \"simple trap\", linestyle=\"--\", color = \"red\")\n",
    "plt.title(\"Original function vs Composite Trapezoidal Quadrature\")\n",
    "plt.legend();"
   ],
   "outputs": [
    {
     "output_type": "display_data",
     "data": {
      "text/plain": [
       "<Figure size 432x288 with 1 Axes>"
      ],
      "image/png": "[encoded data removed]"
     },
     "metadata": {
      "needs_background": "light"
     }
    }
   ],
   "metadata": {}
  },
  {
   "cell_type": "markdown",
   "source": [
    "___"
   ],
   "metadata": {}
  },
  {
   "cell_type": "markdown",
   "source": [
    "## Problem 3"
   ],
   "metadata": {}
  },
  {
   "cell_type": "markdown",
   "source": [
    "#### Part a)\n",
    "Construct a quadrature rule of the form \n",
    "\n",
    "$$\\int_{-1}^{1} f(x)\\textrm{d}x = A_{0}f(-1) + A_{1}f(0) + A_{2}f(1)$$\n",
    "\n",
    "which is exact for polynomials of degree $\\leq 2$."
   ],
   "metadata": {}
  },
  {
   "cell_type": "markdown",
   "source": [
    "##### Solution\n",
    "\n",
    "To do this, we want to find an interpolatory quadrature of the form:\n",
    "\n",
    "$$Q_{n}[f] = \\int_{-1}^{1}f(x)w(x)\\textrm{d}x = \\sum_{j = 0}^{n}A_{j}f(x_{j}) \\textrm{ for }$$\n",
    "\n",
    "In this case, since we want exactness for polynomials of degree $\\leq 2$, we set $n = 2$. And  $w \\equiv 1$ for our interval where we are $[-1,1]$.\n",
    "\n",
    "$$Q_{2}[f] = \\int_{-1}^{1}f(x)\\textrm{d}x = \\sum_{j = 0}^{2}A_{j}f(x_{j}) \\textrm{ for }$$\n",
    "\n",
    "Next, we utilize the Lagrange Polynomial form to find the weights.\n",
    "\n",
    "**Note:** (We could use the method of undetermined coefficients as well, however I wanted to do it both ways, so in part b we use it instead.)\n",
    "\n",
    "We get:\n",
    "\n",
    "$$A_{j} = \\int_{-1}^{1}l_{j}(x)w(x)\\textrm{d}x$$\n",
    "\n",
    "Next, since we set the weight function $w \\equiv 1$ since we are on $[-1,1]$, we get:\n",
    "\n",
    "$$A_{j} = \\int_{-1}^{1}l_{j}(x)\\textrm{d}x $$\n",
    "\n",
    "Finally, we solve for each:\n",
    "\n",
    "$$l_{0} = \\int_{-1}^{1}\\frac{(x-0)(x-1)}{(-1-0)(-1-1)}\\textrm{d}x = \\frac{1}{3}$$\n",
    "\n",
    "$$l_{1} = \\int_{-1}^{1}\\frac{(x-(-1))(x-1)}{(0-(-1))(0-1)}\\textrm{d}x = \\frac{4}{3}$$\n",
    "\n",
    "$$l_{2} = \\int_{-1}^{1}\\frac{(x-(-1))(x-0)}{(1-(-1))(1-0)}\\textrm{d}x = \\frac{1}{3}$$\n",
    "\n",
    "Which now gives us our quadrature rule as:\n",
    "\n",
    "$$Q_{2}[f] = \\frac{1}{3}f(-1) + \\frac{4}{3}f(0) + \\frac{1}{3}f(-1) = \\int_{-1}^{1}f(x)\\textrm{d}x$$\n",
    "\n",
    "Which is the same as the Simpson's quadrature we found earlier!"
   ],
   "metadata": {}
  },
  {
   "cell_type": "markdown",
   "source": [
    "#### Part b)\n",
    "Derive the 3-point (Legendre) Gaussian quadrature to approximate $\\int_{-1}^{1}f(x)\\textrm{d}x$ (i.e. you need to obtain the nodes $x_{0},x_{1}, x_{2}$ and the corresponding weights $A_{0}, A_{1}, A_{2}$)."
   ],
   "metadata": {}
  },
  {
   "cell_type": "markdown",
   "source": [
    "##### Solution\n",
    "The goal of a Gaussian Quadrature is to create an interpolatory quadrature rule that has precision $2n+1$. This is done by using orthogonal polynomials in respect to the inner product:\n",
    "\n",
    "$$\\langle f,g \\rangle =  \\int_{a}^{b}f(x)g(x)w(x)\\textrm{d}x$$\n",
    "\n",
    "In this case, we again have $w \\equiv 1$. \n",
    "\n",
    "Thus, to construct our 3-point rule, we utilize the corresponding orthogonal Legendre polynomials. \n",
    "Since we want to use 3 interpolating nodes, we will be utilizing the 3rd order Legendre Polynomial: $\\psi_{3} = x^{3}-\\frac{3}{5}x$\n",
    "\n",
    "Notice that $\\psi_{3}$ has roots at: $x = -\\frac{\\sqrt{15}}{5}, 0, \\frac{\\sqrt{15}}{5}$\n",
    "\n",
    "Thus, we use the roots of $\\psi_{3}$ as our interpolating nodes, and continue by using the method of undetermined coefficients.\n",
    "\n",
    "\\begin{align*}\n",
    "& 2 = \\int_{-1}^{1}1\\textrm{d}x = A_{0} + A_{1} + A_{2}\\\\\n",
    "& 0 = \\int_{-1}^{1}x\\textrm{d}x = A_{0}\\left( -\\frac{\\sqrt{15}}{5}\\right) + A_{1}(0) + A_{2}\\left(\\frac{\\sqrt{15}}{5}\\right)\\\\\n",
    "& \\frac{2}{3} = \\int_{-1}^{1}x^{2}\\textrm{d}x =  A_{0}\\left(-\\frac{\\sqrt{15}}{5}\\right)^2 + A_{1}(0)^2 + A_{2}\\left(\\frac{\\sqrt{15}}{5}\\right)^2\n",
    "\\end{align*}\n",
    "\n",
    "Which gives a $3 \\times 3$ system of equations that allows us to solve for each weight of our quadrature.\n",
    "\n",
    "After solving we have, $A_{1} = \\frac{5}{9}, A_{2} = \\frac{8}{9}, A_{3} = \\frac{5}{9}$.\n",
    "\n",
    "Which gives the following quadrature rule:\n",
    "$$Q_{2}[f] = \\frac{5}{9}f\\left(-\\frac{\\sqrt{15}}{5}\\right) + \\frac{8}{9}f\\left(0\\right) + \\frac{5}{9}f\\left(\\frac{\\sqrt{15}}{5}\\right)$$"
   ],
   "metadata": {}
  },
  {
   "cell_type": "markdown",
   "source": [
    "#### Part c)\n",
    "Verify its degree of precision."
   ],
   "metadata": {}
  },
  {
   "cell_type": "markdown",
   "source": [
    "##### Solution\n",
    "Since we wanted a Quadrature rule utilizing 3 points, we used the third order Legendre Polynomial, $\\psi_{3} = \\psi_{2+1}$. \n",
    "\n",
    "From **Theorem 8.2**, we have that our Gaussian Quadrature has a degree of precision $k = 2\\times 2 +1 = 5$. \n",
    "\n",
    "Therefore, we should have exact approximations for polynomials up to degree 5 on the interval $[-1,1]$.\n",
    "\n",
    "We can move forward and verify this empirically by testing out approximations to polynomials up to degree 5 on $[-1,1]$."
   ],
   "metadata": {}
  },
  {
   "cell_type": "markdown",
   "source": [
    "Here we define our code which gives us an interpolating quadrature rule for the given roots of a Legendre polynomial."
   ],
   "metadata": {}
  },
  {
   "cell_type": "code",
   "execution_count": 33,
   "source": [
    "def Gaussian_n_Quad(psi_roots, I, f = None):\n",
    "    a, b = I\n",
    "    n = len(psi_roots)\n",
    "    \n",
    "    # We solve for each A using the method of undetermined coefficients\n",
    "    A_coeffs = np.array([psi_3_roots**i for i in range(n)])\n",
    "    \n",
    "    Integrated_n_Poly = lambda i: (lambda x: (x**(i+1))/(i+1))\n",
    "    \n",
    "    exact_int_funcs = np.array([Integrated_n_Poly(i) for i in range(n)])\n",
    "    exact_vals = np.array([g(b) - g(a) for g in exact_int_funcs])\n",
    "    \n",
    "    A = np.linalg.solve(A_coeffs, exact_vals)\n",
    "\n",
    "    if f is None:\n",
    "        return lambda f: np.sum(A*np.vectorize(f)(psi_roots))\n",
    "    else:\n",
    "        return np.sum(A*np.vectorize(f)(psi_roots))"
   ],
   "outputs": [],
   "metadata": {}
  },
  {
   "cell_type": "markdown",
   "source": [
    "Which we then utilize:"
   ],
   "metadata": {}
  },
  {
   "cell_type": "code",
   "execution_count": 41,
   "source": [
    "psi_3_roots = np.array([-np.sqrt(15)/5, 0, np.sqrt(15)/5])\n",
    "Gaussian_3_Quad = Gaussian_n_Quad(psi_3_roots, (-1,1))"
   ],
   "outputs": [],
   "metadata": {}
  },
  {
   "cell_type": "markdown",
   "source": [
    "We now use it in order to approximate values for polynomials up to degree 5."
   ],
   "metadata": {}
  },
  {
   "cell_type": "code",
   "execution_count": 94,
   "source": [
    "n = 6\n",
    "a,b = (-1,1)\n",
    "\n",
    "poly = lambda i: lambda x: x**i\n",
    "Integrated_n_Poly = lambda i: (lambda x: (x**(i+1))/(i+1))\n",
    "\n",
    "test_funcs = np.array([poly(i) for i in range(n+1)])\n",
    "\n",
    "true_results = np.array(\n",
    "    [Integrated_n_Poly(i)(b)-Integrated_n_Poly(i)(a) for i in range(n+1)]\n",
    ")\n",
    "quad_results = np.vectorize(Gaussian_3_Quad)(test_funcs)\n",
    "\n",
    "\n",
    "print(\"Results of Quadrature:\")\n",
    "for i in range(n+1):\n",
    "    print((\"f(x) = x^{:<0d}: I[f] = {:<8f},  Q[f] = {:<8f}\"\n",
    "           .format(i, true_results[i], quad_results[i])))"
   ],
   "outputs": [
    {
     "output_type": "stream",
     "name": "stdout",
     "text": [
      "Results of Quadrature:\n",
      "f(x) = x^0: I[f] = 2.000000,  Q[f] = 2.000000\n",
      "f(x) = x^1: I[f] = 0.000000,  Q[f] = 0.000000\n",
      "f(x) = x^2: I[f] = 0.666667,  Q[f] = 0.666667\n",
      "f(x) = x^3: I[f] = 0.000000,  Q[f] = 0.000000\n",
      "f(x) = x^4: I[f] = 0.400000,  Q[f] = 0.400000\n",
      "f(x) = x^5: I[f] = 0.000000,  Q[f] = 0.000000\n",
      "f(x) = x^6: I[f] = 0.285714,  Q[f] = 0.240000\n"
     ]
    }
   ],
   "metadata": {}
  },
  {
   "cell_type": "markdown",
   "source": [
    "Which as seen above, the true value of each integral matches that of the approximation of our quadrature rule, up to the 5th order polynomial. Thus our theoretical result of precision $k = 5$ is correct!"
   ],
   "metadata": {}
  },
  {
   "cell_type": "markdown",
   "source": [
    "#### Part d) \n",
    "Compare the accuracy of this 3-point Gaussian quadrature with that of the simple Simpson rule for approximating $\\int_{-1}^{1}e^{x}\\textrm{d}x$."
   ],
   "metadata": {}
  },
  {
   "cell_type": "markdown",
   "source": [
    "##### Solution\n",
    "We utilize the code we wrote above in order to approximate $\\int_{-1}^{1}e^{x}\\textrm{d}x$ with 2 different methods. This is done below:"
   ],
   "metadata": {}
  },
  {
   "cell_type": "code",
   "execution_count": 108,
   "source": [
    "I = (-1,1)\n",
    "f = lambda x: np.exp(x)\n",
    "\n",
    "simpsons_approx = Simple_Simpson_Quad(I, f)\n",
    "gauss_3_pt_approx = Gaussian_3_Quad(f)\n",
    "true_value = f(1)-f(-1)\n",
    "\n",
    "\n",
    "print(\"Results:\")\n",
    "print((\"True Value: {:<8f}\\r\\nSimpson's Rule: {:<8f}\\r\\n3-Pt Gaussian Rule: {:<8f}\".\n",
    "      format(true_value, simpsons_approx, gauss_3_pt_approx)))\n",
    "\n",
    "print(\"\\r\\nAbsolute Errors:\")\n",
    "print(\"Simpson's Rule: {:<8f}\\r\\n3-Pt Gaussian Rule: {:<8f}\".format(\n",
    "np.abs(true_value-simpsons_approx), np.abs(true_value - gauss_3_pt_approx)))"
   ],
   "outputs": [
    {
     "output_type": "stream",
     "name": "stdout",
     "text": [
      "Results:\n",
      "True Value: 2.350402\n",
      "Simpson's Rule: 2.362054\n",
      "3-Pt Gaussian Rule: 2.350337\n",
      "\n",
      "Absolute Errors:\n",
      "Simpson's Rule: 0.011651\n",
      "3-Pt Gaussian Rule: 0.000065\n"
     ]
    }
   ],
   "metadata": {}
  },
  {
   "cell_type": "markdown",
   "source": [
    "As seen above, the Gaussian 3-Point Quadrature gives us a much better approximation to $\\int_{-1}^{1}e^{x}\\textrm{d}x$. This is due to the innately higher precision of the Gaussian Quadrature Rule. The Simple Simpson's Quadrature has only precision of degree $3$, whereas the Gaussian 3-Point Quadrature we constructed has precision of degree $5$."
   ],
   "metadata": {}
  },
  {
   "cell_type": "markdown",
   "source": [
    "#### Part e)\n",
    "Show that the 3-point Gaussian quadrature can be used for approximating all $\\int_{-1}^{1}f(x)\\textrm{d}x$ by doing a simple change of variables an apply this to approximate\n",
    "\n",
    "$$\\int_{0}^{4}\\frac{\\sin x}{x}\\textrm{d}x$$"
   ],
   "metadata": {}
  },
  {
   "cell_type": "markdown",
   "source": [
    "##### Solution\n",
    "By using a simple change of variables we have the following reparameterization:\n",
    "\n",
    "$$\\int_{0}^{4}\\frac{\\sin x}{x}\\textrm{d}x = \\int_{-1}^{1}\\frac{2\\sin \\left(2t+2\\right)}{(2t+2)}\\textrm{d}t$$\n",
    "\n",
    "Which we can then use as the function we want to approximate using our 3-Point Gaussian Quadrature from earlier!\n",
    "\n",
    "This is utilized below to get a very good approximation."
   ],
   "metadata": {}
  },
  {
   "cell_type": "code",
   "execution_count": 116,
   "source": [
    "f = lambda x: 2*(np.sin(2*x+2))/(2*x + 2)\n",
    "\n",
    "gauss_3_pt_approx = Gaussian_3_Quad(f)\n",
    "gauss_3_pt_approx"
   ],
   "outputs": [
    {
     "output_type": "execute_result",
     "data": {
      "text/plain": [
       "1.7580220254363572"
      ]
     },
     "metadata": {},
     "execution_count": 116
    }
   ],
   "metadata": {}
  },
  {
   "cell_type": "markdown",
   "source": [
    "We can compare our approximation to the true value by using the built in sine integral function in `scipy`."
   ],
   "metadata": {}
  },
  {
   "cell_type": "code",
   "execution_count": 127,
   "source": [
    "from scipy import special\n",
    "sci_py_approx = special.sici(4)[0]\n",
    "sci_py_approx"
   ],
   "outputs": [
    {
     "output_type": "execute_result",
     "data": {
      "text/plain": [
       "1.758203138949053"
      ]
     },
     "metadata": {},
     "execution_count": 127
    }
   ],
   "metadata": {}
  },
  {
   "cell_type": "markdown",
   "source": [
    "Which we can see is a very good, very close approximation!"
   ],
   "metadata": {}
  }
 ],
 "metadata": {
  "kernelspec": {
   "display_name": "Python 3",
   "language": "python",
   "name": "python3"
  },
  "language_info": {
   "codemirror_mode": {
    "name": "ipython",
    "version": 3
   },
   "file_extension": ".py",
   "mimetype": "text/x-python",
   "name": "python",
   "nbconvert_exporter": "python",
   "pygments_lexer": "ipython3",
   "version": "3.8.2"
  }
 },
 "nbformat": 4,
 "nbformat_minor": 4
}