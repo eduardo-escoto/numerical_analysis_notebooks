{
 "cells": [
  {
   "cell_type": "markdown",
   "source": [
    "# ODE Interpolation"
   ],
   "metadata": {}
  },
  {
   "cell_type": "code",
   "execution_count": 1,
   "source": [
    "import numpy as np\n",
    "from matplotlib import pyplot as plt"
   ],
   "outputs": [],
   "metadata": {}
  },
  {
   "cell_type": "markdown",
   "source": [
    "## Problem 1\n",
    "Consider the ODE $y' = f(t,y)$. Construct the interpolating polynomial $p_2(t)$ of $y(t_n - \\Delta t)$, $y(t_n)$, and $y(t_n + \\Delta t)$. Approximate $y'(t_n + \\Delta t)$ by ${p}_{2}'(t_n + \\Delta t)$ to derive the backward differentiation formula (BDF) method:\n",
    "\n",
    "\\begin{align}\n",
    "\\frac{3y_{n+1} - 4y_{n} + y_{n-1}}{2\\Delta t} = f(t_{n+1}, y_{n+1})\n",
    "\\end{align}"
   ],
   "metadata": {}
  },
  {
   "cell_type": "markdown",
   "source": [
    "#### Solution\n",
    "In order to find the second degree interpolating polynomial. We use lagrange interpolation with nodes at . Firstly, let \n",
    "\n",
    "We have the following:\n",
    "\n",
    "\\begin{align*}\n",
    "p_{2}(t) = \\frac{(t- t_n)(t-(t_{n}-\\Delta t))}{((t_{n}+\\Delta t) - t_{n})((t_{n}+\\Delta t) - (t_{n}-\\Delta t))}y(t_{n} + \\Delta t) +\\\\\n",
    "\\frac{(t- t_n)(t-(t_{n}+\\Delta t))}{((t_{n}-\\Delta t) - t_{n})((t_{n}-\\Delta t) - (t_{n}+\\Delta t))}y(t_{n} - \\Delta t)+ \\\\\n",
    "\\frac{(t-(t_{n}-\\Delta t))(t-(t_{n}+\\Delta t))}{(t_{n} - (t_{n}-\\Delta t))(t_{n} - (t_{n}+\\Delta t))}y(t_{n})\n",
    "\\end{align*}\n",
    "\n",
    "Which then can be simplified by foiling the numerators and differentiated in respect to $t$ to get:\n",
    "\n",
    "\\begin{align*}\n",
    "p_{2}'(t) = \\frac{2t-2t_{n} +\\Delta t}{((t_{n}+\\Delta t) - t_{n})((t_{n}+\\Delta t) - (t_{n}-\\Delta t))}y(t_{n} + \\Delta t) +\\\\\n",
    "\\frac{2t- 2t_n -2\\Delta t}{((t_{n}-\\Delta t) - t_{n})((t_{n}-\\Delta t) - (t_{n}+\\Delta t))}y(t_{n} - \\Delta t)+ \\\\\n",
    "\\frac{2t-2t_{n}}{(t_{n} - (t_{n}-\\Delta t))(t_{n} - (t_{n}+\\Delta t))}y(t_{n})\n",
    "\\end{align*}\n",
    "\n",
    "And now plugging in $t = t_{n} + \\Delta t$ into the derivative of the polynomial we get:\n",
    "\\begin{align*}\n",
    "p_{2}'(t_{n}+\\Delta t) = \\frac{3\\Delta t y_{n+1}}{(\\Delta t)(2\\Delta t)} + \\frac{\\Delta t y_{n-1}}{(-\\Delta t)(-2\\Delta t)} + \\frac{2\\Delta t y_{n}}{(-\\Delta t)(\\Delta t)}\n",
    "\\end{align*}\n",
    "\n",
    "Which simplifies to:\n",
    "\\begin{align*}\n",
    "p_{2}'(t_{n} + \\Delta t) = \\frac{3y_{n+1} - 4y_{n} + y_{n-1}}{2\\Delta t}\n",
    "\\end{align*}\n",
    "\n",
    "Which is the desired result."
   ],
   "metadata": {}
  },
  {
   "cell_type": "markdown",
   "source": [
    "___"
   ],
   "metadata": {}
  },
  {
   "cell_type": "markdown",
   "source": [
    "## Problem 2\n",
    "Show that the local truncation error of the midpoint is $O(\\Delta t)^{3}$.\n"
   ],
   "metadata": {}
  },
  {
   "cell_type": "markdown",
   "source": [
    "#### Solution\n",
    "By definiion we have that the local truncation error $\\tau_{n+1}$ is defined as:\n",
    "\n",
    "$$\n",
    "\\tau_{n+1} = y(t_{n+1}) - [y(t_n)  + \\Delta t\\Phi(t_n, y(t_n), \\Delta t)]\n",
    "$$\n",
    "\n",
    "Thus for the midpoint method we have:\n",
    "$$\n",
    "\\tau_{n+1} = y(t_{n+1}) - y(t_n) - \\Delta t f\\left(t_{n+1/2}, y(t_n) + \\frac{\\Delta t}{2}f(t_{n}, y(t_{n})\\right)\n",
    "$$\n",
    "\n",
    "Which we can then taylor expand $f$ around $(t_n, y(t_n))$ to get:\n",
    "\\begin{align*}\n",
    "f\\left(t_{n+1/2}, y(t_n) + \\frac{\\Delta t}{2}f(t_{n}, y(t_{n})\\right) = f(t_n, y(t_n)) + \\frac{\\Delta t}{2}\\frac{\\partial f}{\\partial t}(t_n, y(t_n)) + \\frac{\\Delta t}{2}f(t_n, y(t_n))\\frac{\\partial f}{\\partial y}(t_n, y(t_n)) + O(\\Delta t)^{2}\n",
    "\\end{align*}\n",
    "\n",
    "However, notice that $y' = f, y'' = f'$ amd furthermore that:\n",
    "$$\n",
    "f' = \\frac{\\partial f}{\\partial t} + \\frac{\\partial f}{\\partial y}y' = \\frac{\\partial f}{\\partial t}+\\frac{\\partial f}{\\partial y}f\n",
    "$$\n",
    "Thus,\n",
    "\n",
    "\\begin{align*}\n",
    "f\\left(t_{n+1/2}, y(t_n) + \\frac{\\Delta t}{2}f(t_{n}, y(t_{n})\\right) = y'(t_n)+\\frac{1}{2}\\Delta ty''(t_n) + O(\\Delta t)^{2}\n",
    "\\end{align*}\n",
    "\n",
    "But we also have:\n",
    "\\begin{align*}\n",
    "y(t_{n+1})= y(t_n) + \\Delta ty'(t_n) + \\frac{1}{2}(\\Delta t)^{2}y''(t_n) + O(\\Delta t)^{3}\n",
    "\\end{align*}\n",
    "\n",
    "Then by substitution of the above two equations with the original truncation error for the mid point we end up with:\n",
    "$$\n",
    "\\tau_{n+1} = O(\\Delta t)^{3}\n",
    "$$"
   ],
   "metadata": {}
  },
  {
   "cell_type": "markdown",
   "source": [
    "___"
   ],
   "metadata": {}
  },
  {
   "cell_type": "markdown",
   "source": [
    "## Problem 3\n",
    "Consider the initial value problem \n",
    "\n",
    "\\begin{align}\n",
    "& y'(t) = \\frac{3\\cos(t)}{y^{2}(t)}, \\quad 0 < t \\leq \\pi \\\\\n",
    "& y(0) = 1.\n",
    "\\end{align}"
   ],
   "metadata": {}
  },
  {
   "cell_type": "markdown",
   "source": [
    "#### Part A\n",
    "Find the exact solution of $(2)-(3)$"
   ],
   "metadata": {}
  },
  {
   "cell_type": "markdown",
   "source": [
    "#### Solution\n",
    "To solve this analytically we first rewrite the equation as:\n",
    "\n",
    "\\begin{align*}\n",
    "& y' = \\frac{3\\cos(t)}{y^{2}} \\iff y^{2}\\textrm{d}y = 3\\cos(t)\\textrm{d}t\n",
    "\\end{align*}\n",
    "\n",
    "Which we then integrate both sides of to get:\n",
    "\n",
    "$$\n",
    "\\int y^{2}\\textrm{d}y = \\int 3\\cos(t)\\textrm{d}t \\iff \\frac{y^{3}}{3} = 3\\sin(t) + c\n",
    "$$\n",
    "And now solving for $y$:\n",
    "\n",
    "$$\n",
    "y = \\sqrt[3]{9\\sin(t)+ c} \n",
    "$$\n",
    "So now we must solve the initial value problem with the given information.\n",
    "\n",
    "$$\n",
    "y(0) = \\sqrt[3]{9\\sin(0)+ c} = \\sqrt[3]{c} = 1 \\iff c = 1\n",
    "$$\n",
    "\n",
    "Which gives the final solution,\n",
    "\n",
    "$$\n",
    "y(t) = \\sqrt[3]{9\\sin(t)+ 1} \n",
    "$$"
   ],
   "metadata": {}
  },
  {
   "cell_type": "markdown",
   "source": [
    "Next I write it in code so we can use it to compare to the numerical solution."
   ],
   "metadata": {}
  },
  {
   "cell_type": "code",
   "execution_count": 2,
   "source": [
    "y = lambda t: (9*np.sin(t) + 1)**(1/3)"
   ],
   "outputs": [],
   "metadata": {}
  },
  {
   "cell_type": "markdown",
   "source": [
    "#### Part B\n",
    "Implement Euler's method to find an approximate solution to $(2)-(3)$. Using the exact solution to verify the first order rate of convergence of the approximation."
   ],
   "metadata": {}
  },
  {
   "cell_type": "markdown",
   "source": [
    "#### Solution\n",
    "Firstly I define the function that will handle the forward Euler's Method. This will be used to generate the values."
   ],
   "metadata": {}
  },
  {
   "cell_type": "code",
   "execution_count": 3,
   "source": [
    "def forwardEuler(initial_conditions, f, N, T):\n",
    "    del_t = T/N\n",
    "    t_0, alpha = initial_conditions\n",
    "    t_n_arr = np.array([del_t * i for i in range(N+1)])\n",
    "    y_n_arr = np.array([alpha])\n",
    "    \n",
    "    for n, t_n in enumerate(t_n_arr[1:]):\n",
    "        y_n_arr = np.append(y_n_arr, y_n_arr[n] + del_t*f(t_n, y_n_arr[n]))    \n",
    "        \n",
    "    return t_n_arr, y_n_arr"
   ],
   "outputs": [],
   "metadata": {}
  },
  {
   "cell_type": "markdown",
   "source": [
    "Next to verify the first order rate of convergence lets take the point $y(\\pi) = 1$. If we double the amount of nodes we should expect to see the ratios of the errors decrease by a factor of 2. We verify this below."
   ],
   "metadata": {}
  },
  {
   "cell_type": "code",
   "execution_count": 4,
   "source": [
    "y_prime = lambda t, y_n: (3*np.cos(t))/(y_n**2)\n",
    "t_300, y_300 = forwardEuler((0,1), y_prime, 300, np.pi)\n",
    "t_600, y_600 = forwardEuler((0,1), y_prime, 600, np.pi)\n",
    "\n",
    "print(\"N: {0}, y(t): {2:.7f}, Error: {1:.7f}\".format(300, 1-y_300[-1], y_300[-1]))\n",
    "print(\"N: {0}, y(t): {2:.7f}, Error: {1:.7f}\".format(600, 1-y_600[-1], y_600[-1]))\n",
    "print(\"Error ratio (doubling nodes): {0:0.7f}\".format((1-y_300[-1])/(1-y_600[-1])))"
   ],
   "outputs": [
    {
     "output_type": "stream",
     "name": "stdout",
     "text": [
      "N: 300, y(t): 1.0109992, Error: -0.0109992\n",
      "N: 600, y(t): 1.0055923, Error: -0.0055923\n",
      "Error ratio (doubling nodes): 1.9668369\n"
     ]
    }
   ],
   "metadata": {}
  },
  {
   "cell_type": "markdown",
   "source": [
    "As seen above, the ratio of the error is 2 when we doubled the number of nodes. Which means that the convergence is linear."
   ],
   "metadata": {}
  },
  {
   "cell_type": "markdown",
   "source": [
    "#### Part C\n",
    "Plot the approximation obtained with $\\Delta t = \\pi/300$."
   ],
   "metadata": {}
  },
  {
   "cell_type": "code",
   "execution_count": 5,
   "source": [
    "plt.title(\"Forward Euler Method with 300 Nodes\")\n",
    "plt.plot(t_300,y_300);"
   ],
   "outputs": [
    {
     "output_type": "display_data",
     "data": {
      "text/plain": [
       "<Figure size 432x288 with 1 Axes>"
      ],
      "image/png": "[encoded data removed]"
     },
     "metadata": {
      "needs_background": "light"
     }
    }
   ],
   "metadata": {}
  },
  {
   "cell_type": "markdown",
   "source": [
    "___"
   ],
   "metadata": {}
  },
  {
   "cell_type": "markdown",
   "source": [
    "## Problem 4\n",
    "Consider the pendulum with friction modeled by the second order ODE:\n",
    "\\begin{align}\n",
    "\\theta'' + \\alpha \\theta' + \\omega^{2}\\theta = 0,\n",
    "\\end{align}\n",
    "where $\\theta$ is the angle the pendulum makes with the vertical axis, $\\alpha$ is a friction coefficient and $\\omega$ is the pendulum's natural frequency."
   ],
   "metadata": {}
  },
  {
   "cell_type": "markdown",
   "source": [
    "#### Part A\n",
    "Turn (4) into a first order system.\n"
   ],
   "metadata": {}
  },
  {
   "cell_type": "markdown",
   "source": [
    "#### Solution\n",
    "In order to turn this into a first order system, set $u_1 = \\theta'$, now let $u_{2}=u_{1}' = \\theta'$.\n",
    "\n",
    "Thus we now have the system:\n",
    "\n",
    "\\begin{align*}\n",
    "& u_{2} = u_{1}'\\\\\n",
    "&u_{2}' = -\\alpha u_{2} - \\omega^{2}u_1\n",
    "\\end{align*}"
   ],
   "metadata": {}
  },
  {
   "cell_type": "markdown",
   "source": [
    "#### Part B\n",
    "Use Euler's method to find an approximation to the solution in $[0,5]$ with initial conditions $\\theta(0) = 1$ and $\\theta'(0) = 0$. Take $\\alpha =0.2$ and $\\omega = 2$. Verify the expected order of convergence and plot the approximation for a sufficiently small $\\Delta t$."
   ],
   "metadata": {}
  },
  {
   "cell_type": "markdown",
   "source": [
    "#### Solution\n",
    "With our new first order system, we plug in the values given. \n",
    "\n",
    "We now have the initial conditions:\n",
    "\n",
    "\\begin{align*}\n",
    "& u_{1}(0) = \\theta(0)= 1 \\\\\n",
    "&u_{2}(0)= u_{1}'(0) = \\theta'(0) = 0\\\\\n",
    "\\end{align*}\n",
    "\n",
    "And the system:\n",
    "\n",
    "\\begin{align*}\n",
    "& u_{2} = u_{1}'\\\\\n",
    "&u_{2}' = -0.2 u_{2} - 4u_1\n",
    "\\end{align*}\n",
    "\n",
    "So now to apply the Forward Euler Method we use it on both components simultaneously as:\n",
    "\n",
    "\\begin{align*}\n",
    "& \\theta_{n+1} = u_1(t_{n+1}) = u_{1}(t_{n}) + \\Delta tu_{1}'(t_{n}) = u_{1}(t_{n}) + \\Delta tu_{2}(t_{n})\\\\\n",
    "& \\theta_{n+1}'= u_{2}(t_{n+1}) = u_{2}(t_{n}) + \\Delta t u_{2}'(t_{n}) = u_{2}(t_{n}) + \\Delta t \\left[-0.2u_{2}(t_n) - 4u_{1}(t_{n})\\right]\n",
    "\\end{align*}\n",
    "\n",
    "Thus we implement this in code in the next cell."
   ],
   "metadata": {}
  },
  {
   "cell_type": "code",
   "execution_count": 6,
   "source": [
    "def forwardEulerSecondOrder(initial_conditions, f, N, T):\n",
    "    del_t = T/N    \n",
    "    alpha_1, alpha_2 = initial_conditions\n",
    "    \n",
    "    t_n = np.array([del_t * i for i in range(N+1)])\n",
    "    \n",
    "    u_1 = np.array([alpha_1])\n",
    "    u_2 = np.array([alpha_2])\n",
    "    \n",
    "    for n, t in enumerate(t_n[1:]):\n",
    "        u_1 = np.append(u_1, u_1[n] + del_t*u_2[n])\n",
    "        u_2 = np.append(u_2, u_2[n] + del_t*(f(u_1[n],u_2[n])))\n",
    "        \n",
    "    return (t_n, u_1, u_2)\n",
    "\n",
    "f = lambda x,y: -0.2*y-4*x\n",
    "t, theta, theta_pr = forwardEulerSecondOrder((1,0), f, 600, 5)\n",
    "plt.title(\"Angle of theta, Forward Euler's method\")\n",
    "plt.plot(t, theta);"
   ],
   "outputs": [
    {
     "output_type": "display_data",
     "data": {
      "text/plain": [
       "<Figure size 432x288 with 1 Axes>"
      ],
      "image/png": "[encoded data removed]"
     },
     "metadata": {
      "needs_background": "light"
     }
    }
   ],
   "metadata": {}
  },
  {
   "cell_type": "markdown",
   "source": [
    "Now to show that the expected order of convergence is indeed linear which is expected of the Euler method, we look at the ratio of doubled and quadrupled amount of nodes which should again be close to 2. Since we are doubling the amount of nodes each time. We don't have an explicit solution for theta, so we must do it in this way."
   ],
   "metadata": {}
  },
  {
   "cell_type": "code",
   "execution_count": 7,
   "source": [
    "t_150, theta_150, theta_pr_150 = forwardEulerSecondOrder((1,0), f, 150, 5)\n",
    "t_300, theta_300, theta_pr_300 = forwardEulerSecondOrder((1,0), f, 300, 5)\n",
    "t_600, theta_600, theta_pr_600 = forwardEulerSecondOrder((1,0), f, 600, 5)\n",
    "\n",
    "print(\"N: {0}, theta(5): {1:.7f}\".format(150, theta_150[-1]))\n",
    "print(\"N: {0}, theta(5): {1:.7f}\".format(300, theta_300[-1]))\n",
    "print(\"N: {0}, theta(5): {1:.7f}\".format(600, theta_600[-1]))\n",
    "print(\"Error ratio (doubling nodes): {0:0.7f}\".format(\n",
    "    (theta_300[-1]-theta_150[-1])/(theta_600[-1]-theta_300[-1])))"
   ],
   "outputs": [
    {
     "output_type": "stream",
     "name": "stdout",
     "text": [
      "N: 150, theta(5): -0.7306027\n",
      "N: 300, theta(5): -0.6203402\n",
      "N: 600, theta(5): -0.5726199\n",
      "Error ratio (doubling nodes): 2.3106021\n"
     ]
    }
   ],
   "metadata": {}
  },
  {
   "cell_type": "markdown",
   "source": [
    "As Seen above, doubling the nodes gives us an error ratio of about 2! So the linear rate of convergence is attained as expected."
   ],
   "metadata": {}
  }
 ],
 "metadata": {
  "kernelspec": {
   "display_name": "Python 3",
   "language": "python",
   "name": "python3"
  },
  "language_info": {
   "codemirror_mode": {
    "name": "ipython",
    "version": 3
   },
   "file_extension": ".py",
   "mimetype": "text/x-python",
   "name": "python",
   "nbconvert_exporter": "python",
   "pygments_lexer": "ipython3",
   "version": "3.8.2"
  }
 },
 "nbformat": 4,
 "nbformat_minor": 4
}