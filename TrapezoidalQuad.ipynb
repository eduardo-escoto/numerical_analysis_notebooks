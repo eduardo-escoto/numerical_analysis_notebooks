{
 "cells": [
  {
   "cell_type": "markdown",
   "metadata": {},
   "source": [
    "# Homework 1\n",
    "- Class: Math 104A - Numerical Analysis\n",
    "- Instructor: Professor Hector D. Ceniceros\n",
    "- Name: Eduardo Escoto\n",
    "- Perm: 7611817\n",
    "- Email: e_escoto@ucsb.edu\n",
    "___"
   ]
  },
  {
   "cell_type": "markdown",
   "metadata": {},
   "source": [
    "## Problem 1 \n",
    "Review and state the following theorems of Calculus:"
   ]
  },
  {
   "cell_type": "markdown",
   "metadata": {},
   "source": [
    "#### (a) The Intermediate Value Theorem\n",
    "If f is a continuous function on interval [a, b], then it takes on any value between f(a) and f(b) at within the interval. This means is useful for showing if an equation takes a given value on an interval between two known points."
   ]
  },
  {
   "cell_type": "markdown",
   "metadata": {},
   "source": [
    "#### (b) The Mean Value Theorem\n",
    " if f is a continuous function on the closed interval [a,b], and differentiable on t(a,b), then there exists a point c in (a,b) so that:\n",
    "$$f'(c)=\\frac{f(b)-f(a)}{b-a}$$"
   ]
  },
  {
   "cell_type": "markdown",
   "metadata": {},
   "source": [
    "#### (c) Rolle's Theorem\n",
    "If a real-valued function f is continuous on [a, b], differentiable on (a, b), and f (a) = f (b), then there is a c in the open interval (a, b) so that $$f'(c)=0$$"
   ]
  },
  {
   "cell_type": "markdown",
   "metadata": {},
   "source": [
    "#### (d) The Mean Value Theorem for Integrals\n",
    "If f is a continuous function on [a,b], then there is a c in (a,b) for which\n",
    "$$f(c) = \\frac{1}{(b-a)}\\int_{a}^{b}f(t)dt$$"
   ]
  },
  {
   "cell_type": "markdown",
   "metadata": {},
   "source": [
    "#### (e) The Weighed Mean Value Theorem for Integrals\n",
    "If f is continuous on [a, b], and g is a function that is integrable on [a, b] and does not change sign on [a, b], then\n",
    "$$\\int^{b}_{a}f(x)g(x) dx = f(c)\\int^{b}_{a}g(x)dx$$ for some c in [a,b]"
   ]
  },
  {
   "cell_type": "markdown",
   "metadata": {},
   "source": [
    "___"
   ]
  },
  {
   "cell_type": "markdown",
   "metadata": {},
   "source": [
    "## Problem 2\n",
    "Write a computer code to implement the Composite Trapezoidal Rule Quadrature\n",
    "$$T_{h}[f] = h \\Big[\\frac{1}{2}f(x_{0})+f(x_{1})+ \\dots + f(x_{N-1}) + \\frac{1}{2}f(x_{N})\\Big]$$\n",
    "to approximate the definite integral\n",
    "$$I[f]=\\int_{a}^{b}f(x)\\mathrm{d}x$$\n",
    "using the equally spaced points $x_{0} = a, x_{1} = x_{0}+h, x_{2} = x_{0} + 2h, \\dots, x_{N}=b$ where $h=\\frac{b-a}{N}$"
   ]
  },
  {
   "cell_type": "markdown",
   "metadata": {},
   "source": [
    "We begin this problem by importing numpy in order to use its computational efficiency for numerical optimizations."
   ]
  },
  {
   "cell_type": "code",
   "execution_count": 50,
   "metadata": {},
   "outputs": [],
   "source": [
    "# Importing Numpy for Computational efficiency\n",
    "import numpy as np"
   ]
  },
  {
   "cell_type": "markdown",
   "metadata": {},
   "source": [
    "Next we define the function that implements the Composite Trapezoidal Rule Quadrature for a given function, interval, and number of evenly spaced points."
   ]
  },
  {
   "cell_type": "code",
   "execution_count": 121,
   "metadata": {},
   "outputs": [],
   "source": [
    "def T_h(f, interval, N = None, h = None):\n",
    "    \"\"\"\n",
    "    f: The function that will be integrated\n",
    "    \n",
    "    interval: A tuple containing the bounds of integration\n",
    "    \n",
    "    N: The number of evenly spaced points to use in calculation, \n",
    "    can also be interpreted as the number of trapezoids. -- optional, can be omitted for providing h instead.\n",
    "    \n",
    "    h: The distance between the evenly spaced points. -- optional, can be ommitted for providing N instead.\n",
    "    \n",
    "    Author: Eduardo Escoto\n",
    "    Last Modified: 09/29/19\n",
    "    \"\"\"\n",
    "    # Unpacking interval tuple\n",
    "    assert len(interval) == 2, \"Incorrect Interval Length.\"\n",
    "    a,b = interval\n",
    "    \n",
    "    # Error Handling\n",
    "    assert h is not None or N is not None, \"Either h or N, or both, must be provided.\"  \n",
    "    assert b > a, \"The interval must be in the from (a,b) with b > a.\"\n",
    "    if h is not None and N is not None:\n",
    "        assert h == (b-a)/N, \"The relationship between N and h is not correct.\"  \n",
    "    \n",
    "    # Calculating N if not provided\n",
    "    if N is None:\n",
    "        N = int((b-a)/h)\n",
    "        \n",
    "    # Calculating h if not provided\n",
    "    if h is None:\n",
    "        h = (b-a)/N\n",
    "        \n",
    "    # Creating our evenly spaced points\n",
    "    x = np.array([a + n*h for n in range(N+1)])\n",
    "\n",
    "    # Getting Function Values\n",
    "    f_x = np.array([f(x_n) for x_n in x]) \n",
    "    \n",
    "    # Calculating T_h\n",
    "    T_h = (h)*(1/2)*(f_x[0] + f_x[-1]) + h*np.sum(f_x[1:N-1])\n",
    "    \n",
    "    return T_h"
   ]
  },
  {
   "cell_type": "markdown",
   "metadata": {},
   "source": [
    "I will also define a function that evaluates the quadrature for the given function and multiple values of N, and then prints the results along with the error and true value for easy viewing."
   ]
  },
  {
   "cell_type": "code",
   "execution_count": 122,
   "metadata": {},
   "outputs": [],
   "source": [
    "def RunApproximations(f, interval, N_vals, I_f):\n",
    "    \"\"\"\n",
    "    f: The function that will be integrated\n",
    "    \n",
    "    interval: A tuple containing the bounds of integration\n",
    "    \n",
    "    N_vals: An List of N for each run, where N is the number \n",
    "    of evenly spaced points to use in calculation, \n",
    "    can also be interpreted as the number of trapezoids\n",
    "    \n",
    "    I_f: The true value of the integal on f on the bounds\n",
    "    \n",
    "    Author: Eduardo Escoto\n",
    "    Last Modified: 09/29/19\n",
    "    \"\"\"\n",
    "    for N in N_vals:\n",
    "        T_h_N = T_h(f,interval,N)\n",
    "        print(\"For {} equally spaced points we have:\".format(N))\n",
    "        print(\"True Value: {}\".format(I_f))\n",
    "        print(\"Approximation: {}\".format(T_h_N))\n",
    "        print(\"Error: {}\\r\\n\".format(np.abs(I_f-T_h_N)))"
   ]
  },
  {
   "cell_type": "markdown",
   "metadata": {},
   "source": [
    "#### Problem 2.a)\n",
    "Test your code with $f(x)=\\frac{1}{(1+x)^{2}}$ in $[0,2]$ by computing the error $\\big\\lvert I[f]−T_{h}[f]\\big\\rvert$ for $h = 2/20, 2/40, 2/80$, and verify that $T_h$ has a convergent trend at the expected, quadratic rate."
   ]
  },
  {
   "cell_type": "markdown",
   "metadata": {},
   "source": [
    "To find the error: $\\big\\lvert I[f]−Th[f]\\big\\rvert$ we must first begin by calculating the definite integral $I[f]$. This can be done as:\n",
    "$$I[f] = \\int_{0}^{2}\\frac{1}{(1+x)^{2}}\\mathrm{d}x = \\int_{1}^{3}\\frac{1}{u^{2}}\\mathrm{d}u, u = x+1$$\n",
    "Thus,\n",
    "$$I[f] = \\int_{1}^{3}\\frac{1}{u^{2}}\\mathrm{d}u = -u^{-1}\\Big\\vert_{1}^{3} = -\\frac{1}{3}+1 = \\frac{2}{3}$$\n",
    "We know have the quantity $I[f] = \\frac{2}{3}$ and we then numerically calculate $T_h$ in the code below to finally find the error."
   ]
  },
  {
   "cell_type": "code",
   "execution_count": 123,
   "metadata": {},
   "outputs": [
    {
     "name": "stdout",
     "output_type": "stream",
     "text": [
      "For 20 equally spaced points we have:\n",
      "True Value: 0.6666666666666666\n",
      "Approximation: 0.6563777023740862\n",
      "Error: 0.010288964292580416\n",
      "\n",
      "For 40 equally spaced points we have:\n",
      "True Value: 0.6666666666666666\n",
      "Approximation: 0.6613222186910399\n",
      "Error: 0.0053444479756267205\n",
      "\n",
      "For 80 equally spaced points we have:\n",
      "True Value: 0.6666666666666666\n",
      "Approximation: 0.6639423030717225\n",
      "Error: 0.0027243635949441014\n",
      "\n"
     ]
    }
   ],
   "source": [
    "f = lambda x: 1/((1+x)**2)\n",
    "interval = (0,2)\n",
    "N_vals = [20,40,80]\n",
    "I_f = 2/3\n",
    "\n",
    "RunApproximations(f, interval, N_vals, I_f)"
   ]
  },
  {
   "cell_type": "markdown",
   "metadata": {},
   "source": [
    "As seen above, as h is doubled, the error is decreasing by a factor of 4! "
   ]
  },
  {
   "cell_type": "markdown",
   "metadata": {},
   "source": [
    "#### Problem 2.b)\n",
    "Let $f(x)= \\sqrt{x}$ in $[0,1]$. Compute $T_{1/N}$ for $N=16,32,64,128$. Do you see a second order convergence to the exact value of the integral? Explain."
   ]
  },
  {
   "cell_type": "markdown",
   "metadata": {},
   "source": [
    "Similarly as above, the value for the integral is $I[f]=\\frac{2}{3}$, so we use our code to solve approximate the integral with the specified number of points."
   ]
  },
  {
   "cell_type": "code",
   "execution_count": 57,
   "metadata": {},
   "outputs": [
    {
     "name": "stdout",
     "output_type": "stream",
     "text": [
      "For 16 equally spaced points we have:\n",
      "True Value: 0.6666666666666666\n",
      "Approximation: 0.6030658320927373\n",
      "Error: 0.06360083457392929\n",
      "\n",
      "For 32 equally spaced points we have:\n",
      "True Value: 0.6666666666666666\n",
      "Approximation: 0.6348010930210831\n",
      "Error: 0.03186557364558351\n",
      "\n",
      "For 64 equally spaced points we have:\n",
      "True Value: 0.6666666666666666\n",
      "Approximation: 0.6507683622902377\n",
      "Error: 0.015898304376428918\n",
      "\n",
      "For 128 equally spaced points we have:\n",
      "True Value: 0.6666666666666666\n",
      "Approximation: 0.6587437347135695\n",
      "Error: 0.007922931953097123\n",
      "\n"
     ]
    }
   ],
   "source": [
    "N_vals = [16,32,64,128]\n",
    "f = lambda x: np.sqrt(x)\n",
    "interval = (0,1)\n",
    "\n",
    "RunApproximations(f, interval, N_vals, I_f)"
   ]
  },
  {
   "cell_type": "markdown",
   "metadata": {},
   "source": [
    "As seen above, as h is doubled, the error is decreasing by a factor of 4! "
   ]
  },
  {
   "cell_type": "markdown",
   "metadata": {},
   "source": [
    "Notice that "
   ]
  },
  {
   "cell_type": "markdown",
   "metadata": {},
   "source": [
    "____"
   ]
  },
  {
   "cell_type": "markdown",
   "metadata": {},
   "source": [
    "## Problem 3 \n",
    "Consider the definite integral\n",
    "$$I[\\cos x^{2}] = \\int_{0}^{\\sqrt{\\pi/2}}\\cos x^{2} \\mathrm{d}x$$\n",
    "We cannot calculate its exact value but we can compute accurate approximation to it using $T_h[\\cos x^{2}]$. Let\n",
    "$$q(h) = \\frac{T_{h/2}[\\cos x^{2}]-T_{h}[\\cos x^{2}]}{T_{h/4}[\\cos x^{2}]-T_{h/2}[\\cos x^{2}]}$$"
   ]
  },
  {
   "cell_type": "markdown",
   "metadata": {},
   "source": [
    "In order to solve the following problems, we define a function for $q(h)$ below, which utilizes our previous code for finding $T_{h}$:"
   ]
  },
  {
   "cell_type": "code",
   "execution_count": 55,
   "metadata": {},
   "outputs": [],
   "source": [
    "def q_h(f, interval, h):    \n",
    "    # Creating tuple of values in order to approximate the error\n",
    "    T_h_1, T_h_2, T_h_4 = tuple([T_h(f, interval, h=h/i) for i in [1,2,4]])\n",
    "    \n",
    "    # Calculating the error based on the T's\n",
    "    q_h_val = (T_h_2-T_h_1)/(T_h_4-T_h_2)\n",
    "    \n",
    "    return q_h_val"
   ]
  },
  {
   "cell_type": "markdown",
   "metadata": {},
   "source": [
    "\n",
    "#### Problem 3.a) \n",
    "Using your code, find a value of $h$ for which $q(h)$ is approximately equal to $4$."
   ]
  },
  {
   "cell_type": "markdown",
   "metadata": {},
   "source": [
    "In order to solve this problem, below we define a function which solves for a value of $h$ that provides the target value for $q(h)$"
   ]
  },
  {
   "cell_type": "code",
   "execution_count": 86,
   "metadata": {},
   "outputs": [],
   "source": [
    "def h_Finder(f, interval, target = 4, distance = 1/100):\n",
    "    \"\"\"\n",
    "    This function finds the smallest value of h that makes q(h) arbitrarily \n",
    "    close enough to the target and returns h, the value\n",
    "    of q(h) and the number of evenly spaced points. I've set that distance from 4 to 1/100\n",
    "    \"\"\"\n",
    "    # Unpacking Interval Args\n",
    "    a,b = interval\n",
    "    \n",
    "    # Local function to calculate h based on N\n",
    "    calc_h = lambda N: (b-a)/N\n",
    "    \n",
    "    # Local function to evaluate q(h)\n",
    "    calc_q_h = lambda h: q_h(f, interval, h)\n",
    "    \n",
    "    # Local function to calculate distance from target value\n",
    "    calc_err = lambda q_h_val: np.abs(target - q_h_val)\n",
    "    \n",
    "    # Initializing index and vars for approximation loop\n",
    "    N = 1\n",
    "    h_val = calc_h(N)\n",
    "    q_h_val = calc_q_h(h_val)\n",
    "    \n",
    "    # Approximating error until current iteration is arbitrarily close to 4\n",
    "    while True:     \n",
    "        if calc_err(q_h_val) < distance:\n",
    "            return (q_h_val, h_val, N)\n",
    "        else:\n",
    "            N = N+1\n",
    "            h_val = calc_h(N+1)\n",
    "            q_h_val = calc_q_h(h_val)"
   ]
  },
  {
   "cell_type": "markdown",
   "metadata": {},
   "source": [
    "And now we utilize the function:"
   ]
  },
  {
   "cell_type": "code",
   "execution_count": 87,
   "metadata": {},
   "outputs": [
    {
     "name": "stdout",
     "output_type": "stream",
     "text": [
      "q(h) = 3.990010456836204, for h = 0.011091275551464603, and 112 evenly spaced points\n"
     ]
    }
   ],
   "source": [
    "f = lambda x: np.cos(x**2)\n",
    "interval = (0, np.sqrt(np.pi/2))\n",
    "q_h_val, h, N = h_Finder(f, interval)\n",
    "\n",
    "print(\"q(h) = {}, for h = {}, and {} evenly spaced points\".format(q_h_val, h, N))"
   ]
  },
  {
   "cell_type": "markdown",
   "metadata": {},
   "source": [
    "#### Problem 3.b) \n",
    "Get an approximation of the error, $I[cos x2] − Th[cos x2]$, for that particular value of h."
   ]
  },
  {
   "cell_type": "code",
   "execution_count": 96,
   "metadata": {},
   "outputs": [],
   "source": [
    "def E_h(f, interval, h):\n",
    "    # Calculating T_h for h and h/2\n",
    "    T_h_1, T_h_2 = tuple([T_h(f,interval, h=h/i) for i in [1,2]]) \n",
    "    \n",
    "    # Calculating the error\n",
    "    E_h_val = (4/3)*(T_h_2 - T_h_1)\n",
    "    \n",
    "    return E_h_val"
   ]
  },
  {
   "cell_type": "code",
   "execution_count": 97,
   "metadata": {
    "scrolled": true
   },
   "outputs": [
    {
     "data": {
      "text/plain": [
       "0.00033241236357239856"
      ]
     },
     "execution_count": 97,
     "metadata": {},
     "output_type": "execute_result"
    }
   ],
   "source": [
    "E_h(f, interval, h)"
   ]
  },
  {
   "cell_type": "markdown",
   "metadata": {},
   "source": [
    "#### Problem 3.c)\n",
    "Use this error approximation to obtain the extrapolated, improved, approximation\n",
    "$$S_{h}[\\cos x^{2}] = T_{h} + \\frac{4}{3}(T_{h/2}[\\cos x^{2}]-T_{h}[\\cos x^{2}])$$"
   ]
  },
  {
   "cell_type": "code",
   "execution_count": 84,
   "metadata": {},
   "outputs": [],
   "source": [
    "def S_h(f, interval, h):\n",
    "    # Calculating T_h for h and h/2\n",
    "    T_h_1, T_h_2 = tuple([T_h(f,interval, h=h/i) for i in [1,2]]) \n",
    "    \n",
    "    S_h = ((4*T_h_2)-T_h_1)/3\n",
    "    \n",
    "    return S_h"
   ]
  },
  {
   "cell_type": "code",
   "execution_count": 85,
   "metadata": {
    "scrolled": true
   },
   "outputs": [
    {
     "data": {
      "text/plain": [
       "0.9774511871953625"
      ]
     },
     "execution_count": 85,
     "metadata": {},
     "output_type": "execute_result"
    }
   ],
   "source": [
    "S_h(f, interval, h)"
   ]
  },
  {
   "cell_type": "markdown",
   "metadata": {},
   "source": [
    "#### Problem 3.d\n",
    "Explain why $S_{h}[\\cos x^{2}]$ is more accurate and converges faster to $I[\\cos x^{2}]$ than $T_{h}[\\cos x^{2}]$."
   ]
  },
  {
   "cell_type": "markdown",
   "metadata": {},
   "source": [
    "The approximation $S_{h}$ converges faster to $I[f]$ because of the fact that $S_{h}$ includes the extrapolated approximation of the error, allowing us to converge at a fourth order rate of convergence, where $T_{h}$ only convergerges at a 2nd order rate."
   ]
  }
 ],
 "metadata": {
  "kernelspec": {
   "display_name": "Python 3",
   "language": "python",
   "name": "python3"
  },
  "language_info": {
   "codemirror_mode": {
    "name": "ipython",
    "version": 3
   },
   "file_extension": ".py",
   "mimetype": "text/x-python",
   "name": "python",
   "nbconvert_exporter": "python",
   "pygments_lexer": "ipython3",
   "version": "3.8.2"
  }
 },
 "nbformat": 4,
 "nbformat_minor": 4
}
