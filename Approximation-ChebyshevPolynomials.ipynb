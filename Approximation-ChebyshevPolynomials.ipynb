{
 "cells": [
  {
   "cell_type": "markdown",
   "metadata": {},
   "source": [
    "# Math 104A: Homework 3\n",
    "* Name: Eduardo Escoto\n",
    "* Perm Number: 7611817\n",
    "* Term: Winter 2019\n",
    "* Instructor: Professor Hector D. Ceniceros"
   ]
  },
  {
   "cell_type": "markdown",
   "metadata": {},
   "source": [
    "___"
   ]
  },
  {
   "cell_type": "markdown",
   "metadata": {},
   "source": [
    "## Problem 1\n",
    "Let $V$ be a linear space with norm $\\lVert\\cdot\\rVert$,$W$ a subspace of $V$, and $f\\in V$. Prove that the set of best approximations to $f$ by elements in $W$ is convex."
   ]
  },
  {
   "cell_type": "markdown",
   "metadata": {},
   "source": [
    "#### Solution:\n",
    "Let $S$, be the set of best approximations by elements in $W$. $S$ is defined as:\n",
    "\n",
    "$$S = \\left\\{p^{*} \\in W : \\lVert p^{*} - f \\rVert \\leq \\lVert p - f \\rVert \\text{ for } \\forall p \\in W \\right\\}$$\n",
    "\n",
    "Now let $u,v \\in S$. $S$ is said to be convex if:\n",
    "\n",
    "$$\\theta u + (1-\\theta)v \\in S \\text{ for }\\forall\\theta \\in [0,1]$$\n",
    "\n",
    "Which is in $S$ when it satisfies the condition. Thus we want to show:\n",
    "\n",
    "$$\\lVert\\theta u + (1-\\theta)v - f\\rVert \\leq \\lVert p - f \\rVert \\text{ for } \\forall p \\in W \\text{ and } \\forall\\theta \\in [0,1]$$\n",
    "\n",
    "Begin by taking:\n",
    "$$\\lVert\\theta u + (1-\\theta)v - f\\rVert = \\lVert\\theta u + (1-\\theta)v - ((\\theta f+ (1-\\theta)f)\\rVert$$\n",
    "\n",
    "Which then becomes:\n",
    "$$\\lVert\\theta u + (1-\\theta)v - f\\rVert = \\lVert(\\theta u + - \\theta f) + ((1-\\theta)v - (1-\\theta)f)\\rVert$$\n",
    "\n",
    "Then by the triangle inequality:\n",
    "$$\\lVert\\theta u + (1-\\theta)v - f\\rVert \\leq \\lVert\\theta (u - f)\\rVert + \\lVert (1-\\theta)(v - f)\\rVert$$\n",
    "\n",
    "Factoring out constants:\n",
    "$$\\lVert\\theta u + (1-\\theta)v - f\\rVert \\leq \\theta\\lVert u - f\\rVert +(1-\\theta) \\lVert v - f\\rVert$$\n",
    "\n",
    "Now, since $u, v \\in S$, we have the following:\n",
    "$$ \\theta\\lVert u - f\\rVert \\leq \\theta\\lVert p - f\\rVert \\text{ for }\\forall p \\in W$$ \n",
    "$$ (1-\\theta)\\lVert v - f\\rVert \\leq (1-\\theta)\\lVert p - f\\rVert \\text{ for }\\forall p \\in W$$\n",
    "\n",
    "Thus we have:\n",
    "\n",
    "$$\\lVert\\theta u + (1-\\theta)v - f\\rVert \\leq \\theta\\lVert u - f\\rVert +(1-\\theta) \\lVert v - f\\rVert \\leq \\theta\\lVert p - f\\rVert +  \\leq (1-\\theta)\\lVert p - f\\rVert$$\n",
    "\n",
    "Simplifying the right side we finally have: \n",
    "\n",
    "$$\\lVert\\theta u + (1-\\theta)v - f\\rVert \\leq \\theta\\lVert u - f\\rVert +(1-\\theta) \\lVert v - f\\rVert \\leq \\lVert p - f\\rVert$$\n",
    "\n",
    "Therefore,\n",
    "$$\\lVert\\theta u + (1-\\theta)v - f\\rVert \\leq \\lVert p - f\\rVert$$\n",
    "\n",
    "So $\\theta u + (1-\\theta)v \\in S$ for $\\forall \\theta \\in [0,1]$. Therefore $S$ is a convex set."
   ]
  },
  {
   "cell_type": "markdown",
   "metadata": {},
   "source": [
    "___"
   ]
  },
  {
   "cell_type": "markdown",
   "metadata": {},
   "source": [
    "# Problem 2\n",
    "Find the best uniform approximation to $f(x) = \\sin(2x)$ on $\\left[0,2\\pi\\right]$ by polynomials of degree at most $2$."
   ]
  },
  {
   "cell_type": "markdown",
   "metadata": {},
   "source": [
    "#### Solution:\n",
    "In this case, the best uniform approximation of $f$ of polynomials of degree at most 2, is $p(x) = 0$. This is because of the fact that any other polynomial up to degree 2 causes $\\Vert e_{n}\\rVert_{\\infty} > 1$. \n",
    "\n",
    "Notice that: \n",
    "$$\\lVert\\sin(2x)\\rVert_{\\infty} = 1$$\n",
    "\n",
    "Where as for any other polynomial $p \\in \\mathbb{P}_{2}$ with $a,b,c \\in \\mathbb{R}$: \n",
    "$$\\lVert\\sin(2x) - ax^{2} - bx - c\\rVert_{\\infty} \\gt 1$$ so the line at 0 is the  best uniform approximation. Additionally, the line at zero also satisfies the equioscillation theorem, which can be seen in the plot below."
   ]
  },
  {
   "cell_type": "code",
   "execution_count": 30,
   "metadata": {},
   "outputs": [
    {
     "data": {
      "text/plain": [
       "<matplotlib.legend.Legend at 0x1204bc048>"
      ]
     },
     "execution_count": 30,
     "metadata": {},
     "output_type": "execute_result"
    },
    {
     "data": {
      "image/png": "[encoded data removed]",
      "text/plain": [
       "<Figure size 432x288 with 1 Axes>"
      ]
     },
     "metadata": {
      "needs_background": "light"
     },
     "output_type": "display_data"
    }
   ],
   "source": [
    "from matplotlib import pyplot as plt\n",
    "import numpy as np\n",
    "f = lambda x: np.sin(2*x)\n",
    "p = lambda x: x*0\n",
    "x = np.linspace(0, 2*np.pi, 1000)\n",
    "plt.plot(x,f(x))\n",
    "plt.plot(x,p(x))\n",
    "plt.plot(x, f(x)-p(x))\n",
    "plt.plot(x, np.repeat(1, 1000))\n",
    "plt.plot(x, np.repeat(-1, 1000))\n",
    "plt.legend(labels = [\"$f(x)$\", \"$p(x)$\", \"$e_{2}(x)$\", \"$||e_{2}||$\",r\"$-||e_{2}||$\"])"
   ]
  },
  {
   "cell_type": "markdown",
   "metadata": {},
   "source": [
    "So as you can see, it oscillates the desired $n=2$, $n+2 = 2 + 2 = 4$ times."
   ]
  },
  {
   "cell_type": "markdown",
   "metadata": {},
   "source": [
    "___"
   ]
  },
  {
   "cell_type": "markdown",
   "metadata": {},
   "source": [
    "# Problem 3\n",
    "Let $f\\in C\\left[a,b\\right]$. Find the best uniform approximation to $f$ by a constant."
   ]
  },
  {
   "cell_type": "markdown",
   "metadata": {},
   "source": [
    "#### Solution:\n",
    "Let $c \\in \\mathbb{R}$. Assume $c$ is the best approximation to $f$. Thus we have:\n",
    "\n",
    "$$e_{0} = \\lVert f - c\\rVert_{\\infty}$$\n",
    "\n",
    "By the equioscillation theory, this states that there must be at least $2$ equioscillations for $e_{0}$. Trivially, this will be at $\\inf\\{f(x) \\forall x \\in [a,b]\\}$ and $\\sup\\{f(x) \\forall x \\in [a,b]\\}$. Therefore $c$ is simply the midpoint between the maximum and minimum of $f$ on the given interval.\n",
    "\n",
    "Thus we have: \n",
    "$$c = \\frac{\\inf\\{f(x) \\forall x \\in [a,b]\\} + \\sup\\{f(x) \\forall x \\in [a,b]\\}}{2}$$\n",
    "\n",
    "Additionally, $c$ is unique and is the only constant that can provide at least 2 equioscillations."
   ]
  },
  {
   "cell_type": "markdown",
   "metadata": {},
   "source": [
    "___"
   ]
  },
  {
   "cell_type": "markdown",
   "metadata": {},
   "source": [
    "# Problem 4\n",
    "Let $V = \\mathbb{R}^{3}$ with ${\\lVert\\cdot\\rVert}_{\\infty}$ and $W = \\textrm{span}\\left\\{(0,1,0), (0,0,1)\\right\\}$. Let $f = (3,6,4)$. Prove that a best approximation to $f$ is not unique."
   ]
  },
  {
   "cell_type": "markdown",
   "metadata": {},
   "source": [
    "#### Solution:\n",
    "Assume that for the sake of contradiction that $p^{*}\\in W$ is the best approximation. This tells us that:\n",
    "$$\\lVert f-p^{*}\\rVert_{\\infty} \\leq \\lVert f-p\\rVert_{\\infty} \\text{ for } \\forall p \\in W$$\n",
    "Thus we have:\n",
    "$$\\lVert (3,6,4) - (0, b^*, c^*)\\rVert_{\\infty} \\leq \\lVert f-p\\rVert_{\\infty} \\text{ for } \\forall p \\in W$$\n",
    "Then by definition of the infinity norm we have:\n",
    "$$\\lVert (3,6,4) - (0, b^*, c^*)\\rVert_{\\infty} = \\max \\{3, \\lvert 6-b^* \\rvert, \\lvert 4-c^* \\rvert\\}$$\n",
    "\n",
    "Thus the best approximation is going to be where \n",
    "$$\\lVert (3,6,4) - (0, b^*, c^*)\\rVert_{\\infty} = 3$$\n",
    "\n",
    "Thus the best approximations exist as:\n",
    "$$(3, \\lvert 6-b^* \\rvert \\leq 3, \\lvert 4-c^* \\rvert\\leq 3)$$\n",
    "\n",
    "But now we have a set of best approximations as:\n",
    "$$S = \\left\\{(3,b,c) : \\lvert 6-b \\rvert \\leq 3, \\lvert 4-c \\rvert \\leq 3\\right\\}$$\n",
    "\n",
    "But thats a contradiction, therefore the best approximation, $p*$ is not unique."
   ]
  },
  {
   "cell_type": "markdown",
   "metadata": {},
   "source": [
    "___"
   ]
  },
  {
   "cell_type": "markdown",
   "metadata": {},
   "source": [
    "# Problem  5\n",
    "Prove that every $p\\in\\mathbb{P}_{n}$ has a unique representation of the form\n",
    "$$p(x) = a_0 + a_{1}T_{1}(x) + \\dots + a_{n}T_{n}(x)$$\n",
    "where $T_{j}$, for $j = 1,\\dots, n$ are the Chebyshev polynomials of degree $j$."
   ]
  },
  {
   "cell_type": "markdown",
   "metadata": {},
   "source": [
    "#### Solution:\n",
    "This question is essentially asking us to show that the Chebyshev polynomials can be an alternate basis for the space of polynomials where the usual basis is $\\{1,x^2,\\dots, x^n\\}$.\n",
    "\n",
    "To do this, we can show by induction.\n",
    "\n",
    "Base Case: $n = 0$:\n",
    "$$p_{0}(x) = b_{0} = b_{0}*1 = a_{0}T_{0}(x)$$\n",
    "\n",
    "Now assume that this is true for $n = k$:\n",
    "$$p_{k}(x) = b_{0} + b_{1}x + \\cdots + b_{k}x^{k}= a_{0}T_{0}(x) + \\dots + a_{k}T_{k}(x)$$\n",
    "\n",
    "Now for $n = k+1$:\n",
    "$$p_{k+1}(x) =  b_{0} + b_{1}x + \\cdots + b_{k}x^{k} + b_{k+1}x^{k+1} = p_{k} + b_{k+1}x^{k+1}= p_{k} + a_{k+1}T_{k+1}(x)$$\n",
    "\n",
    "So we have: \n",
    "$$p_{k+1}(x) = a_{0}T_{0}(x) + \\dots + a_{k}T_{k}(x)+ a_{k+1}T_{k+1}(x)$$\n",
    "\n",
    "Therefore by induction we have shown that every $p \\in \\mathbb{P_{n}}$ has a representation of the form $p(x) = a_0 + a_{1}T_{1}(x) + \\dots + a_{n}T_{n}(x)$ by the Chebyshev polynomials of the first kind."
   ]
  },
  {
   "cell_type": "markdown",
   "metadata": {},
   "source": [
    "\n",
    "___"
   ]
  },
  {
   "cell_type": "markdown",
   "metadata": {},
   "source": [
    "# Problem 6\n",
    "Plot $T_{1}, T_{2}, T_{3}$ and $T_{6}$."
   ]
  },
  {
   "cell_type": "markdown",
   "metadata": {},
   "source": [
    "#### Solution:\n",
    "The Chebyshev polynomials $T_{1}, T_{2}, T_{3}$ and $T_{6}$ of the first kind are\n",
    "$$T_{1}(x)=x$$\n",
    "$$T_{2}(x)=2x^2 - 1$$\n",
    "$$T_{3}(x)=4x^{3} - 3x$$\n",
    "$$T_{6}(x)=32x^{6} - 48x^4 + 18x^2- 1$$"
   ]
  },
  {
   "cell_type": "code",
   "execution_count": 31,
   "metadata": {},
   "outputs": [],
   "source": [
    "def plotChebyPoly(f, ax = None, title = \"\"):\n",
    "    from matplotlib import pyplot as plt\n",
    "    import numpy as np\n",
    "    \n",
    "    if ax is None: \n",
    "        fig, ax = plt.subplots(figsize = (6,4))\n",
    "    \n",
    "    x = np.linspace(-5, 5, 5000)\n",
    "    ax.plot(x, f(x))\n",
    "    ax.set_title(\"Plot of {}\".format(title))\n",
    "    ax.set_xlim((-5,5))\n",
    "    ax.set_ylim((-10,10))\n",
    "    return ax"
   ]
  },
  {
   "cell_type": "code",
   "execution_count": 32,
   "metadata": {},
   "outputs": [
    {
     "data": {
      "image/png": "[encoded data removed]",
      "text/plain": [
       "<Figure size 1008x720 with 4 Axes>"
      ]
     },
     "metadata": {
      "needs_background": "light"
     },
     "output_type": "display_data"
    }
   ],
   "source": [
    "from matplotlib import pyplot as plt\n",
    "T_list = [{\"name\": \"$\\mathrm{T}_{1}$\", \"f\": lambda x: x}, \n",
    "          {\"name\": \"$\\mathrm{T}_{2}$\", \"f\": lambda x: 2*(x**2) - 1},\n",
    "          {\"name\": \"$\\mathrm{T}_{3}$\", \"f\": lambda x: 4*(x**3) - 3*x},\n",
    "          {\"name\": \"$\\mathrm{T}_{6}$\", \"f\": lambda x: 32*(x**6) - 48*(x**4) + 18*(x**2) - 1}]\n",
    "\n",
    "fig, ax = plt.subplots(2,2,figsize = (14,10))\n",
    "\n",
    "for i,T in enumerate(T_list):\n",
    "    plot = ax[i // 2, i % 2]\n",
    "    plot = plotChebyPoly(T['f'], plot, T[\"name\"]);\n",
    "fig;"
   ]
  }
 ],
 "metadata": {
  "file_extension": ".py",
  "kernelspec": {
   "display_name": "Python 3",
   "language": "python",
   "name": "python3"
  },
  "language_info": {
   "codemirror_mode": {
    "name": "ipython",
    "version": 3
   },
   "file_extension": ".py",
   "mimetype": "text/x-python",
   "name": "python",
   "nbconvert_exporter": "python",
   "pygments_lexer": "ipython3",
   "version": "3.8.2"
  },
  "mimetype": "text/x-python",
  "name": "python",
  "npconvert_exporter": "python",
  "pygments_lexer": "ipython3",
  "version": 3
 },
 "nbformat": 4,
 "nbformat_minor": 4
}
