{
 "cells": [
  {
   "cell_type": "markdown",
   "source": [
    "# Splines"
   ],
   "metadata": {}
  },
  {
   "cell_type": "markdown",
   "source": [
    "___"
   ],
   "metadata": {}
  },
  {
   "cell_type": "code",
   "execution_count": 1,
   "source": [
    "import numpy as np\n",
    "import pandas as pd\n",
    "from matplotlib import pyplot as plt"
   ],
   "outputs": [],
   "metadata": {}
  },
  {
   "cell_type": "markdown",
   "source": [
    "### Problem 1\n",
    "Write a code to compute a natural spline $S(x)$ which interpolates a collection of\n",
    "given points $(x_0, y_0),(x_1, y_1), \\dots, (x_n, y_n)$ where $x_0 < x_1 < x_2 < \\dots < x_n$ (do not\n",
    "assume they are equidistributed). Your code should have a triadiagonal solver for the\n",
    "resulting linear system of equations (you’re not allowed to use Matlab’s \\ operator\n",
    "to solve the linear system)."
   ],
   "metadata": {}
  },
  {
   "cell_type": "markdown",
   "source": [
    "##### Solution\n",
    "\n",
    "Firstly we define the function that calculates the distances between given points, aka the $h_j$."
   ],
   "metadata": {}
  },
  {
   "cell_type": "code",
   "execution_count": 2,
   "source": [
    "def getHValues(X,n):\n",
    "    H = np.array([X[i + 1] - X[i] for i in range(n)])\n",
    "    return H"
   ],
   "outputs": [],
   "metadata": {}
  },
  {
   "cell_type": "markdown",
   "source": [
    "Next we calculate the solutions of the linear system, aka the $d_j$"
   ],
   "metadata": {}
  },
  {
   "cell_type": "code",
   "execution_count": 3,
   "source": [
    "def LinearSystem(H,F,n):\n",
    "    D = np.array(\n",
    "        [(-6/H[i])*(F[i+1]-F[i]) + (6/H[i+1])*(F[i+2]-F[i+1]) for i in range(n-1)]\n",
    "    )\n",
    "    return D"
   ],
   "outputs": [],
   "metadata": {}
  },
  {
   "cell_type": "markdown",
   "source": [
    "Then we create the tridiagonal matrix from $h_j$ values"
   ],
   "metadata": {}
  },
  {
   "cell_type": "code",
   "execution_count": 4,
   "source": [
    "def TriDiagMatrix(H, n):\n",
    "    n = len(H)\n",
    "    M = np.zeros((n-1,n-1))\n",
    "    for i in range(n-1):\n",
    "        for j in range(n-1):\n",
    "            if j == i:\n",
    "                M[i,j] = 2*(H[i] + H[i + 1])\n",
    "            elif i == j - 1:\n",
    "                M[i,j] = H[j]\n",
    "            elif i == j + 1:\n",
    "                M[i,j] = H[j]\n",
    "    return M"
   ],
   "outputs": [],
   "metadata": {}
  },
  {
   "cell_type": "markdown",
   "source": [
    "And we create a solver for the given tridiagonal matrix from the algorithm in the classn notes."
   ],
   "metadata": {}
  },
  {
   "cell_type": "code",
   "execution_count": 5,
   "source": [
    "def TriDiagSolver(M, D):\n",
    "    b = np.diag(M, k = 1)\n",
    "    a = np.diag(M, k = 0)\n",
    "    c = np.diag(M, k = -1)\n",
    "    \n",
    "    N = len(a)\n",
    "    m = np.zeros(N)\n",
    "    l = np.zeros(N)\n",
    "    y = np.zeros(N)\n",
    "    x = np.zeros(N)\n",
    "    \n",
    "    m[0] = a[0]\n",
    "    for j in range(N-1):\n",
    "        l[j] = c[j]/m[j]\n",
    "        m[j+1] = a[j+1]-(l[j]*b[j])\n",
    "    \n",
    "    y[0] = D[0]\n",
    "    for i in range(1, N):\n",
    "        y[i] = D[i]-(l[i-1]*y[i-1])\n",
    "    \n",
    "    x[-1] = y[-1]/m[-1]\n",
    "    for k in reversed(range(N-1)):\n",
    "        x[k] = (y[k]-(b[k]*x[k+1]))/m[k]\n",
    "        \n",
    "    x = np.append(0,x)\n",
    "    x = np.append(x,0)\n",
    "    return x"
   ],
   "outputs": [],
   "metadata": {}
  },
  {
   "cell_type": "markdown",
   "source": [
    "Now we find the coefficients for the Cubic Spline Funcion"
   ],
   "metadata": {}
  },
  {
   "cell_type": "code",
   "execution_count": 6,
   "source": [
    "def FindSplineCoeffs(z,h,f,n):\n",
    "    A = np.array([(1/(6*h[i]))*(z[i+1]-z[i]) for i in range(n)])\n",
    "    B = np.array([(1/2)*z[i] for i in range(n)])\n",
    "    C = np.array(\n",
    "        [(1/h[i])*(f[i+1] - f[i]) - (1/6)*h[i]*(z[i+1] + 2*z[i]) for i in range(n)]\n",
    "    )\n",
    "    D = np.array([f[i] for i in range(n)])\n",
    "    return (A, B, C, D)"
   ],
   "outputs": [],
   "metadata": {}
  },
  {
   "cell_type": "markdown",
   "source": [
    "And now we create the function that calculates the spline at the given node."
   ],
   "metadata": {}
  },
  {
   "cell_type": "code",
   "execution_count": 7,
   "source": [
    "def Spline(node, X, A, B, C, D):\n",
    "    S = 0\n",
    "    n = len(X)\n",
    "    for j in range(0,n-1):\n",
    "        if X[j] <= node <= X[j+1]:\n",
    "            S = A[j]*(node-X[j])**3 + B[j]*(node-X[j])**2 + C[j]*(node-X[j]) + D[j]\n",
    "    return S"
   ],
   "outputs": [],
   "metadata": {}
  },
  {
   "cell_type": "markdown",
   "source": [
    "___"
   ],
   "metadata": {}
  },
  {
   "cell_type": "markdown",
   "source": [
    "### Problem 2"
   ],
   "metadata": {}
  },
  {
   "cell_type": "markdown",
   "source": [
    "##### Solution\n",
    "Below we interpolate the data given in the problem with our code, and a natural cubic spline. Then plot the curve, and then we print out the coefficients of the spline."
   ],
   "metadata": {}
  },
  {
   "cell_type": "code",
   "execution_count": 9,
   "source": [
    "# The Given Data\n",
    "t_j = [0, 0.618, 0.935, 1.255, 1.636, 1.905, 2.317, 2.827, 3.33]\n",
    "x_j = [1.5, 0.9, 0.6, 0.35, 0.2, 0.1, 0.5, 1, 1.5]\n",
    "y_j = [0.75, 0.9, 1, 0.8, 0.45, 0.2, 0.1, 0.2, 0.25]\n",
    "\n",
    "# Length\n",
    "n = len(y_j) - 1\n",
    "\n",
    "# Distance between parameterized intervals\n",
    "H = getHValues(t_j,n)\n",
    "\n",
    "# The first derivatives at each point\n",
    "dx = LinearSystem(H, x_j, n) \n",
    "dy = LinearSystem(H, y_j, n)\n",
    "\n",
    "# Creating the tri diagonal matrix\n",
    "A = TriDiagMatrix(H, n)\n",
    "\n",
    "# The values of t, x(t) are plotted within or tridiagonal solver\n",
    "z_x = TriDiagSolver(A, dx)\n",
    "a_x,b_x,c_x,d_x = FindSplineCoeffs(z_x,H,x_j,n)\n",
    "\n",
    "# The values of t, y(t) are plotted within or tridiagonal solver\n",
    "z_y = TriDiagSolver(A, dy)\n",
    "a_y, b_y, c_y, d_y= FindSplineCoeffs(z_y, H, y_j, n)\n",
    "\n",
    "# t values to plot at\n",
    "n_t = 100\n",
    "time = np.array([i*(3.330/n_t) for i in range(n_t)])\n",
    "\n",
    "# X spline\n",
    "S_x = np.array([Spline(t, t_j, a_x, b_x, c_x, d_x) for t in time])\n",
    "    \n",
    "# Y Spline\n",
    "S_y = np.array([Spline(t, t_j, a_y, b_y, c_y, d_y) for t in time])\n",
    "\n",
    "# Plotting\n",
    "plt.figure(figsize=(9,6))\n",
    "plt.title(\"Spline Interpolation of given data\")\n",
    "plt.plot(S_x, S_y);"
   ],
   "outputs": [
    {
     "output_type": "display_data",
     "data": {
      "text/plain": [
       "<Figure size 648x432 with 1 Axes>"
      ],
      "image/png": "[encoded data removed]"
     },
     "metadata": {
      "needs_background": "light"
     }
    }
   ],
   "metadata": {}
  },
  {
   "cell_type": "markdown",
   "source": [
    "The coefficients for the X Spline:"
   ],
   "metadata": {}
  },
  {
   "cell_type": "code",
   "execution_count": 10,
   "source": [
    "x_coeffs = pd.DataFrame(data = {\"A\":a_x,\"B\":b_x,\"C\":c_x,\"D\":d_x})\n",
    "x_coeffs"
   ],
   "outputs": [
    {
     "output_type": "execute_result",
     "data": {
      "text/plain": [
       "          A         B         C     D\n",
       "0  0.010604  0.000000 -0.974924  1.50\n",
       "1  0.101198  0.019660 -0.962774  0.90\n",
       "2  0.971593  0.115899 -0.917829  0.60\n",
       "3 -1.707982  1.048629 -0.545296  0.35\n",
       "4  5.288485 -0.903595 -0.511360  0.20\n",
       "5 -3.134092  3.364212  0.116812  0.10\n",
       "6  0.413950 -0.509526  1.132582  0.50\n",
       "7 -0.082053  0.123818  0.952515  1.00"
      ],
      "text/html": [
       "<div>\n",
       "<style scoped>\n",
       "    .dataframe tbody tr th:only-of-type {\n",
       "        vertical-align: middle;\n",
       "    }\n",
       "\n",
       "    .dataframe tbody tr th {\n",
       "        vertical-align: top;\n",
       "    }\n",
       "\n",
       "    .dataframe thead th {\n",
       "        text-align: right;\n",
       "    }\n",
       "</style>\n",
       "<table border=\"1\" class=\"dataframe\">\n",
       "  <thead>\n",
       "    <tr style=\"text-align: right;\">\n",
       "      <th></th>\n",
       "      <th>A</th>\n",
       "      <th>B</th>\n",
       "      <th>C</th>\n",
       "      <th>D</th>\n",
       "    </tr>\n",
       "  </thead>\n",
       "  <tbody>\n",
       "    <tr>\n",
       "      <th>0</th>\n",
       "      <td>0.010604</td>\n",
       "      <td>0.000000</td>\n",
       "      <td>-0.974924</td>\n",
       "      <td>1.50</td>\n",
       "    </tr>\n",
       "    <tr>\n",
       "      <th>1</th>\n",
       "      <td>0.101198</td>\n",
       "      <td>0.019660</td>\n",
       "      <td>-0.962774</td>\n",
       "      <td>0.90</td>\n",
       "    </tr>\n",
       "    <tr>\n",
       "      <th>2</th>\n",
       "      <td>0.971593</td>\n",
       "      <td>0.115899</td>\n",
       "      <td>-0.917829</td>\n",
       "      <td>0.60</td>\n",
       "    </tr>\n",
       "    <tr>\n",
       "      <th>3</th>\n",
       "      <td>-1.707982</td>\n",
       "      <td>1.048629</td>\n",
       "      <td>-0.545296</td>\n",
       "      <td>0.35</td>\n",
       "    </tr>\n",
       "    <tr>\n",
       "      <th>4</th>\n",
       "      <td>5.288485</td>\n",
       "      <td>-0.903595</td>\n",
       "      <td>-0.511360</td>\n",
       "      <td>0.20</td>\n",
       "    </tr>\n",
       "    <tr>\n",
       "      <th>5</th>\n",
       "      <td>-3.134092</td>\n",
       "      <td>3.364212</td>\n",
       "      <td>0.116812</td>\n",
       "      <td>0.10</td>\n",
       "    </tr>\n",
       "    <tr>\n",
       "      <th>6</th>\n",
       "      <td>0.413950</td>\n",
       "      <td>-0.509526</td>\n",
       "      <td>1.132582</td>\n",
       "      <td>0.50</td>\n",
       "    </tr>\n",
       "    <tr>\n",
       "      <th>7</th>\n",
       "      <td>-0.082053</td>\n",
       "      <td>0.123818</td>\n",
       "      <td>0.952515</td>\n",
       "      <td>1.00</td>\n",
       "    </tr>\n",
       "  </tbody>\n",
       "</table>\n",
       "</div>"
      ]
     },
     "metadata": {},
     "execution_count": 10
    }
   ],
   "metadata": {}
  },
  {
   "cell_type": "markdown",
   "source": [
    "The coefficients for the Y spline:"
   ],
   "metadata": {}
  },
  {
   "cell_type": "code",
   "execution_count": 11,
   "source": [
    "y_coeffs = pd.DataFrame(data = {\"A\":a_y,\"B\":b_y,\"C\":c_y,\"D\":d_y})\n",
    "y_coeffs"
   ],
   "outputs": [
    {
     "output_type": "execute_result",
     "data": {
      "text/plain": [
       "          A         B         C     D\n",
       "0  0.289737  0.000000  0.132061  0.75\n",
       "1 -3.173081  0.537172  0.464033  0.90\n",
       "2  2.605653 -2.480428 -0.098082  1.00\n",
       "3 -0.303232  0.021000 -0.882619  0.80\n",
       "4  2.174006 -0.325595 -0.999096  0.45\n",
       "5 -0.688765  1.428828 -0.714482  0.20\n",
       "6 -0.547783  0.577515  0.044024  0.10\n",
       "7  0.172692 -0.260593  0.186789  0.20"
      ],
      "text/html": [
       "<div>\n",
       "<style scoped>\n",
       "    .dataframe tbody tr th:only-of-type {\n",
       "        vertical-align: middle;\n",
       "    }\n",
       "\n",
       "    .dataframe tbody tr th {\n",
       "        vertical-align: top;\n",
       "    }\n",
       "\n",
       "    .dataframe thead th {\n",
       "        text-align: right;\n",
       "    }\n",
       "</style>\n",
       "<table border=\"1\" class=\"dataframe\">\n",
       "  <thead>\n",
       "    <tr style=\"text-align: right;\">\n",
       "      <th></th>\n",
       "      <th>A</th>\n",
       "      <th>B</th>\n",
       "      <th>C</th>\n",
       "      <th>D</th>\n",
       "    </tr>\n",
       "  </thead>\n",
       "  <tbody>\n",
       "    <tr>\n",
       "      <th>0</th>\n",
       "      <td>0.289737</td>\n",
       "      <td>0.000000</td>\n",
       "      <td>0.132061</td>\n",
       "      <td>0.75</td>\n",
       "    </tr>\n",
       "    <tr>\n",
       "      <th>1</th>\n",
       "      <td>-3.173081</td>\n",
       "      <td>0.537172</td>\n",
       "      <td>0.464033</td>\n",
       "      <td>0.90</td>\n",
       "    </tr>\n",
       "    <tr>\n",
       "      <th>2</th>\n",
       "      <td>2.605653</td>\n",
       "      <td>-2.480428</td>\n",
       "      <td>-0.098082</td>\n",
       "      <td>1.00</td>\n",
       "    </tr>\n",
       "    <tr>\n",
       "      <th>3</th>\n",
       "      <td>-0.303232</td>\n",
       "      <td>0.021000</td>\n",
       "      <td>-0.882619</td>\n",
       "      <td>0.80</td>\n",
       "    </tr>\n",
       "    <tr>\n",
       "      <th>4</th>\n",
       "      <td>2.174006</td>\n",
       "      <td>-0.325595</td>\n",
       "      <td>-0.999096</td>\n",
       "      <td>0.45</td>\n",
       "    </tr>\n",
       "    <tr>\n",
       "      <th>5</th>\n",
       "      <td>-0.688765</td>\n",
       "      <td>1.428828</td>\n",
       "      <td>-0.714482</td>\n",
       "      <td>0.20</td>\n",
       "    </tr>\n",
       "    <tr>\n",
       "      <th>6</th>\n",
       "      <td>-0.547783</td>\n",
       "      <td>0.577515</td>\n",
       "      <td>0.044024</td>\n",
       "      <td>0.10</td>\n",
       "    </tr>\n",
       "    <tr>\n",
       "      <th>7</th>\n",
       "      <td>0.172692</td>\n",
       "      <td>-0.260593</td>\n",
       "      <td>0.186789</td>\n",
       "      <td>0.20</td>\n",
       "    </tr>\n",
       "  </tbody>\n",
       "</table>\n",
       "</div>"
      ]
     },
     "metadata": {},
     "execution_count": 11
    }
   ],
   "metadata": {}
  }
 ],
 "metadata": {
  "kernelspec": {
   "display_name": "Python 3",
   "language": "python",
   "name": "python3"
  },
  "language_info": {
   "codemirror_mode": {
    "name": "ipython",
    "version": 3
   },
   "file_extension": ".py",
   "mimetype": "text/x-python",
   "name": "python",
   "nbconvert_exporter": "python",
   "pygments_lexer": "ipython3",
   "version": "3.8.2"
  }
 },
 "nbformat": 4,
 "nbformat_minor": 4
}